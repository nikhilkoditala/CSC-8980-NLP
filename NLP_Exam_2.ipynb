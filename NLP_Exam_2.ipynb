{
  "nbformat": 4,
  "nbformat_minor": 0,
  "metadata": {
    "colab": {
      "name": "NLP_Exam_2.ipynb",
      "provenance": [],
      "collapsed_sections": [],
      "authorship_tag": "ABX9TyOrQfnDa1B8LOwuk2STsNgN",
      "include_colab_link": true
    },
    "kernelspec": {
      "name": "python3",
      "display_name": "Python 3"
    },
    "language_info": {
      "name": "python"
    },
    "accelerator": "GPU"
  },
  "cells": [
    {
      "cell_type": "markdown",
      "metadata": {
        "id": "view-in-github",
        "colab_type": "text"
      },
      "source": [
        "<a href=\"https://colab.research.google.com/github/nikhilkoditala/CSC-8980-NLP/blob/main/NLP_Exam_2.ipynb\" target=\"_parent\"><img src=\"https://colab.research.google.com/assets/colab-badge.svg\" alt=\"Open In Colab\"/></a>"
      ]
    },
    {
      "cell_type": "markdown",
      "metadata": {
        "id": "XtJ9BfMtWP2g"
      },
      "source": [
        "# Name: Nikhil Koditala\n",
        "\n",
        "# Panther ID: 002571023"
      ]
    },
    {
      "cell_type": "code",
      "metadata": {
        "id": "HV10S8KSWFIf"
      },
      "source": [
        "import os\n",
        "from sklearn.model_selection import train_test_split\n",
        "import pandas as pd\n",
        "import numpy as np\n",
        "import sklearn.metrics\n",
        "from sklearn.metrics.pairwise import cosine_similarity\n",
        "import matplotlib.pyplot as plt\n",
        "import seaborn as sb\n",
        "import spacy\n",
        "\n",
        "from collections import Counter, defaultdict\n",
        "from itertools import tee"
      ],
      "execution_count": 3,
      "outputs": []
    },
    {
      "cell_type": "code",
      "metadata": {
        "id": "_Qoa8P2Tonfy"
      },
      "source": [
        "# vectorization methods\n",
        "from sklearn.feature_extraction.text import TfidfVectorizer, CountVectorizer"
      ],
      "execution_count": 4,
      "outputs": []
    },
    {
      "cell_type": "markdown",
      "metadata": {
        "id": "ncHfjmKBbnYs"
      },
      "source": [
        "**Question 1) (20 points) Write a function that takes a List of five words: [‘apple’, ‘house’, ‘pear’, ‘dog’, ‘doctor’] and returns a list of lists with each element being a word and a list of the top five most similar words. For this task you have to use the most suitable method of the ones we have seen in class to determine the most similar words to the original input list. You can use a pre-trained resource if you think is appropriate. After calling your function, print the most similar words to the screen.**"
      ]
    },
    {
      "cell_type": "code",
      "metadata": {
        "colab": {
          "base_uri": "https://localhost:8080/"
        },
        "id": "_Weso59rWWbF",
        "outputId": "0f119583-2da3-41d1-b74b-b7f4c77c6e1a"
      },
      "source": [
        "!gdown --id 0B7XkCwpI5KDYNlNUTTlSS21pQmM"
      ],
      "execution_count": null,
      "outputs": [
        {
          "output_type": "stream",
          "text": [
            "Downloading...\n",
            "From: https://drive.google.com/uc?id=0B7XkCwpI5KDYNlNUTTlSS21pQmM\n",
            "To: /content/GoogleNews-vectors-negative300.bin.gz\n",
            "1.65GB [00:10, 153MB/s]\n"
          ],
          "name": "stdout"
        }
      ]
    },
    {
      "cell_type": "code",
      "metadata": {
        "colab": {
          "base_uri": "https://localhost:8080/"
        },
        "id": "tPUUMLy4WWYv",
        "outputId": "97db6c71-9fe3-4d3d-d7dc-3ad186d79e6b"
      },
      "source": [
        "!gunzip /content/GoogleNews-vectors-negative300.bin.gz"
      ],
      "execution_count": null,
      "outputs": [
        {
          "output_type": "stream",
          "text": [
            "gzip: /content/GoogleNews-vectors-negative300.bin.gz: No such file or directory\n"
          ],
          "name": "stdout"
        }
      ]
    },
    {
      "cell_type": "code",
      "metadata": {
        "id": "fEx28oMcdB-l"
      },
      "source": [
        "from gensim.models import KeyedVectors\n",
        "filename = '/content/GoogleNews-vectors-negative300.bin'\n",
        "model = KeyedVectors.load_word2vec_format(filename, binary=True)"
      ],
      "execution_count": null,
      "outputs": []
    },
    {
      "cell_type": "code",
      "metadata": {
        "id": "BzleX3JCdEbr"
      },
      "source": [
        "def most_similar(input_list):\n",
        "  res_list = []\n",
        "  for word in input_list:\n",
        "    temp = []\n",
        "    sim_words = model.most_similar(word)[:5]\n",
        "    for d in sim_words:\n",
        "      temp.append(d[0])\n",
        "    res = [word]\n",
        "    res.append(temp)\n",
        "    res_list.append(res)\n",
        "  return res_list"
      ],
      "execution_count": null,
      "outputs": []
    },
    {
      "cell_type": "code",
      "metadata": {
        "id": "58LiBQ5SdtLL"
      },
      "source": [
        "input_list = ['apple', 'house', 'pear', 'dog', 'doctor']"
      ],
      "execution_count": null,
      "outputs": []
    },
    {
      "cell_type": "code",
      "metadata": {
        "colab": {
          "base_uri": "https://localhost:8080/"
        },
        "id": "2DjQaYBLefJZ",
        "outputId": "326d8673-bb81-43e9-a9e7-59f756003509"
      },
      "source": [
        "res_list = most_similar(input_list)"
      ],
      "execution_count": null,
      "outputs": [
        {
          "output_type": "stream",
          "text": [
            "/usr/local/lib/python3.7/dist-packages/gensim/matutils.py:737: FutureWarning: Conversion of the second argument of issubdtype from `int` to `np.signedinteger` is deprecated. In future, it will be treated as `np.int64 == np.dtype(int).type`.\n",
            "  if np.issubdtype(vec.dtype, np.int):\n"
          ],
          "name": "stderr"
        }
      ]
    },
    {
      "cell_type": "code",
      "metadata": {
        "colab": {
          "base_uri": "https://localhost:8080/"
        },
        "id": "s6zFWNcve5_4",
        "outputId": "67acbe1e-9e32-4bed-da06-e661cea10a7c"
      },
      "source": [
        "res_list"
      ],
      "execution_count": null,
      "outputs": [
        {
          "output_type": "execute_result",
          "data": {
            "text/plain": [
              "[['apple', ['apples', 'pear', 'fruit', 'berry', 'pears']],\n",
              " ['house', ['houses', 'bungalow', 'apartment', 'bedroom', 'townhouse']],\n",
              " ['pear', ['pears', 'apricot', 'apricots', 'nectarine', 'Fuji_apple']],\n",
              " ['dog', ['dogs', 'puppy', 'pit_bull', 'pooch', 'cat']],\n",
              " ['doctor', ['physician', 'doctors', 'gynecologist', 'surgeon', 'dentist']]]"
            ]
          },
          "metadata": {
            "tags": []
          },
          "execution_count": 28
        }
      ]
    },
    {
      "cell_type": "markdown",
      "metadata": {
        "id": "qSbtaXnAfJbA"
      },
      "source": [
        "**Are these ‘similar’ words actually similar? If not, why not? What do you think can be improved and how - talk about it, do not necessarily implement it?**"
      ]
    },
    {
      "cell_type": "markdown",
      "metadata": {
        "id": "_jOvhsAXEXeS"
      },
      "source": [
        "The above approach of using word2vec and finding similar words was giving good results. For each of the input word, it is able to find a related word. For example, given doctors the model returned different types of doctors.\n",
        "\n",
        "Despite the advantages, word2vec doesn't provide context sensitive embeddings which is one disadvantage. Modesl such as ELMO and BERT were able to handle context sensitivity better."
      ]
    },
    {
      "cell_type": "markdown",
      "metadata": {
        "id": "BP03nVG5bqWe"
      },
      "source": [
        "\n",
        "**Question 2) (30 points) Using the Homework 2 dataset, also attached in the Exam 2 files, shakespeares-works_TXT_FolgerShakespeare.zip.**\n"
      ]
    },
    {
      "cell_type": "code",
      "metadata": {
        "id": "G4J_UpmgkBTu"
      },
      "source": [
        "!unzip '/content/shakespeares-works_TXT_FolgerShakespeare.zip' -d 'shakespeares-works_TXT_FolgerShakespeare'"
      ],
      "execution_count": null,
      "outputs": []
    },
    {
      "cell_type": "code",
      "metadata": {
        "id": "BP7upBlzkR2u"
      },
      "source": [
        "file_paths = os.listdir('/content/shakespeares-works_TXT_FolgerShakespeare') "
      ],
      "execution_count": null,
      "outputs": []
    },
    {
      "cell_type": "code",
      "metadata": {
        "id": "97Sdx0rMkpvt"
      },
      "source": [
        "file_paths"
      ],
      "execution_count": null,
      "outputs": []
    },
    {
      "cell_type": "markdown",
      "metadata": {
        "id": "0HvM5CRog6UU"
      },
      "source": [
        "a) Cosine similarity. And create a 42 x 42 heatmap of these similarities.\n"
      ]
    },
    {
      "cell_type": "code",
      "metadata": {
        "id": "x1BX_6ckhAo3"
      },
      "source": [
        "text = []\n",
        "for path in file_paths:\n",
        "  if(path.split('.')[-1] == 'txt'):\n",
        "    f = open(os.path.join('/content/shakespeares-works_TXT_FolgerShakespeare',path),'r') \n",
        "    text.append(f.read())"
      ],
      "execution_count": null,
      "outputs": []
    },
    {
      "cell_type": "code",
      "metadata": {
        "id": "50XoF_SHbqFF"
      },
      "source": [
        "def build_cosine(documents):\n",
        "  tfidf = TfidfVectorizer()\n",
        "  matrix = tfidf.fit_transform(documents) \n",
        "  matrix = matrix.astype(np.float32) # converting matrix to float32 to use Google Colab RAM efficiently\n",
        "  return cosine_similarity(matrix,matrix)"
      ],
      "execution_count": null,
      "outputs": []
    },
    {
      "cell_type": "code",
      "metadata": {
        "id": "wkrfL-IUoqpZ"
      },
      "source": [
        "cosine_matrix = build_cosine(text)"
      ],
      "execution_count": null,
      "outputs": []
    },
    {
      "cell_type": "code",
      "metadata": {
        "colab": {
          "base_uri": "https://localhost:8080/"
        },
        "id": "LpxBnmc3zKWO",
        "outputId": "c89867a9-33e8-48ff-d7b2-d020a8731c62"
      },
      "source": [
        "cosine_matrix"
      ],
      "execution_count": null,
      "outputs": [
        {
          "output_type": "execute_result",
          "data": {
            "text/plain": [
              "array([[0.99999666, 0.4866196 , 0.49917883, ..., 0.6020113 , 0.587446  ,\n",
              "        0.4946799 ],\n",
              "       [0.4866196 , 0.9999977 , 0.47067878, ..., 0.59251404, 0.57559925,\n",
              "        0.46439424],\n",
              "       [0.49917883, 0.47067878, 0.99999815, ..., 0.58301455, 0.5659723 ,\n",
              "        0.481636  ],\n",
              "       ...,\n",
              "       [0.6020113 , 0.59251404, 0.58301455, ..., 1.0000024 , 0.843792  ,\n",
              "        0.57159185],\n",
              "       [0.587446  , 0.57559925, 0.5659723 , ..., 0.843792  , 0.99999976,\n",
              "        0.5546956 ],\n",
              "       [0.4946799 , 0.46439424, 0.481636  , ..., 0.57159185, 0.5546956 ,\n",
              "        0.99999964]], dtype=float32)"
            ]
          },
          "metadata": {
            "tags": []
          },
          "execution_count": 36
        }
      ]
    },
    {
      "cell_type": "code",
      "metadata": {
        "colab": {
          "base_uri": "https://localhost:8080/",
          "height": 286
        },
        "id": "dYLo7kZTpEf3",
        "outputId": "7770ce36-25ed-4edb-e77d-ad88ddbc552d"
      },
      "source": [
        "# Plotting a continuous heatmap\n",
        "plt.imshow(cosine_matrix, cmap='viridis')\n",
        "plt.colorbar()"
      ],
      "execution_count": null,
      "outputs": [
        {
          "output_type": "execute_result",
          "data": {
            "text/plain": [
              "<matplotlib.colorbar.Colorbar at 0x7f37ddfbc590>"
            ]
          },
          "metadata": {
            "tags": []
          },
          "execution_count": 19
        },
        {
          "output_type": "display_data",
          "data": {
            "image/png": "[encoded data removed]",
            "text/plain": [
              "<Figure size 432x288 with 2 Axes>"
            ]
          },
          "metadata": {
            "tags": [],
            "needs_background": "light"
          }
        }
      ]
    },
    {
      "cell_type": "markdown",
      "metadata": {
        "id": "q7c6JEd_g8Uc"
      },
      "source": [
        "b) Use Doc2Vec to create document embeddings and find the similarities between the\n",
        "documents. To visualize this, also create a 42 x 42 heatmap for this.\n"
      ]
    },
    {
      "cell_type": "code",
      "metadata": {
        "colab": {
          "base_uri": "https://localhost:8080/"
        },
        "id": "bhC_hyMBhAVa",
        "outputId": "fec97ca3-d8a9-4e00-a603-48842458a631"
      },
      "source": [
        "from gensim.models.doc2vec import Doc2Vec, TaggedDocument\n",
        "from nltk.tokenize import word_tokenize\n",
        "import nltk\n",
        "nltk.download('punkt')"
      ],
      "execution_count": null,
      "outputs": [
        {
          "output_type": "stream",
          "text": [
            "[nltk_data] Downloading package punkt to /root/nltk_data...\n",
            "[nltk_data]   Unzipping tokenizers/punkt.zip.\n"
          ],
          "name": "stdout"
        },
        {
          "output_type": "execute_result",
          "data": {
            "text/plain": [
              "True"
            ]
          },
          "metadata": {
            "tags": []
          },
          "execution_count": 24
        }
      ]
    },
    {
      "cell_type": "code",
      "metadata": {
        "id": "b2RUkAdobqB9"
      },
      "source": [
        "model = Doc2Vec(vector_size=50, min_count=2, epochs=40)"
      ],
      "execution_count": null,
      "outputs": []
    },
    {
      "cell_type": "code",
      "metadata": {
        "id": "YAVKGASFs6D4"
      },
      "source": [
        "tagged_data = [TaggedDocument(words=word_tokenize(_d.lower()), tags=[str(i)]) for i, _d in enumerate(text)]"
      ],
      "execution_count": null,
      "outputs": []
    },
    {
      "cell_type": "code",
      "metadata": {
        "id": "ou7gApHZs5-P"
      },
      "source": [
        "max_epochs = 50\n",
        "vec_size = 50\n",
        "alpha = 0.025\n",
        "\n",
        "model = Doc2Vec(size=vec_size,\n",
        "                alpha=alpha, \n",
        "                min_alpha=0.00025,\n",
        "                min_count=1,\n",
        "                dm =1)\n",
        "  \n",
        "model.build_vocab(tagged_data)\n",
        "\n",
        "for epoch in range(max_epochs):\n",
        "    print('iteration {0}'.format(epoch))\n",
        "    model.train(tagged_data,\n",
        "                total_examples=model.corpus_count,\n",
        "                epochs=model.iter)\n",
        "    # decrease the learning rate\n",
        "    model.alpha -= 0.0002\n",
        "    # fix the learning rate, no decay\n",
        "    model.min_alpha = model.alpha"
      ],
      "execution_count": null,
      "outputs": []
    },
    {
      "cell_type": "code",
      "metadata": {
        "colab": {
          "base_uri": "https://localhost:8080/"
        },
        "id": "IQloWHcMurUR",
        "outputId": "d83c843e-c44e-4db0-b0b8-67fd92663863"
      },
      "source": [
        "similar_doc = model.docvecs.most_similar('1',topn=42)\n",
        "print(similar_doc)"
      ],
      "execution_count": null,
      "outputs": [
        {
          "output_type": "stream",
          "text": [
            "[('16', 0.5943615436553955), ('22', 0.5071779489517212), ('8', 0.44327008724212646), ('35', 0.4279804527759552), ('24', 0.41615694761276245), ('6', 0.3888361155986786), ('41', 0.3839137554168701), ('10', 0.36380112171173096), ('23', 0.3516691327095032), ('36', 0.3426838517189026), ('4', 0.33621886372566223), ('27', 0.3330827057361603), ('29', 0.31400981545448303), ('38', 0.3123456537723541), ('13', 0.3041009306907654), ('15', 0.29997700452804565), ('7', 0.2931181788444519), ('26', 0.28913718461990356), ('17', 0.28217384219169617), ('18', 0.25904858112335205), ('14', 0.2579059600830078), ('28', 0.2569320797920227), ('34', 0.2515232563018799), ('25', 0.24071824550628662), ('40', 0.22631502151489258), ('32', 0.22534795105457306), ('11', 0.20163612067699432), ('9', 0.20004338026046753), ('12', 0.1932675987482071), ('19', 0.1811007261276245), ('39', 0.1675184667110443), ('30', 0.15248458087444305), ('20', 0.1394958794116974), ('31', 0.1368507295846939), ('2', 0.11948559433221817), ('3', 0.10222337394952774), ('33', 0.09295283257961273), ('0', 0.07578872889280319), ('5', 0.07058395445346832), ('21', 0.058475904166698456), ('37', 0.05830460041761398)]\n"
          ],
          "name": "stdout"
        },
        {
          "output_type": "stream",
          "text": [
            "/usr/local/lib/python3.7/dist-packages/gensim/matutils.py:737: FutureWarning: Conversion of the second argument of issubdtype from `int` to `np.signedinteger` is deprecated. In future, it will be treated as `np.int64 == np.dtype(int).type`.\n",
            "  if np.issubdtype(vec.dtype, np.int):\n"
          ],
          "name": "stderr"
        }
      ]
    },
    {
      "cell_type": "code",
      "metadata": {
        "id": "EfjmU8hgzW-6"
      },
      "source": [
        "cosine_matrix_d2v = [[1 for i in range(42)] for j in range(42)]"
      ],
      "execution_count": null,
      "outputs": []
    },
    {
      "cell_type": "code",
      "metadata": {
        "colab": {
          "base_uri": "https://localhost:8080/"
        },
        "id": "LiTA4rGN75bX",
        "outputId": "cbcaa0a2-eb5d-409a-c81d-a402f858db1b"
      },
      "source": [
        "for i in range(42):\n",
        "  similar_doc = model.docvecs.most_similar(i,topn=42)\n",
        "  for sim in similar_doc:\n",
        "    cosine_matrix_d2v[i][int(sim[0])] = sim[1]"
      ],
      "execution_count": null,
      "outputs": [
        {
          "output_type": "stream",
          "text": [
            "/usr/local/lib/python3.7/dist-packages/gensim/matutils.py:737: FutureWarning: Conversion of the second argument of issubdtype from `int` to `np.signedinteger` is deprecated. In future, it will be treated as `np.int64 == np.dtype(int).type`.\n",
            "  if np.issubdtype(vec.dtype, np.int):\n"
          ],
          "name": "stderr"
        }
      ]
    },
    {
      "cell_type": "code",
      "metadata": {
        "colab": {
          "base_uri": "https://localhost:8080/",
          "height": 286
        },
        "id": "eElVI79s6oVN",
        "outputId": "9102e786-c9d8-4d16-c1f7-dcebdeb2d500"
      },
      "source": [
        "# Plotting a continuous heatmap\n",
        "plt.imshow(cosine_matrix_d2v, cmap='viridis')\n",
        "plt.colorbar()"
      ],
      "execution_count": null,
      "outputs": [
        {
          "output_type": "execute_result",
          "data": {
            "text/plain": [
              "<matplotlib.colorbar.Colorbar at 0x7f37c8d82b90>"
            ]
          },
          "metadata": {
            "tags": []
          },
          "execution_count": 60
        },
        {
          "output_type": "display_data",
          "data": {
            "image/png": "[encoded data removed]",
            "text/plain": [
              "<Figure size 432x288 with 2 Axes>"
            ]
          },
          "metadata": {
            "tags": [],
            "needs_background": "light"
          }
        }
      ]
    },
    {
      "cell_type": "markdown",
      "metadata": {
        "id": "wZCQ-iLBg-Dk"
      },
      "source": [
        "c) What are the differences you find between the two methods? Is there anything radically different? Please describe your answer in terms of the heatmap of part a and part b."
      ]
    },
    {
      "cell_type": "markdown",
      "metadata": {
        "id": "elWo5IpnFzoH"
      },
      "source": [
        "The cosine similarity matrix looks more smoother, where as the matrix built from doc2vec has a lot of discontinuity in it. The similarity of doc2vec were better than that of the ones with cosine, as there are no common patterns there."
      ]
    },
    {
      "cell_type": "markdown",
      "metadata": {
        "id": "38xCER9fgsUB"
      },
      "source": [
        "Question 3) (30 points) Using the Homework 2 dataset. Use SpaCy to extract the following: \n",
        "\n",
        "a) Write a function to generate all unique bigrams from all documents in the dataset. The input of this function should be the concatenated dataset and the output should be the list of bigrams and their frequency. Display the top 10 most common bigrams and their frequency.\n",
        "\n"
      ]
    },
    {
      "cell_type": "code",
      "metadata": {
        "id": "2_Vc3xHuLIv3"
      },
      "source": [
        "import spacy\n",
        "import os\n",
        "from collections import Counter, defaultdict\n",
        "from itertools import tee\n",
        "\n",
        "nlp = spacy.load('en_core_web_sm')"
      ],
      "execution_count": 14,
      "outputs": []
    },
    {
      "cell_type": "code",
      "metadata": {
        "id": "QEMDJi9xgxVn"
      },
      "source": [
        "!unzip '/content/shakespeares-works_TXT_FolgerShakespeare.zip' -d 'shakespeares-works_TXT_FolgerShakespeare'"
      ],
      "execution_count": null,
      "outputs": []
    },
    {
      "cell_type": "code",
      "metadata": {
        "id": "MVX6fnl2IbTQ"
      },
      "source": [
        "file_paths = os.listdir('/content/shakespeares-works_TXT_FolgerShakespeare') "
      ],
      "execution_count": 16,
      "outputs": []
    },
    {
      "cell_type": "code",
      "metadata": {
        "id": "XXeZAOx1IbNM"
      },
      "source": [
        "text_q3 = ''\n",
        "for path in file_paths:\n",
        "  if(path.split('.')[-1] == 'txt'):\n",
        "    f = open(os.path.join('/content/shakespeares-works_TXT_FolgerShakespeare',path),'r') \n",
        "    text_q3 += f.read()"
      ],
      "execution_count": 17,
      "outputs": []
    },
    {
      "cell_type": "code",
      "metadata": {
        "id": "hS-q4plumk7O"
      },
      "source": [
        "# helper functions\n",
        "def make_trigrams(iterator):\n",
        "    a, b, c = tee(iterator, 3)\n",
        "    next(b)\n",
        "    next(c)\n",
        "    next(c)\n",
        "    return zip(a, b, c)\n",
        "\n",
        "def make_bigrams(iterator):\n",
        "    a, b = tee(iterator, 2)\n",
        "    next(b)\n",
        "    return zip(a, b)\n",
        "\n",
        "def make_unigrams(iterator):\n",
        "    return iterator"
      ],
      "execution_count": 18,
      "outputs": []
    },
    {
      "cell_type": "code",
      "metadata": {
        "id": "eU_79AVbmjzc"
      },
      "source": [
        "def split(a, n):\n",
        "    k, m = divmod(len(a), n)\n",
        "    return (a[i*k+min(i, m):(i+1)*k+min(i+1, m)] for i in range(n))\n",
        "\n",
        "def uni_bi_tri_counter(doc):\n",
        "    # print(doc)\n",
        "    tokenized = nlp.tokenizer.pipe([doc])\n",
        "    tokenized = [t.text for d in tokenized for t in d]\n",
        "    return Counter(make_unigrams(tokenized)), Counter(make_bigrams(tokenized)), Counter(make_trigrams(tokenized))"
      ],
      "execution_count": 19,
      "outputs": []
    },
    {
      "cell_type": "code",
      "metadata": {
        "id": "3f9EoAmdm_cM"
      },
      "source": [
        "def bigram_gen(data):\n",
        "  data_list = data.split('.')\n",
        "  data_list = split(data_list,10)\n",
        "  bigram_counter = Counter()\n",
        "\n",
        "  for cur_data in data_list:\n",
        "    cur_data += ' .'\n",
        "    cur_data = ' . '.join(cur_data)\n",
        "    cur_unigram_counter, cur_bigram_counter, cur_trigram_counter = uni_bi_tri_counter(cur_data)\n",
        "    bigram_counter += cur_bigram_counter\n",
        "  return bigram_counter"
      ],
      "execution_count": 22,
      "outputs": []
    },
    {
      "cell_type": "code",
      "metadata": {
        "id": "MqfBEnKOoIOE"
      },
      "source": [
        "bigram_counter = bigram_gen(text_q3)"
      ],
      "execution_count": 23,
      "outputs": []
    },
    {
      "cell_type": "code",
      "metadata": {
        "colab": {
          "base_uri": "https://localhost:8080/",
          "height": 0
        },
        "id": "Lb-tL2F3oepH",
        "outputId": "2728b8b3-d111-4daa-d433-555b9a6657ed"
      },
      "source": [
        "print(bigram_counter.most_common(10))"
      ],
      "execution_count": 24,
      "outputs": [
        {
          "output_type": "stream",
          "text": [
            "[((',', '\\n'), 23309), (('.', '\\n\\n'), 21552), (('.', ' '), 16138), (('.', '\\n'), 14622), ((',', 'and'), 7240), (('\\n', 'And'), 7145), (('.', ']'), 6767), (('=', '='), 6322), (('?', '\\n\\n'), 6044), (('\\n', 'I'), 4330)]\n"
          ],
          "name": "stdout"
        }
      ]
    },
    {
      "cell_type": "markdown",
      "metadata": {
        "id": "pOuBPcmfGnOe"
      },
      "source": [
        "b) Write a function to generate all unique trigrams from all documents in the dataset. The input of this function should be the concatenated dataset and the output should be the list of trigrams and their frequency. Display the top 10 most common trigrams and their frequency.\n",
        "\n"
      ]
    },
    {
      "cell_type": "code",
      "metadata": {
        "id": "Yx5EC029gxNY"
      },
      "source": [
        "def trigram_gen(data):\n",
        "  data_list = data.split('.')\n",
        "  data_list = split(data_list,10)\n",
        "  trigram_counter = Counter()\n",
        "  for cur_data in data_list:\n",
        "    cur_data += ' .'\n",
        "    cur_data = ' . '.join(cur_data)\n",
        "    cur_unigram_counter, cur_bigram_counter, cur_trigram_counter = uni_bi_tri_counter(cur_data)\n",
        "    trigram_counter += cur_trigram_counter\n",
        "\n",
        "  return trigram_counter"
      ],
      "execution_count": 25,
      "outputs": []
    },
    {
      "cell_type": "code",
      "metadata": {
        "id": "H4FL_SGWot-p"
      },
      "source": [
        "trigram_counter = trigram_gen(text_q3)"
      ],
      "execution_count": 26,
      "outputs": []
    },
    {
      "cell_type": "code",
      "metadata": {
        "colab": {
          "base_uri": "https://localhost:8080/",
          "height": 0
        },
        "id": "tfqoN_1ioxwb",
        "outputId": "66eb5b9a-d981-4cf2-926f-4acdd58c69b3"
      },
      "source": [
        "print(trigram_counter.most_common(10))"
      ],
      "execution_count": 27,
      "outputs": [
        {
          "output_type": "stream",
          "text": [
            "[(('=', '=', '='), 5309), ((',', '\\n', 'And'), 3568), (('.', ']', '\\n\\n'), 2965), (('.', '\\n', '['), 2556), (('.', ']', '\\n\\n\\n'), 2189), (('.', ' ', 'I'), 2006), (('\\n\\n', '[', 'Enter'), 1515), (('.', '\\n', 'I'), 1133), (('.', '\\n\\n', '['), 1092), (('.', ']', '\\n'), 1016)]\n"
          ],
          "name": "stdout"
        }
      ]
    },
    {
      "cell_type": "markdown",
      "metadata": {
        "id": "vQOBm9oQGpsc"
      },
      "source": [
        "c) Write a function to extract all unique NOUN and VERB tokens. The input of this function should be the concatenated dataset and the output should be two lists: one of the NOUN tokens and their frequency, the other list should be the VERB tokens and their counts. Display the top 10 most common NOUN and VERB tokens.\n"
      ]
    },
    {
      "cell_type": "code",
      "metadata": {
        "id": "50Tib2OAnyxU"
      },
      "source": [
        "def noun_verb_counter(doc):\n",
        "  tokenized = nlp(doc)\n",
        "  verb_tokens = [token.text for token in tokenized if token.pos_ == \"VERB\"]\n",
        "  noun_tokens = [token.text for token in tokenized if token.pos_ == \"NOUN\"]\n",
        "  return Counter(noun_tokens), Counter(verb_tokens)"
      ],
      "execution_count": 28,
      "outputs": []
    },
    {
      "cell_type": "code",
      "metadata": {
        "id": "b4jAe5_vGpfu"
      },
      "source": [
        "def count_noun_verb(data):\n",
        "  data_list = data.split('.')\n",
        "  data_list = split(data_list,10)\n",
        "  noun_counter = Counter()\n",
        "  verb_counter = Counter()\n",
        "  for cur_data in data_list:\n",
        "    cur_data += ' .'\n",
        "    cur_data = ' . '.join(cur_data)\n",
        "    cur_noun_counter, cur_verb_counter = noun_verb_counter(cur_data)\n",
        "    noun_counter += cur_noun_counter\n",
        "    verb_counter += cur_verb_counter\n",
        "  # print(\"Top 10 Nouns:\")\n",
        "  # print(noun_counter.most_common(10))\n",
        "  # print(\"Top 10 Verbs:\")\n",
        "  # print(verb_counter.most_common(10))\n",
        "\n",
        "  return noun_counter, verb_counter\n",
        "\n"
      ],
      "execution_count": 30,
      "outputs": []
    },
    {
      "cell_type": "code",
      "metadata": {
        "id": "s_yh8OJWo9gw"
      },
      "source": [
        "noun_counter, verb_counter = count_noun_verb(text_q3)"
      ],
      "execution_count": 31,
      "outputs": []
    },
    {
      "cell_type": "code",
      "metadata": {
        "colab": {
          "base_uri": "https://localhost:8080/",
          "height": 0
        },
        "id": "oZjj4Tahpuln",
        "outputId": "2296188f-2aff-4506-dd31-cb9e579cf1a5"
      },
      "source": [
        "noun_counter.most_common(10)"
      ],
      "execution_count": 32,
      "outputs": [
        {
          "output_type": "execute_result",
          "data": {
            "text/plain": [
              "[('man', 2008),\n",
              " ('love', 1578),\n",
              " ('sir', 1307),\n",
              " ('t', 1179),\n",
              " ('heart', 1106),\n",
              " ('time', 1085),\n",
              " ('father', 1031),\n",
              " ('men', 976),\n",
              " ('life', 943),\n",
              " ('lord', 940)]"
            ]
          },
          "metadata": {
            "tags": []
          },
          "execution_count": 32
        }
      ]
    },
    {
      "cell_type": "code",
      "metadata": {
        "colab": {
          "base_uri": "https://localhost:8080/",
          "height": 0
        },
        "id": "vWl9AsSPp2Qh",
        "outputId": "91a2fff2-76fa-4902-f368-db573c7de791"
      },
      "source": [
        "verb_counter.most_common(10)"
      ],
      "execution_count": 33,
      "outputs": [
        {
          "output_type": "execute_result",
          "data": {
            "text/plain": [
              "[('will', 4455),\n",
              " ('shall', 3353),\n",
              " (\"'ll\", 2598),\n",
              " ('would', 2168),\n",
              " ('can', 1902),\n",
              " ('know', 1681),\n",
              " ('come', 1583),\n",
              " ('make', 1578),\n",
              " ('Enter', 1557),\n",
              " ('may', 1549)]"
            ]
          },
          "metadata": {
            "tags": []
          },
          "execution_count": 33
        }
      ]
    },
    {
      "cell_type": "markdown",
      "metadata": {
        "id": "DVRuQqmAGswR"
      },
      "source": [
        "d) What do you think the most common bigrams and trigrams could be useful for? There is a particular method we have seen in this class to characterize a corpus that could benefit from having these bigrams/trigrams when the underlying text corpus can’t be shared. Please talk about this."
      ]
    },
    {
      "cell_type": "markdown",
      "metadata": {
        "id": "4tFxCyO1BvWE"
      },
      "source": [
        "Bigrams and trigrams are most commonly used for wide range of NLP tasks such as sentiment analysis and speech recognition.\n",
        "\n",
        "In text autofill tasks, where the model has to predict the next word based on current context bigrams and trigrams will be very useful. For every search, you don't have to parse through the entire dataset and find next word. you can just predict next word by ranking ngrams via frequency. "
      ]
    },
    {
      "cell_type": "markdown",
      "metadata": {
        "id": "DNxV9O9gWaQ_"
      },
      "source": [
        "Question 4) (30 points) Using the dataset: Ask0729, found in Exam files, write two functions to extract all dates found in this dataset. The input of these functions should take the dataset as input, and output a list of dates. You should use two different methods, one per function.\n",
        "\n",
        "a) First method: using SpaCy (this is a big enough hint)\n"
      ]
    },
    {
      "cell_type": "code",
      "metadata": {
        "id": "Ezdw9AQTqejG"
      },
      "source": [
        "with open('/content/Ask0729-fixed.txt', 'r') as file:\n",
        "  data_4 = file.read()"
      ],
      "execution_count": 34,
      "outputs": []
    },
    {
      "cell_type": "code",
      "metadata": {
        "id": "7RN_fQuKqSYp"
      },
      "source": [
        "def spacy_date_detection(data):\n",
        "  dates = []\n",
        "  nlp = spacy.load(\"en_core_web_sm\")\n",
        "  doc = nlp(data)\n",
        "\n",
        "  for ent in doc.ents:\n",
        "    if(ent.label_ == 'DATE'):\n",
        "      dates.append((ent.text, ent.start_char, ent.end_char, ent.label_))\n",
        "  \n",
        "  return dates"
      ],
      "execution_count": 35,
      "outputs": []
    },
    {
      "cell_type": "code",
      "metadata": {
        "id": "5n04gYo_qmnM"
      },
      "source": [
        "spacy_dates = spacy_date_detection(data_4)"
      ],
      "execution_count": 37,
      "outputs": []
    },
    {
      "cell_type": "code",
      "metadata": {
        "colab": {
          "base_uri": "https://localhost:8080/",
          "height": 0
        },
        "id": "-VrtIwk4r8GN",
        "outputId": "3589e17e-a8d5-4787-a12c-aa323cfb04eb"
      },
      "source": [
        "len(spacy_dates)"
      ],
      "execution_count": 50,
      "outputs": [
        {
          "output_type": "execute_result",
          "data": {
            "text/plain": [
              "1033"
            ]
          },
          "metadata": {
            "tags": []
          },
          "execution_count": 50
        }
      ]
    },
    {
      "cell_type": "markdown",
      "metadata": {
        "id": "lek8_2nJqS0s"
      },
      "source": [
        "b) Second method: using regular expressions.\n"
      ]
    },
    {
      "cell_type": "code",
      "metadata": {
        "id": "p6LqY8fXq77X"
      },
      "source": [
        "import re"
      ],
      "execution_count": 39,
      "outputs": []
    },
    {
      "cell_type": "code",
      "metadata": {
        "id": "xevVGfe9WWWY"
      },
      "source": [
        "def regex_date_detection(s):\n",
        "  # x=re.find(\"^([1-9]|1[0-9]| 2[0-9]|3[0-1])(.|-)([1-9] |1[0-2])(.|-|)20[0-9][0-9]$\",\"hey 13-11-2017 ki\")\n",
        "  # x = re.findall(\"([1-9]|0[1-9]|1[0-9]|2[0-9]|3[0-1])(\\.|-|/)([1-9]|0[1-9]|1[0-2])(\\.|-|/)([0-9][0-9]|19[0-9][0-9]|20[0-9][0-9])$|^([0-9][0-9]|19[0-9][0-9]|20[0-9][0-9])(\\.|-|/)([1-9]|0[1-9]|1[0-2])(\\.|-|/)([1-9]|0[1-9]|1[0-9]|2[0-9]|3[0-1])\",'hey 01/01/2018')\n",
        "  # print(x.group())\n",
        "  # match = re.search(r'\\d{4}-\\d{2}-\\d{2}', \"hello 01-01-2018 01-01-2018\")\n",
        "  month_regex = \"(0?[1-9]|1[0-2])\"\n",
        "  day_regex = \"(0?[1-9]|1[0-9]|2[0-9])\"\n",
        "\n",
        "  p1 = re.findall(\"(0?[1-9]|1[0-2])-(0?[1-9]|1[0-9]|2[0-9])\",s)\n",
        "\n",
        "  p2 = re.findall(day_regex,s)\n",
        "\n",
        "  match = re.findall('\\d{4}-\\d{2}-\\d{2}', s) + re.findall('\\d{2}-\\d{2}-\\d{4}', s) + re.findall('\\d{2}/\\d{2}/\\d{4}', s) + re.findall('\\d{4}/\\d{2}/\\d{2}', s)\n",
        "  p3 = match\n",
        "\n",
        "  p4 = re.findall(r'(?:(?:31(\\/|-|\\.)(?:0?[13578]|1[02]|(?:Jan|Mar|May|Jul|Aug|Oct|Dec)))\\1|(?:(?:29|30)(\\/|-|\\.)(?:0?[1,3-9]|1[0-2]|(?:Jan|Mar|Apr|May|Jun|Jul|Aug|Sep|Oct|Nov|Dec))\\2))(?:(?:1[6-9]|[2-9]\\d)?\\d{2})$|^(?:29(\\/|-|\\.)(?:0?2|(?:Feb))\\3(?:(?:(?:1[6-9]|[2-9]\\d)?(?:0[48]|[2468][048]|[13579][26])|(?:(?:16|[2468][048]|[3579][26])00))))$|^(?:0?[1-9]|1\\d|2[0-8])(\\/|-|\\.)(?:(?:0?[1-9]|(?:Jan|Feb|Mar|Apr|May|Jun|Jul|Aug|Sep))|(?:1[0-2]|(?:Oct|Nov|Dec)))\\4(?:(?:1[6-9]|[2-9]\\d)?\\d{2})',s)\n",
        "\n",
        "  return p1 + p2 + p3 + p4"
      ],
      "execution_count": 47,
      "outputs": []
    },
    {
      "cell_type": "code",
      "metadata": {
        "id": "mqxAD63zrYPa"
      },
      "source": [
        "regex_dates = regex_date_detection(data_4)"
      ],
      "execution_count": 48,
      "outputs": []
    },
    {
      "cell_type": "code",
      "metadata": {
        "colab": {
          "base_uri": "https://localhost:8080/",
          "height": 0
        },
        "id": "92K1WZvNr5_f",
        "outputId": "86df4464-a94f-4a74-d1ae-c035ba3a631f"
      },
      "source": [
        "len(regex_dates)"
      ],
      "execution_count": 49,
      "outputs": [
        {
          "output_type": "execute_result",
          "data": {
            "text/plain": [
              "2519"
            ]
          },
          "metadata": {
            "tags": []
          },
          "execution_count": 49
        }
      ]
    },
    {
      "cell_type": "markdown",
      "metadata": {
        "id": "rtAEew09qZuM"
      },
      "source": [
        "c) Print to screen to compare the results from the two functions.\n"
      ]
    },
    {
      "cell_type": "code",
      "metadata": {
        "colab": {
          "base_uri": "https://localhost:8080/",
          "height": 0
        },
        "id": "d4aFNtfUqZdE",
        "outputId": "3b564417-e302-457a-9a18-4b3daf851b49"
      },
      "source": [
        "# spacy dates\n",
        "spacy_dates[:20]"
      ],
      "execution_count": 52,
      "outputs": [
        {
          "output_type": "execute_result",
          "data": {
            "text/plain": [
              "[('up to 5 years', 137, 150, 'DATE'),\n",
              " ('today', 184, 189, 'DATE'),\n",
              " ('today', 231, 236, 'DATE'),\n",
              " ('today', 1708, 1713, 'DATE'),\n",
              " ('one week', 1811, 1819, 'DATE'),\n",
              " ('MA 02143', 1905, 1913, 'DATE'),\n",
              " ('daily', 1993, 1998, 'DATE'),\n",
              " ('today', 2827, 2832, 'DATE'),\n",
              " ('3+ Nights & Save', 3002, 3018, 'DATE'),\n",
              " ('this week', 3106, 3115, 'DATE'),\n",
              " ('weekend', 3151, 3158, 'DATE'),\n",
              " ('this week', 3269, 3278, 'DATE'),\n",
              " ('2 Weeks', 4941, 4948, 'DATE'),\n",
              " ('the year', 6773, 6781, 'DATE'),\n",
              " ('tomorrow', 7713, 7721, 'DATE'),\n",
              " ('Wednesday', 8221, 8230, 'DATE'),\n",
              " ('Saturday', 8745, 8753, 'DATE'),\n",
              " ('the 6 year old', 8840, 8854, 'DATE'),\n",
              " ('tomorrow', 8970, 8978, 'DATE'),\n",
              " ('25 years', 9294, 9302, 'DATE')]"
            ]
          },
          "metadata": {
            "tags": []
          },
          "execution_count": 52
        }
      ]
    },
    {
      "cell_type": "code",
      "metadata": {
        "colab": {
          "base_uri": "https://localhost:8080/",
          "height": 0
        },
        "id": "jOHAcqHNsFAS",
        "outputId": "b35ced66-b15c-4c25-c5b0-9bdae05e9807"
      },
      "source": [
        "# regex dates\n",
        "regex_dates[:20]"
      ],
      "execution_count": 53,
      "outputs": [
        {
          "output_type": "execute_result",
          "data": {
            "text/plain": [
              "[('3', '9'),\n",
              " ('3', '1'),\n",
              " ('01', '8'),\n",
              " ('5', '1'),\n",
              " ('3', '6'),\n",
              " ('1', '3'),\n",
              " ('5', '2'),\n",
              " ('1', '8'),\n",
              " ('4', '05'),\n",
              " ('1', '7'),\n",
              " ('8', '8'),\n",
              " ('1', '3'),\n",
              " ('5', '2'),\n",
              " ('4', '1'),\n",
              " ('1', '2'),\n",
              " ('1', '3'),\n",
              " ('6', '4'),\n",
              " ('1', '2'),\n",
              " ('1', '3'),\n",
              " ('6', '5')]"
            ]
          },
          "metadata": {
            "tags": []
          },
          "execution_count": 53
        }
      ]
    },
    {
      "cell_type": "markdown",
      "metadata": {
        "id": "NyGaW14XqcLQ"
      },
      "source": [
        "**d) Which one of the two approaches was better? Why do you think so? Would you use any of these approaches? Or a different one?**"
      ]
    },
    {
      "cell_type": "markdown",
      "metadata": {
        "id": "dMBFLZCJsPpi"
      },
      "source": [
        "Spacy approach is better when compared to the above regex approach. The given dataset consists of dates in large number of formats and it is very difficult for a human to write regex expressions for all these formats. \n",
        "\n",
        "On the other hand spacy uses deep learning based CNN model for its NER task and the model is able to handle more date formats.\n",
        "\n",
        "Because of these reasons, I would prefer using spacy than writing regex for all date formats."
      ]
    },
    {
      "cell_type": "markdown",
      "metadata": {
        "id": "1JSJ0DyzWW01"
      },
      "source": [
        "Question 5) (30 points) Train an LSTM model to classify the Cornell Movie Review data using the polarity_dataset V2.0. You can use the code for class 19, but take a note that you will have to adapt some of the parameters like: Review size = 450, epochs=5. You will use 85% of the dataset for training, and 15% for testing. Once you build the model, please display the sklearn classification report. "
      ]
    },
    {
      "cell_type": "code",
      "metadata": {
        "colab": {
          "base_uri": "https://localhost:8080/"
        },
        "id": "7MAQjhsmYpDr",
        "outputId": "d13fe4c6-ffe7-4404-adcf-e0e13277ea6c"
      },
      "source": [
        "!pip install numpy==1.16.2\n",
        "\n",
        "# All the imports!\n",
        "import tensorflow as tf \n",
        "import numpy as np\n",
        "from tensorflow.keras.preprocessing import sequence\n",
        "from numpy import array\n",
        "\n",
        "# Supress deprecation warnings\n",
        "import logging\n",
        "logging.getLogger('tensorflow').disabled = True"
      ],
      "execution_count": null,
      "outputs": [
        {
          "output_type": "stream",
          "text": [
            "Requirement already satisfied: numpy==1.16.2 in /usr/local/lib/python3.7/dist-packages (1.16.2)\n"
          ],
          "name": "stdout"
        }
      ]
    },
    {
      "cell_type": "code",
      "metadata": {
        "id": "_yiL8oHFWX3g"
      },
      "source": [
        "# unzipping the dataset\n",
        "!tar -xvf '/content/review_polarity.tar'"
      ],
      "execution_count": null,
      "outputs": []
    },
    {
      "cell_type": "code",
      "metadata": {
        "id": "1P6qb3IOWcJd"
      },
      "source": [
        "positive_file_paths = os.listdir('/content/txt_sentoken/pos') \n",
        "negative_file_paths = os.listdir('/content/txt_sentoken/neg')"
      ],
      "execution_count": null,
      "outputs": []
    },
    {
      "cell_type": "code",
      "metadata": {
        "id": "CFJYIQfAWcG4"
      },
      "source": [
        "pos_text = []\n",
        "for path in positive_file_paths:\n",
        "  f = open(os.path.join('/content/txt_sentoken/pos',path),'r') \n",
        "  pos_text.append(f.read())"
      ],
      "execution_count": null,
      "outputs": []
    },
    {
      "cell_type": "code",
      "metadata": {
        "id": "vE4SwnMAWcEM"
      },
      "source": [
        "neg_text = []\n",
        "for path in negative_file_paths:\n",
        "  f = open(os.path.join('/content/txt_sentoken/neg',path),'r') \n",
        "  neg_text.append(f.read())"
      ],
      "execution_count": null,
      "outputs": []
    },
    {
      "cell_type": "code",
      "metadata": {
        "id": "8j_PzubvZoxw"
      },
      "source": [
        "X = pos_text+neg_text\n",
        "y = [1 for i in range(len(pos_text))] + [0 for i in range(len(neg_text))]"
      ],
      "execution_count": null,
      "outputs": []
    },
    {
      "cell_type": "code",
      "metadata": {
        "id": "IJY8mKmZZhix"
      },
      "source": [
        "X_train, X_test, y_train, y_test = train_test_split(X, y, test_size=0.15,random_state=12345)"
      ],
      "execution_count": null,
      "outputs": []
    },
    {
      "cell_type": "code",
      "metadata": {
        "id": "mV5xlznWY3Rw"
      },
      "source": [
        "# encoding\n",
        "word_index = {}\n",
        "\n",
        "total_data = X_train + X_test\n",
        "\n",
        "i = 4\n",
        "for row in total_data:\n",
        "  for word in row.split(' '):\n",
        "    if(word not in word_index):\n",
        "      word_index[word] = i\n",
        "      i += 1\n",
        "\n",
        "word_index[\"<PAD>\"] = 0\n",
        "word_index[\"<START>\"] = 1\n",
        "word_index[\"<UNKNOWN>\"] = 2\n",
        "word_index[\"<UNUSED>\"] = 3"
      ],
      "execution_count": null,
      "outputs": []
    },
    {
      "cell_type": "code",
      "metadata": {
        "id": "ADR-ISieZQ16"
      },
      "source": [
        "vocab_size = len(word_index)"
      ],
      "execution_count": null,
      "outputs": []
    },
    {
      "cell_type": "code",
      "metadata": {
        "id": "05xiIJOFZQzf"
      },
      "source": [
        "def encode_review(text):\n",
        "  lst = []\n",
        "\n",
        "  for i in text.split(' '):\n",
        "    lst.append(word_index[i])\n",
        "  \n",
        "  return lst"
      ],
      "execution_count": null,
      "outputs": []
    },
    {
      "cell_type": "code",
      "metadata": {
        "id": "nMwt1-WYaW69"
      },
      "source": [
        "def decode_review(text):\n",
        "    return ' '.join([reverse_word_index.get(i, '?') for i in text])"
      ],
      "execution_count": null,
      "outputs": []
    },
    {
      "cell_type": "code",
      "metadata": {
        "id": "fmW3-HwTaYqr"
      },
      "source": [
        "encoded_x_train = []\n",
        "\n",
        "for r in X_train:\n",
        "  encoded_x_train.append(encode_review(r))"
      ],
      "execution_count": null,
      "outputs": []
    },
    {
      "cell_type": "code",
      "metadata": {
        "id": "SvAOQMXHaair"
      },
      "source": [
        "encoded_x_test = []\n",
        "\n",
        "for r in X_test:\n",
        "  encoded_x_test.append(encode_review(r))"
      ],
      "execution_count": null,
      "outputs": []
    },
    {
      "cell_type": "code",
      "metadata": {
        "id": "jkWu5JsNacAk"
      },
      "source": [
        "X_train = encoded_x_train\n",
        "X_test = encoded_x_test"
      ],
      "execution_count": null,
      "outputs": []
    },
    {
      "cell_type": "code",
      "metadata": {
        "id": "r7FwsuQsadgs"
      },
      "source": [
        "X_train = np.array(X_train)\n",
        "X_test = np.array(X_test)"
      ],
      "execution_count": null,
      "outputs": []
    },
    {
      "cell_type": "code",
      "metadata": {
        "id": "7JajxYEuafd2"
      },
      "source": [
        "y_train = np.array(y_train)\n",
        "y_test = np.array(y_test)"
      ],
      "execution_count": null,
      "outputs": []
    },
    {
      "cell_type": "code",
      "metadata": {
        "colab": {
          "base_uri": "https://localhost:8080/"
        },
        "id": "yUAJZwzvag8s",
        "outputId": "adb7852e-cde8-48bb-ca21-9f8011829893"
      },
      "source": [
        "# The length of reviews\n",
        "review_length = 450\n",
        "\n",
        "# Padding / truncated our reviews\n",
        "X_train = sequence.pad_sequences(X_train, maxlen = review_length)\n",
        "X_test = sequence.pad_sequences(X_test, maxlen = review_length)\n",
        "\n",
        "# Check the size of our datasets. Review data for both test and training should \n",
        "# contain 25000 reviews of 500 integers. Class data should contain 25000 values, \n",
        "# one for each review. Class values are 0 or 1, indicating a negative \n",
        "# or positive review.\n",
        "print(\"Shape Training Review Data: \" + str(X_train.shape))\n",
        "print(\"Shape Training Class Data: \" + str(y_train.shape))\n",
        "print(\"Shape Test Review Data: \" + str(X_test.shape))\n",
        "print(\"Shape Test Class Data: \" + str(y_test.shape))"
      ],
      "execution_count": null,
      "outputs": [
        {
          "output_type": "stream",
          "text": [
            "Shape Training Review Data: (1700, 450)\n",
            "Shape Training Class Data: (1700,)\n",
            "Shape Test Review Data: (300, 450)\n",
            "Shape Test Class Data: (300,)\n"
          ],
          "name": "stdout"
        }
      ]
    },
    {
      "cell_type": "code",
      "metadata": {
        "colab": {
          "base_uri": "https://localhost:8080/"
        },
        "id": "OXAMxR57aovd",
        "outputId": "d72f847f-c7ea-428c-e9cf-1f08c1faf8be"
      },
      "source": [
        "# We begin by defining the a empty stack. We'll use this for building our \n",
        "# network, later by layer.\n",
        "model = tf.keras.models.Sequential()\n",
        "\n",
        "# The Embedding Layer provides a spatial mapping (or Word Embedding) of all the \n",
        "# individual words in our training set. Words close to one another share context \n",
        "# and or meaning. This spatial mapping is learning during the training process.\n",
        "model.add(\n",
        "    tf.keras.layers.Embedding(\n",
        "        input_dim = vocab_size, # The size of our vocabulary \n",
        "        output_dim = 32, # Dimensions to which each words shall be mapped\n",
        "        input_length = review_length # Length of input sequences\n",
        "    )\n",
        ")\n",
        "\n",
        "# Dropout layers fight overfitting and forces the model to learn multiple \n",
        "# representations of the same data by randomly disabling neurons in the \n",
        "# learning phase.\n",
        "model.add(\n",
        "    tf.keras.layers.Dropout(\n",
        "        rate=0.25 # Randomly disable 25% of neurons\n",
        "    )\n",
        ")\n",
        "\n",
        "# We are using a fast version of LSTM whih is optimised for GPUs. This layer \n",
        "# looks at the sequence of words in the review, along with their word embeddings\n",
        "# and uses both of these to determine to sentiment of a given review.\n",
        "model.add(\n",
        "    tf.keras.layers.LSTM(\n",
        "        units=32 # 32 LSTM units in this layer\n",
        "    )\n",
        ")\n",
        "\n",
        "# Add a second dropout layer with the same aim as the first.\n",
        "model.add(\n",
        "    tf.keras.layers.Dropout(\n",
        "        rate=0.25 # Randomly disable 25% of neurons\n",
        "    )\n",
        ")\n",
        "\n",
        "# All LSTM units are connected to a single node in the dense layer. A sigmoid \n",
        "# activation function determines the output from this node - a value \n",
        "# between 0 and 1. Closer to 0 indicates a negative review. Closer to 1 \n",
        "# indicates a positive review.\n",
        "model.add(\n",
        "    tf.keras.layers.Dense(\n",
        "        units=1, # Single unit\n",
        "        activation='sigmoid' # Sigmoid activation function (output from 0 to 1)\n",
        "    )\n",
        ")\n",
        "\n",
        "# Compile the model\n",
        "model.compile(\n",
        "    loss=tf.keras.losses.binary_crossentropy, # loss function\n",
        "    optimizer=tf.keras.optimizers.Adam(), # optimiser function\n",
        "    metrics=['accuracy']) # reporting metric\n",
        "\n",
        "# Display a summary of the models structure\n",
        "model.summary()\n"
      ],
      "execution_count": null,
      "outputs": [
        {
          "output_type": "stream",
          "text": [
            "Model: \"sequential\"\n",
            "_________________________________________________________________\n",
            "Layer (type)                 Output Shape              Param #   \n",
            "=================================================================\n",
            "embedding (Embedding)        (None, 450, 32)           1798496   \n",
            "_________________________________________________________________\n",
            "dropout (Dropout)            (None, 450, 32)           0         \n",
            "_________________________________________________________________\n",
            "lstm (LSTM)                  (None, 32)                8320      \n",
            "_________________________________________________________________\n",
            "dropout_1 (Dropout)          (None, 32)                0         \n",
            "_________________________________________________________________\n",
            "dense (Dense)                (None, 1)                 33        \n",
            "=================================================================\n",
            "Total params: 1,806,849\n",
            "Trainable params: 1,806,849\n",
            "Non-trainable params: 0\n",
            "_________________________________________________________________\n"
          ],
          "name": "stdout"
        }
      ]
    },
    {
      "cell_type": "code",
      "metadata": {
        "colab": {
          "base_uri": "https://localhost:8080/",
          "height": 644
        },
        "id": "_Y2PgsUQazPD",
        "outputId": "a9ee6aa1-6fac-4a44-8ce6-cb9670b3c872"
      },
      "source": [
        "tf.keras.utils.plot_model(model, to_file='model.png', show_shapes=True, show_layer_names=False)\n"
      ],
      "execution_count": null,
      "outputs": [
        {
          "output_type": "execute_result",
          "data": {
            "image/png": "[encoded data removed]",
            "text/plain": [
              "<IPython.core.display.Image object>"
            ]
          },
          "metadata": {
            "tags": []
          },
          "execution_count": 31
        }
      ]
    },
    {
      "cell_type": "code",
      "metadata": {
        "colab": {
          "base_uri": "https://localhost:8080/"
        },
        "id": "KoqS10ONa1o1",
        "outputId": "20309920-d37b-42ee-9c09-48d00fb98c3f"
      },
      "source": [
        "# Train the LSTM on the training data\n",
        "history = model.fit(\n",
        "\n",
        "    # Training data : features (review) and classes (positive or negative)\n",
        "    X_train, y_train,\n",
        "                    \n",
        "    # Number of samples to work through before updating the \n",
        "    # internal model parameters via back propagation. The \n",
        "    # higher the batch, the more memory you need.\n",
        "    batch_size=256, \n",
        "\n",
        "    # An epoch is an iteration over the entire training data.\n",
        "    epochs=5, \n",
        "    \n",
        "    # The model will set apart his fraction of the training \n",
        "    # data, will not train on it, and will evaluate the loss\n",
        "    # and any model metrics on this data at the end of \n",
        "    # each epoch.\n",
        "    validation_split=0.2,\n",
        "    \n",
        "    verbose=1\n",
        ")"
      ],
      "execution_count": null,
      "outputs": [
        {
          "output_type": "stream",
          "text": [
            "Epoch 1/5\n",
            "6/6 [==============================] - 6s 586ms/step - loss: 0.6932 - accuracy: 0.4789 - val_loss: 0.6931 - val_accuracy: 0.5176\n",
            "Epoch 2/5\n",
            "6/6 [==============================] - 3s 483ms/step - loss: 0.6921 - accuracy: 0.5640 - val_loss: 0.6927 - val_accuracy: 0.5147\n",
            "Epoch 3/5\n",
            "6/6 [==============================] - 3s 491ms/step - loss: 0.6908 - accuracy: 0.5342 - val_loss: 0.6920 - val_accuracy: 0.5176\n",
            "Epoch 4/5\n",
            "6/6 [==============================] - 3s 479ms/step - loss: 0.6872 - accuracy: 0.5372 - val_loss: 0.6905 - val_accuracy: 0.5147\n",
            "Epoch 5/5\n",
            "6/6 [==============================] - 3s 479ms/step - loss: 0.6799 - accuracy: 0.5659 - val_loss: 0.6853 - val_accuracy: 0.5235\n"
          ],
          "name": "stdout"
        }
      ]
    },
    {
      "cell_type": "code",
      "metadata": {
        "colab": {
          "base_uri": "https://localhost:8080/"
        },
        "id": "vNn9hJFMbMgH",
        "outputId": "c86108b3-bf0d-4774-dd83-63cdd140ac06"
      },
      "source": [
        "# Get Model Predictions for test data\n",
        "from sklearn.metrics import classification_report\n",
        "predicted_classes = model.predict_classes(X_test)\n",
        "classification_report = classification_report(y_test, predicted_classes)"
      ],
      "execution_count": null,
      "outputs": [
        {
          "output_type": "stream",
          "text": [
            "/usr/local/lib/python3.7/dist-packages/tensorflow/python/keras/engine/sequential.py:450: UserWarning: `model.predict_classes()` is deprecated and will be removed after 2021-01-01. Please use instead:* `np.argmax(model.predict(x), axis=-1)`,   if your model does multi-class classification   (e.g. if it uses a `softmax` last-layer activation).* `(model.predict(x) > 0.5).astype(\"int32\")`,   if your model does binary classification   (e.g. if it uses a `sigmoid` last-layer activation).\n",
            "  warnings.warn('`model.predict_classes()` is deprecated and '\n"
          ],
          "name": "stderr"
        }
      ]
    },
    {
      "cell_type": "code",
      "metadata": {
        "colab": {
          "base_uri": "https://localhost:8080/"
        },
        "id": "sTyH-L5ybZOD",
        "outputId": "c93f4703-017a-469f-b2c6-7de23b259799"
      },
      "source": [
        "print(classification_report)"
      ],
      "execution_count": null,
      "outputs": [
        {
          "output_type": "stream",
          "text": [
            "              precision    recall  f1-score   support\n",
            "\n",
            "           0       0.47      0.97      0.63       136\n",
            "           1       0.76      0.08      0.14       164\n",
            "\n",
            "    accuracy                           0.48       300\n",
            "   macro avg       0.62      0.52      0.39       300\n",
            "weighted avg       0.63      0.48      0.36       300\n",
            "\n"
          ],
          "name": "stdout"
        }
      ]
    },
    {
      "cell_type": "markdown",
      "metadata": {
        "id": "xOTrZh04tegJ"
      },
      "source": [
        "What are you noticing here? Anything unexpected? How does this model compare to the one built with the IMDB dataset in class? Any ideas on how to improve it?"
      ]
    },
    {
      "cell_type": "markdown",
      "metadata": {
        "id": "eWGf0AXYtfVs"
      },
      "source": [
        "The LSTM model is displaying interesting behaviour. For most of the data in test set, it is predicting it as zeros. due to which the recall of zeros is 0.97 and the recall of ones is 0.08. The accuracy is also around 0.6, which clearly says that the model is predicting zeros for most of the dataset.\n"
      ]
    },
    {
      "cell_type": "markdown",
      "metadata": {
        "id": "fvh6sWMH8VH-"
      },
      "source": [
        "Question 6) (30 points) Use the train.txt file from the PubMed 20K RCT dataset fine-tune a BERT transformer (class 9 code). This task is a bit different as the one seen in class, here the source dataset has FIVE different classes: background, objective, method, result, and conclusion. Once the BERT model is fine-tuned, classify the: test.txt set. "
      ]
    },
    {
      "cell_type": "code",
      "metadata": {
        "id": "K8AigDVe8teF"
      },
      "source": [
        "with open('/content/train.txt', 'r') as file:\n",
        "    data_6 = file.read()"
      ],
      "execution_count": 1,
      "outputs": []
    },
    {
      "cell_type": "code",
      "metadata": {
        "id": "C5Ovrt73_PCo"
      },
      "source": [
        "X = []\n",
        "y = []\n",
        "labels = ['OBJECTIVE','RESULTS','METHODS','BACKGROUND','CONCLUSIONS']"
      ],
      "execution_count": 2,
      "outputs": []
    },
    {
      "cell_type": "code",
      "metadata": {
        "id": "0PKzECWA8gIb"
      },
      "source": [
        "rows = data_6.split('\\n')\n",
        "for row in rows:\n",
        "  if(len(row.split('\\t')) == 2):\n",
        "    label, content = row.split('\\t')\n",
        "    if(label in labels):\n",
        "      y.append(labels.index(label))\n",
        "      X.append(content)"
      ],
      "execution_count": 3,
      "outputs": []
    },
    {
      "cell_type": "code",
      "metadata": {
        "colab": {
          "base_uri": "https://localhost:8080/",
          "height": 0
        },
        "id": "brvb5LHyAeHw",
        "outputId": "f18434ec-6223-42ef-a4bb-cd8cc6ed0919"
      },
      "source": [
        "import tensorflow as tf\n",
        "\n",
        "# Get the GPU device name.\n",
        "device_name = tf.test.gpu_device_name()\n",
        "\n",
        "# The device name should look like the following:\n",
        "if device_name == '/device:GPU:0':\n",
        "    print('Found GPU at: {}'.format(device_name))\n",
        "else:\n",
        "    raise SystemError('GPU device not found')"
      ],
      "execution_count": 4,
      "outputs": [
        {
          "output_type": "stream",
          "text": [
            "Found GPU at: /device:GPU:0\n"
          ],
          "name": "stdout"
        }
      ]
    },
    {
      "cell_type": "code",
      "metadata": {
        "colab": {
          "base_uri": "https://localhost:8080/",
          "height": 0
        },
        "id": "xJTnnFDwBJom",
        "outputId": "85a89151-fe58-46ef-fcc8-d1e26898df98"
      },
      "source": [
        "import torch\n",
        "\n",
        "# If there's a GPU available...\n",
        "if torch.cuda.is_available():    \n",
        "\n",
        "    # Tell PyTorch to use the GPU.    \n",
        "    device = torch.device(\"cuda\")\n",
        "\n",
        "    print('There are %d GPU(s) available.' % torch.cuda.device_count())\n",
        "\n",
        "    print('We will use the GPU:', torch.cuda.get_device_name(0))\n",
        "\n",
        "# If not...\n",
        "else:\n",
        "    print('No GPU available, using the CPU instead.')\n",
        "    device = torch.device(\"cpu\")"
      ],
      "execution_count": 5,
      "outputs": [
        {
          "output_type": "stream",
          "text": [
            "There are 1 GPU(s) available.\n",
            "We will use the GPU: Tesla T4\n"
          ],
          "name": "stdout"
        }
      ]
    },
    {
      "cell_type": "code",
      "metadata": {
        "colab": {
          "base_uri": "https://localhost:8080/",
          "height": 0
        },
        "id": "7qipn3VwBJmc",
        "outputId": "836d2805-c493-498f-9c48-65df2de72acd"
      },
      "source": [
        "!pip install transformers"
      ],
      "execution_count": 6,
      "outputs": [
        {
          "output_type": "stream",
          "text": [
            "Requirement already satisfied: transformers in /usr/local/lib/python3.7/dist-packages (4.5.0)\n",
            "Requirement already satisfied: numpy>=1.17 in /usr/local/lib/python3.7/dist-packages (from transformers) (1.19.5)\n",
            "Requirement already satisfied: requests in /usr/local/lib/python3.7/dist-packages (from transformers) (2.23.0)\n",
            "Requirement already satisfied: sacremoses in /usr/local/lib/python3.7/dist-packages (from transformers) (0.0.44)\n",
            "Requirement already satisfied: filelock in /usr/local/lib/python3.7/dist-packages (from transformers) (3.0.12)\n",
            "Requirement already satisfied: importlib-metadata; python_version < \"3.8\" in /usr/local/lib/python3.7/dist-packages (from transformers) (3.8.1)\n",
            "Requirement already satisfied: tqdm>=4.27 in /usr/local/lib/python3.7/dist-packages (from transformers) (4.41.1)\n",
            "Requirement already satisfied: packaging in /usr/local/lib/python3.7/dist-packages (from transformers) (20.9)\n",
            "Requirement already satisfied: tokenizers<0.11,>=0.10.1 in /usr/local/lib/python3.7/dist-packages (from transformers) (0.10.2)\n",
            "Requirement already satisfied: regex!=2019.12.17 in /usr/local/lib/python3.7/dist-packages (from transformers) (2019.12.20)\n",
            "Requirement already satisfied: chardet<4,>=3.0.2 in /usr/local/lib/python3.7/dist-packages (from requests->transformers) (3.0.4)\n",
            "Requirement already satisfied: idna<3,>=2.5 in /usr/local/lib/python3.7/dist-packages (from requests->transformers) (2.10)\n",
            "Requirement already satisfied: certifi>=2017.4.17 in /usr/local/lib/python3.7/dist-packages (from requests->transformers) (2020.12.5)\n",
            "Requirement already satisfied: urllib3!=1.25.0,!=1.25.1,<1.26,>=1.21.1 in /usr/local/lib/python3.7/dist-packages (from requests->transformers) (1.24.3)\n",
            "Requirement already satisfied: click in /usr/local/lib/python3.7/dist-packages (from sacremoses->transformers) (7.1.2)\n",
            "Requirement already satisfied: joblib in /usr/local/lib/python3.7/dist-packages (from sacremoses->transformers) (1.0.1)\n",
            "Requirement already satisfied: six in /usr/local/lib/python3.7/dist-packages (from sacremoses->transformers) (1.15.0)\n",
            "Requirement already satisfied: zipp>=0.5 in /usr/local/lib/python3.7/dist-packages (from importlib-metadata; python_version < \"3.8\"->transformers) (3.4.1)\n",
            "Requirement already satisfied: typing-extensions>=3.6.4; python_version < \"3.8\" in /usr/local/lib/python3.7/dist-packages (from importlib-metadata; python_version < \"3.8\"->transformers) (3.7.4.3)\n",
            "Requirement already satisfied: pyparsing>=2.0.2 in /usr/local/lib/python3.7/dist-packages (from packaging->transformers) (2.4.7)\n"
          ],
          "name": "stdout"
        }
      ]
    },
    {
      "cell_type": "code",
      "metadata": {
        "id": "71cM8ywqCukx"
      },
      "source": [
        "sentences = X"
      ],
      "execution_count": 7,
      "outputs": []
    },
    {
      "cell_type": "code",
      "metadata": {
        "colab": {
          "base_uri": "https://localhost:8080/",
          "height": 0
        },
        "id": "xq53I8uUIqUL",
        "outputId": "7b0778d7-f5e4-442a-e0d9-c2100999f25f"
      },
      "source": [
        "from transformers import BertTokenizer\n",
        "\n",
        "# Load the BERT tokenizer.\n",
        "print('Loading BERT tokenizer...')\n",
        "tokenizer = BertTokenizer.from_pretrained('dmis-lab/biobert-base-cased-v1.1', do_lower_case=True)"
      ],
      "execution_count": 8,
      "outputs": [
        {
          "output_type": "stream",
          "text": [
            "Loading BERT tokenizer...\n"
          ],
          "name": "stdout"
        }
      ]
    },
    {
      "cell_type": "code",
      "metadata": {
        "colab": {
          "base_uri": "https://localhost:8080/",
          "height": 0
        },
        "id": "xxAY1HGHBJjo",
        "outputId": "57867059-ed11-4e03-c6fd-aacc6d688777"
      },
      "source": [
        "from transformers import BertTokenizer\n",
        "\n",
        "# Load the BERT tokenizer.\n",
        "print('Loading BERT tokenizer...')\n",
        "tokenizer = BertTokenizer.from_pretrained('bert-base-uncased', do_lower_case=True)"
      ],
      "execution_count": 7,
      "outputs": [
        {
          "output_type": "stream",
          "text": [
            "Loading BERT tokenizer...\n"
          ],
          "name": "stdout"
        }
      ]
    },
    {
      "cell_type": "code",
      "metadata": {
        "colab": {
          "base_uri": "https://localhost:8080/",
          "height": 0
        },
        "id": "o_NmkbN5AeC7",
        "outputId": "a970bb4e-672e-40a4-d6a7-00907153f1da"
      },
      "source": [
        "# Print the original sentence.\n",
        "print(' Original: ', sentences[0])\n",
        "\n",
        "# Print the sentence split into tokens.\n",
        "print('Tokenized: ', tokenizer.tokenize(sentences[0]))\n",
        "\n",
        "# Print the sentence mapped to token ids.\n",
        "print('Token IDs: ', tokenizer.convert_tokens_to_ids(tokenizer.tokenize(sentences[0])))"
      ],
      "execution_count": 9,
      "outputs": [
        {
          "output_type": "stream",
          "text": [
            " Original:  To investigate the efficacy of 6 weeks of daily low-dose oral prednisolone in improving pain , mobility , and systemic low-grade inflammation in the short term and whether the effect would be sustained at 12 weeks in older adults with moderate to severe knee osteoarthritis ( OA ) .\n",
            "Tokenized:  ['to', 'investigate', 'the', 'efficacy', 'of', '6', 'weeks', 'of', 'daily', 'low', '-', 'dose', 'oral', 'pre', '##dn', '##is', '##olo', '##ne', 'in', 'improving', 'pain', ',', 'mobility', ',', 'and', 'systemic', 'low', '-', 'grade', 'inflammation', 'in', 'the', 'short', 'term', 'and', 'whether', 'the', 'effect', 'would', 'be', 'sustained', 'at', '12', 'weeks', 'in', 'older', 'adults', 'with', 'moderate', 'to', 'severe', 'knee', 'o', '##ste', '##oar', '##th', '##rit', '##is', '(', 'o', '##a', ')', '.']\n",
            "Token IDs:  [1106, 8242, 1103, 23891, 1104, 127, 2277, 1104, 3828, 1822, 118, 13753, 9619, 3073, 22834, 1548, 12805, 1673, 1107, 9248, 2489, 117, 16178, 117, 1105, 27410, 1822, 118, 3654, 24970, 1107, 1103, 1603, 1858, 1105, 2480, 1103, 2629, 1156, 1129, 8505, 1120, 1367, 2277, 1107, 2214, 6323, 1114, 8828, 1106, 5199, 5656, 184, 13894, 19243, 1582, 7729, 1548, 113, 184, 1161, 114, 119]\n"
          ],
          "name": "stdout"
        }
      ]
    },
    {
      "cell_type": "code",
      "metadata": {
        "colab": {
          "base_uri": "https://localhost:8080/",
          "height": 0
        },
        "id": "tFDKLltObaqZ",
        "outputId": "34408483-66ee-4b1d-ca9f-67eb04e4d9f1"
      },
      "source": [
        "max_len = 0\n",
        "\n",
        "# For every sentence...\n",
        "for sent in sentences:\n",
        "\n",
        "    # Tokenize the text and add `[CLS]` and `[SEP]` tokens.\n",
        "    input_ids = tokenizer.encode(sent, add_special_tokens=True,max_length=512,truncation=True)\n",
        "\n",
        "    # Update the maximum sentence length.\n",
        "    max_len = max(max_len, len(input_ids))\n",
        "\n",
        "print('Max sentence length: ', max_len)"
      ],
      "execution_count": 23,
      "outputs": [
        {
          "output_type": "stream",
          "text": [
            "Max sentence length:  512\n"
          ],
          "name": "stdout"
        }
      ]
    },
    {
      "cell_type": "code",
      "metadata": {
        "id": "geHKeWADKqbe"
      },
      "source": [
        "max_len = 512"
      ],
      "execution_count": 10,
      "outputs": []
    },
    {
      "cell_type": "code",
      "metadata": {
        "id": "MzMnfE4iFZlW"
      },
      "source": [
        "labels = y"
      ],
      "execution_count": 11,
      "outputs": []
    },
    {
      "cell_type": "code",
      "metadata": {
        "colab": {
          "base_uri": "https://localhost:8080/",
          "height": 0
        },
        "id": "2XXpdlhq_5FR",
        "outputId": "05761dd9-3c2e-4b61-903f-ffe1562a7332"
      },
      "source": [
        "# Tokenize all of the sentences and map the tokens to thier word IDs.\n",
        "input_ids = []\n",
        "attention_masks = []\n",
        "\n",
        "# For every sentence...\n",
        "for sent in sentences:\n",
        "    # `encode_plus` will:\n",
        "    #   (1) Tokenize the sentence.\n",
        "    #   (2) Prepend the `[CLS]` token to the start.\n",
        "    #   (3) Append the `[SEP]` token to the end.\n",
        "    #   (4) Map tokens to their IDs.\n",
        "    #   (5) Pad or truncate the sentence to `max_length`\n",
        "    #   (6) Create attention masks for [PAD] tokens.\n",
        "    encoded_dict = tokenizer.encode_plus(\n",
        "                        sent,                      # Sentence to encode.\n",
        "                        add_special_tokens = True, # Add '[CLS]' and '[SEP]'\n",
        "                        max_length = 64,           # Pad & truncate all sentences.\n",
        "                        truncation=True,\n",
        "                        pad_to_max_length = True,\n",
        "                        return_attention_mask = True,   # Construct attn. masks.\n",
        "                        return_tensors = 'pt',     # Return pytorch tensors.\n",
        "                   )\n",
        "    \n",
        "    # Add the encoded sentence to the list.    \n",
        "    input_ids.append(encoded_dict['input_ids'])\n",
        "    \n",
        "    # And its attention mask (simply differentiates padding from non-padding).\n",
        "    attention_masks.append(encoded_dict['attention_mask'])\n",
        "\n",
        "# Convert the lists into tensors.\n",
        "input_ids = torch.cat(input_ids, dim=0)\n",
        "attention_masks = torch.cat(attention_masks, dim=0)\n",
        "labels = torch.tensor(labels)\n",
        "\n",
        "# Print sentence 0, now as a list of IDs.\n",
        "print('Original: ', sentences[0])\n",
        "print('Token IDs:', input_ids[0])"
      ],
      "execution_count": 12,
      "outputs": [
        {
          "output_type": "stream",
          "text": [
            "/usr/local/lib/python3.7/dist-packages/transformers/tokenization_utils_base.py:2079: FutureWarning: The `pad_to_max_length` argument is deprecated and will be removed in a future version, use `padding=True` or `padding='longest'` to pad to the longest sequence in the batch, or use `padding='max_length'` to pad to a max length. In this case, you can give a specific length with `max_length` (e.g. `max_length=45`) or leave max_length to None to pad to the maximal input size of the model (e.g. 512 for Bert).\n",
            "  FutureWarning,\n"
          ],
          "name": "stderr"
        },
        {
          "output_type": "stream",
          "text": [
            "Original:  To investigate the efficacy of 6 weeks of daily low-dose oral prednisolone in improving pain , mobility , and systemic low-grade inflammation in the short term and whether the effect would be sustained at 12 weeks in older adults with moderate to severe knee osteoarthritis ( OA ) .\n",
            "Token IDs: tensor([  101,  1106,  8242,  1103, 23891,  1104,   127,  2277,  1104,  3828,\n",
            "         1822,   118, 13753,  9619,  3073, 22834,  1548, 12805,  1673,  1107,\n",
            "         9248,  2489,   117, 16178,   117,  1105, 27410,  1822,   118,  3654,\n",
            "        24970,  1107,  1103,  1603,  1858,  1105,  2480,  1103,  2629,  1156,\n",
            "         1129,  8505,  1120,  1367,  2277,  1107,  2214,  6323,  1114,  8828,\n",
            "         1106,  5199,  5656,   184, 13894, 19243,  1582,  7729,  1548,   113,\n",
            "          184,  1161,   114,   102])\n"
          ],
          "name": "stdout"
        }
      ]
    },
    {
      "cell_type": "code",
      "metadata": {
        "colab": {
          "base_uri": "https://localhost:8080/",
          "height": 0
        },
        "id": "2VAeOcSiD9GA",
        "outputId": "ab86d168-57b8-4254-95d4-87543f3da9cc"
      },
      "source": [
        "from torch.utils.data import TensorDataset, random_split\n",
        "\n",
        "# Combine the training inputs into a TensorDataset.\n",
        "dataset = TensorDataset(input_ids, attention_masks, labels)\n",
        "\n",
        "# Create a 90-10 train-validation split.\n",
        "\n",
        "# Calculate the number of samples to include in each set.\n",
        "train_size = int(0.9 * len(dataset))\n",
        "val_size = len(dataset) - train_size\n",
        "\n",
        "# Divide the dataset by randomly selecting samples.\n",
        "train_dataset, val_dataset = random_split(dataset, [train_size, val_size])\n",
        "\n",
        "print('{:>5,} training samples'.format(train_size))\n",
        "print('{:>5,} validation samples'.format(val_size))"
      ],
      "execution_count": 13,
      "outputs": [
        {
          "output_type": "stream",
          "text": [
            "162,036 training samples\n",
            "18,004 validation samples\n"
          ],
          "name": "stdout"
        }
      ]
    },
    {
      "cell_type": "code",
      "metadata": {
        "id": "93RDvE8cEDG4"
      },
      "source": [
        "from torch.utils.data import DataLoader, RandomSampler, SequentialSampler\n",
        "\n",
        "# The DataLoader needs to know our batch size for training, so we specify it \n",
        "# here. For fine-tuning BERT on a specific task, the authors recommend a batch \n",
        "# size of 16 or 32.\n",
        "batch_size = 32\n",
        "\n",
        "# Create the DataLoaders for our training and validation sets.\n",
        "# We'll take training samples in random order. \n",
        "train_dataloader = DataLoader(\n",
        "            train_dataset,  # The training samples.\n",
        "            sampler = RandomSampler(train_dataset), # Select batches randomly\n",
        "            batch_size = batch_size # Trains with this batch size.\n",
        "        )\n",
        "\n",
        "# For validation the order doesn't matter, so we'll just read them sequentially.\n",
        "validation_dataloader = DataLoader(\n",
        "            val_dataset, # The validation samples.\n",
        "            sampler = SequentialSampler(val_dataset), # Pull out batches sequentially.\n",
        "            batch_size = batch_size # Evaluate with this batch size.\n",
        "        )"
      ],
      "execution_count": 14,
      "outputs": []
    },
    {
      "cell_type": "markdown",
      "metadata": {
        "id": "5e97rPzkEJqw"
      },
      "source": [
        "Train"
      ]
    },
    {
      "cell_type": "code",
      "metadata": {
        "colab": {
          "base_uri": "https://localhost:8080/",
          "height": 0
        },
        "id": "fa9HyX7xEDzU",
        "outputId": "a1a1a3a8-0c63-499b-b7bf-f47037bbe33c"
      },
      "source": [
        "from transformers import BertForSequenceClassification, AdamW, BertConfig\n",
        "\n",
        "# Load BertForSequenceClassification, the pretrained BERT model with a single \n",
        "# linear classification layer on top. \n",
        "model = BertForSequenceClassification.from_pretrained(\n",
        "    \"bert-base-uncased\", # Use the 12-layer BERT model, with an uncased vocab.\n",
        "    num_labels = 5, # The number of output labels--2 for binary classification.\n",
        "                    # You can increase this for multi-class tasks.   \n",
        "    output_attentions = False, # Whether the model returns attentions weights.\n",
        "    output_hidden_states = False, # Whether the model returns all hidden-states.\n",
        ")\n",
        "\n",
        "# Tell pytorch to run this model on the GPU.\n",
        "model.cuda()"
      ],
      "execution_count": 84,
      "outputs": [
        {
          "output_type": "stream",
          "text": [
            "Some weights of the model checkpoint at bert-base-uncased were not used when initializing BertForSequenceClassification: ['cls.predictions.bias', 'cls.predictions.transform.dense.weight', 'cls.predictions.transform.dense.bias', 'cls.predictions.decoder.weight', 'cls.seq_relationship.weight', 'cls.seq_relationship.bias', 'cls.predictions.transform.LayerNorm.weight', 'cls.predictions.transform.LayerNorm.bias']\n",
            "- This IS expected if you are initializing BertForSequenceClassification from the checkpoint of a model trained on another task or with another architecture (e.g. initializing a BertForSequenceClassification model from a BertForPreTraining model).\n",
            "- This IS NOT expected if you are initializing BertForSequenceClassification from the checkpoint of a model that you expect to be exactly identical (initializing a BertForSequenceClassification model from a BertForSequenceClassification model).\n",
            "Some weights of BertForSequenceClassification were not initialized from the model checkpoint at bert-base-uncased and are newly initialized: ['classifier.weight', 'classifier.bias']\n",
            "You should probably TRAIN this model on a down-stream task to be able to use it for predictions and inference.\n"
          ],
          "name": "stderr"
        },
        {
          "output_type": "execute_result",
          "data": {
            "text/plain": [
              "BertForSequenceClassification(\n",
              "  (bert): BertModel(\n",
              "    (embeddings): BertEmbeddings(\n",
              "      (word_embeddings): Embedding(30522, 768, padding_idx=0)\n",
              "      (position_embeddings): Embedding(512, 768)\n",
              "      (token_type_embeddings): Embedding(2, 768)\n",
              "      (LayerNorm): LayerNorm((768,), eps=1e-12, elementwise_affine=True)\n",
              "      (dropout): Dropout(p=0.1, inplace=False)\n",
              "    )\n",
              "    (encoder): BertEncoder(\n",
              "      (layer): ModuleList(\n",
              "        (0): BertLayer(\n",
              "          (attention): BertAttention(\n",
              "            (self): BertSelfAttention(\n",
              "              (query): Linear(in_features=768, out_features=768, bias=True)\n",
              "              (key): Linear(in_features=768, out_features=768, bias=True)\n",
              "              (value): Linear(in_features=768, out_features=768, bias=True)\n",
              "              (dropout): Dropout(p=0.1, inplace=False)\n",
              "            )\n",
              "            (output): BertSelfOutput(\n",
              "              (dense): Linear(in_features=768, out_features=768, bias=True)\n",
              "              (LayerNorm): LayerNorm((768,), eps=1e-12, elementwise_affine=True)\n",
              "              (dropout): Dropout(p=0.1, inplace=False)\n",
              "            )\n",
              "          )\n",
              "          (intermediate): BertIntermediate(\n",
              "            (dense): Linear(in_features=768, out_features=3072, bias=True)\n",
              "          )\n",
              "          (output): BertOutput(\n",
              "            (dense): Linear(in_features=3072, out_features=768, bias=True)\n",
              "            (LayerNorm): LayerNorm((768,), eps=1e-12, elementwise_affine=True)\n",
              "            (dropout): Dropout(p=0.1, inplace=False)\n",
              "          )\n",
              "        )\n",
              "        (1): BertLayer(\n",
              "          (attention): BertAttention(\n",
              "            (self): BertSelfAttention(\n",
              "              (query): Linear(in_features=768, out_features=768, bias=True)\n",
              "              (key): Linear(in_features=768, out_features=768, bias=True)\n",
              "              (value): Linear(in_features=768, out_features=768, bias=True)\n",
              "              (dropout): Dropout(p=0.1, inplace=False)\n",
              "            )\n",
              "            (output): BertSelfOutput(\n",
              "              (dense): Linear(in_features=768, out_features=768, bias=True)\n",
              "              (LayerNorm): LayerNorm((768,), eps=1e-12, elementwise_affine=True)\n",
              "              (dropout): Dropout(p=0.1, inplace=False)\n",
              "            )\n",
              "          )\n",
              "          (intermediate): BertIntermediate(\n",
              "            (dense): Linear(in_features=768, out_features=3072, bias=True)\n",
              "          )\n",
              "          (output): BertOutput(\n",
              "            (dense): Linear(in_features=3072, out_features=768, bias=True)\n",
              "            (LayerNorm): LayerNorm((768,), eps=1e-12, elementwise_affine=True)\n",
              "            (dropout): Dropout(p=0.1, inplace=False)\n",
              "          )\n",
              "        )\n",
              "        (2): BertLayer(\n",
              "          (attention): BertAttention(\n",
              "            (self): BertSelfAttention(\n",
              "              (query): Linear(in_features=768, out_features=768, bias=True)\n",
              "              (key): Linear(in_features=768, out_features=768, bias=True)\n",
              "              (value): Linear(in_features=768, out_features=768, bias=True)\n",
              "              (dropout): Dropout(p=0.1, inplace=False)\n",
              "            )\n",
              "            (output): BertSelfOutput(\n",
              "              (dense): Linear(in_features=768, out_features=768, bias=True)\n",
              "              (LayerNorm): LayerNorm((768,), eps=1e-12, elementwise_affine=True)\n",
              "              (dropout): Dropout(p=0.1, inplace=False)\n",
              "            )\n",
              "          )\n",
              "          (intermediate): BertIntermediate(\n",
              "            (dense): Linear(in_features=768, out_features=3072, bias=True)\n",
              "          )\n",
              "          (output): BertOutput(\n",
              "            (dense): Linear(in_features=3072, out_features=768, bias=True)\n",
              "            (LayerNorm): LayerNorm((768,), eps=1e-12, elementwise_affine=True)\n",
              "            (dropout): Dropout(p=0.1, inplace=False)\n",
              "          )\n",
              "        )\n",
              "        (3): BertLayer(\n",
              "          (attention): BertAttention(\n",
              "            (self): BertSelfAttention(\n",
              "              (query): Linear(in_features=768, out_features=768, bias=True)\n",
              "              (key): Linear(in_features=768, out_features=768, bias=True)\n",
              "              (value): Linear(in_features=768, out_features=768, bias=True)\n",
              "              (dropout): Dropout(p=0.1, inplace=False)\n",
              "            )\n",
              "            (output): BertSelfOutput(\n",
              "              (dense): Linear(in_features=768, out_features=768, bias=True)\n",
              "              (LayerNorm): LayerNorm((768,), eps=1e-12, elementwise_affine=True)\n",
              "              (dropout): Dropout(p=0.1, inplace=False)\n",
              "            )\n",
              "          )\n",
              "          (intermediate): BertIntermediate(\n",
              "            (dense): Linear(in_features=768, out_features=3072, bias=True)\n",
              "          )\n",
              "          (output): BertOutput(\n",
              "            (dense): Linear(in_features=3072, out_features=768, bias=True)\n",
              "            (LayerNorm): LayerNorm((768,), eps=1e-12, elementwise_affine=True)\n",
              "            (dropout): Dropout(p=0.1, inplace=False)\n",
              "          )\n",
              "        )\n",
              "        (4): BertLayer(\n",
              "          (attention): BertAttention(\n",
              "            (self): BertSelfAttention(\n",
              "              (query): Linear(in_features=768, out_features=768, bias=True)\n",
              "              (key): Linear(in_features=768, out_features=768, bias=True)\n",
              "              (value): Linear(in_features=768, out_features=768, bias=True)\n",
              "              (dropout): Dropout(p=0.1, inplace=False)\n",
              "            )\n",
              "            (output): BertSelfOutput(\n",
              "              (dense): Linear(in_features=768, out_features=768, bias=True)\n",
              "              (LayerNorm): LayerNorm((768,), eps=1e-12, elementwise_affine=True)\n",
              "              (dropout): Dropout(p=0.1, inplace=False)\n",
              "            )\n",
              "          )\n",
              "          (intermediate): BertIntermediate(\n",
              "            (dense): Linear(in_features=768, out_features=3072, bias=True)\n",
              "          )\n",
              "          (output): BertOutput(\n",
              "            (dense): Linear(in_features=3072, out_features=768, bias=True)\n",
              "            (LayerNorm): LayerNorm((768,), eps=1e-12, elementwise_affine=True)\n",
              "            (dropout): Dropout(p=0.1, inplace=False)\n",
              "          )\n",
              "        )\n",
              "        (5): BertLayer(\n",
              "          (attention): BertAttention(\n",
              "            (self): BertSelfAttention(\n",
              "              (query): Linear(in_features=768, out_features=768, bias=True)\n",
              "              (key): Linear(in_features=768, out_features=768, bias=True)\n",
              "              (value): Linear(in_features=768, out_features=768, bias=True)\n",
              "              (dropout): Dropout(p=0.1, inplace=False)\n",
              "            )\n",
              "            (output): BertSelfOutput(\n",
              "              (dense): Linear(in_features=768, out_features=768, bias=True)\n",
              "              (LayerNorm): LayerNorm((768,), eps=1e-12, elementwise_affine=True)\n",
              "              (dropout): Dropout(p=0.1, inplace=False)\n",
              "            )\n",
              "          )\n",
              "          (intermediate): BertIntermediate(\n",
              "            (dense): Linear(in_features=768, out_features=3072, bias=True)\n",
              "          )\n",
              "          (output): BertOutput(\n",
              "            (dense): Linear(in_features=3072, out_features=768, bias=True)\n",
              "            (LayerNorm): LayerNorm((768,), eps=1e-12, elementwise_affine=True)\n",
              "            (dropout): Dropout(p=0.1, inplace=False)\n",
              "          )\n",
              "        )\n",
              "        (6): BertLayer(\n",
              "          (attention): BertAttention(\n",
              "            (self): BertSelfAttention(\n",
              "              (query): Linear(in_features=768, out_features=768, bias=True)\n",
              "              (key): Linear(in_features=768, out_features=768, bias=True)\n",
              "              (value): Linear(in_features=768, out_features=768, bias=True)\n",
              "              (dropout): Dropout(p=0.1, inplace=False)\n",
              "            )\n",
              "            (output): BertSelfOutput(\n",
              "              (dense): Linear(in_features=768, out_features=768, bias=True)\n",
              "              (LayerNorm): LayerNorm((768,), eps=1e-12, elementwise_affine=True)\n",
              "              (dropout): Dropout(p=0.1, inplace=False)\n",
              "            )\n",
              "          )\n",
              "          (intermediate): BertIntermediate(\n",
              "            (dense): Linear(in_features=768, out_features=3072, bias=True)\n",
              "          )\n",
              "          (output): BertOutput(\n",
              "            (dense): Linear(in_features=3072, out_features=768, bias=True)\n",
              "            (LayerNorm): LayerNorm((768,), eps=1e-12, elementwise_affine=True)\n",
              "            (dropout): Dropout(p=0.1, inplace=False)\n",
              "          )\n",
              "        )\n",
              "        (7): BertLayer(\n",
              "          (attention): BertAttention(\n",
              "            (self): BertSelfAttention(\n",
              "              (query): Linear(in_features=768, out_features=768, bias=True)\n",
              "              (key): Linear(in_features=768, out_features=768, bias=True)\n",
              "              (value): Linear(in_features=768, out_features=768, bias=True)\n",
              "              (dropout): Dropout(p=0.1, inplace=False)\n",
              "            )\n",
              "            (output): BertSelfOutput(\n",
              "              (dense): Linear(in_features=768, out_features=768, bias=True)\n",
              "              (LayerNorm): LayerNorm((768,), eps=1e-12, elementwise_affine=True)\n",
              "              (dropout): Dropout(p=0.1, inplace=False)\n",
              "            )\n",
              "          )\n",
              "          (intermediate): BertIntermediate(\n",
              "            (dense): Linear(in_features=768, out_features=3072, bias=True)\n",
              "          )\n",
              "          (output): BertOutput(\n",
              "            (dense): Linear(in_features=3072, out_features=768, bias=True)\n",
              "            (LayerNorm): LayerNorm((768,), eps=1e-12, elementwise_affine=True)\n",
              "            (dropout): Dropout(p=0.1, inplace=False)\n",
              "          )\n",
              "        )\n",
              "        (8): BertLayer(\n",
              "          (attention): BertAttention(\n",
              "            (self): BertSelfAttention(\n",
              "              (query): Linear(in_features=768, out_features=768, bias=True)\n",
              "              (key): Linear(in_features=768, out_features=768, bias=True)\n",
              "              (value): Linear(in_features=768, out_features=768, bias=True)\n",
              "              (dropout): Dropout(p=0.1, inplace=False)\n",
              "            )\n",
              "            (output): BertSelfOutput(\n",
              "              (dense): Linear(in_features=768, out_features=768, bias=True)\n",
              "              (LayerNorm): LayerNorm((768,), eps=1e-12, elementwise_affine=True)\n",
              "              (dropout): Dropout(p=0.1, inplace=False)\n",
              "            )\n",
              "          )\n",
              "          (intermediate): BertIntermediate(\n",
              "            (dense): Linear(in_features=768, out_features=3072, bias=True)\n",
              "          )\n",
              "          (output): BertOutput(\n",
              "            (dense): Linear(in_features=3072, out_features=768, bias=True)\n",
              "            (LayerNorm): LayerNorm((768,), eps=1e-12, elementwise_affine=True)\n",
              "            (dropout): Dropout(p=0.1, inplace=False)\n",
              "          )\n",
              "        )\n",
              "        (9): BertLayer(\n",
              "          (attention): BertAttention(\n",
              "            (self): BertSelfAttention(\n",
              "              (query): Linear(in_features=768, out_features=768, bias=True)\n",
              "              (key): Linear(in_features=768, out_features=768, bias=True)\n",
              "              (value): Linear(in_features=768, out_features=768, bias=True)\n",
              "              (dropout): Dropout(p=0.1, inplace=False)\n",
              "            )\n",
              "            (output): BertSelfOutput(\n",
              "              (dense): Linear(in_features=768, out_features=768, bias=True)\n",
              "              (LayerNorm): LayerNorm((768,), eps=1e-12, elementwise_affine=True)\n",
              "              (dropout): Dropout(p=0.1, inplace=False)\n",
              "            )\n",
              "          )\n",
              "          (intermediate): BertIntermediate(\n",
              "            (dense): Linear(in_features=768, out_features=3072, bias=True)\n",
              "          )\n",
              "          (output): BertOutput(\n",
              "            (dense): Linear(in_features=3072, out_features=768, bias=True)\n",
              "            (LayerNorm): LayerNorm((768,), eps=1e-12, elementwise_affine=True)\n",
              "            (dropout): Dropout(p=0.1, inplace=False)\n",
              "          )\n",
              "        )\n",
              "        (10): BertLayer(\n",
              "          (attention): BertAttention(\n",
              "            (self): BertSelfAttention(\n",
              "              (query): Linear(in_features=768, out_features=768, bias=True)\n",
              "              (key): Linear(in_features=768, out_features=768, bias=True)\n",
              "              (value): Linear(in_features=768, out_features=768, bias=True)\n",
              "              (dropout): Dropout(p=0.1, inplace=False)\n",
              "            )\n",
              "            (output): BertSelfOutput(\n",
              "              (dense): Linear(in_features=768, out_features=768, bias=True)\n",
              "              (LayerNorm): LayerNorm((768,), eps=1e-12, elementwise_affine=True)\n",
              "              (dropout): Dropout(p=0.1, inplace=False)\n",
              "            )\n",
              "          )\n",
              "          (intermediate): BertIntermediate(\n",
              "            (dense): Linear(in_features=768, out_features=3072, bias=True)\n",
              "          )\n",
              "          (output): BertOutput(\n",
              "            (dense): Linear(in_features=3072, out_features=768, bias=True)\n",
              "            (LayerNorm): LayerNorm((768,), eps=1e-12, elementwise_affine=True)\n",
              "            (dropout): Dropout(p=0.1, inplace=False)\n",
              "          )\n",
              "        )\n",
              "        (11): BertLayer(\n",
              "          (attention): BertAttention(\n",
              "            (self): BertSelfAttention(\n",
              "              (query): Linear(in_features=768, out_features=768, bias=True)\n",
              "              (key): Linear(in_features=768, out_features=768, bias=True)\n",
              "              (value): Linear(in_features=768, out_features=768, bias=True)\n",
              "              (dropout): Dropout(p=0.1, inplace=False)\n",
              "            )\n",
              "            (output): BertSelfOutput(\n",
              "              (dense): Linear(in_features=768, out_features=768, bias=True)\n",
              "              (LayerNorm): LayerNorm((768,), eps=1e-12, elementwise_affine=True)\n",
              "              (dropout): Dropout(p=0.1, inplace=False)\n",
              "            )\n",
              "          )\n",
              "          (intermediate): BertIntermediate(\n",
              "            (dense): Linear(in_features=768, out_features=3072, bias=True)\n",
              "          )\n",
              "          (output): BertOutput(\n",
              "            (dense): Linear(in_features=3072, out_features=768, bias=True)\n",
              "            (LayerNorm): LayerNorm((768,), eps=1e-12, elementwise_affine=True)\n",
              "            (dropout): Dropout(p=0.1, inplace=False)\n",
              "          )\n",
              "        )\n",
              "      )\n",
              "    )\n",
              "    (pooler): BertPooler(\n",
              "      (dense): Linear(in_features=768, out_features=768, bias=True)\n",
              "      (activation): Tanh()\n",
              "    )\n",
              "  )\n",
              "  (dropout): Dropout(p=0.1, inplace=False)\n",
              "  (classifier): Linear(in_features=768, out_features=5, bias=True)\n",
              ")"
            ]
          },
          "metadata": {
            "tags": []
          },
          "execution_count": 84
        }
      ]
    },
    {
      "cell_type": "code",
      "metadata": {
        "colab": {
          "base_uri": "https://localhost:8080/",
          "height": 0
        },
        "id": "7S9vFL4hEDwi",
        "outputId": "0f5763a5-d884-422e-c489-df9579a3561c"
      },
      "source": [
        "# Get all of the model's parameters as a list of tuples.\n",
        "params = list(model.named_parameters())\n",
        "\n",
        "print('The BERT model has {:} different named parameters.\\n'.format(len(params)))\n",
        "\n",
        "print('==== Embedding Layer ====\\n')\n",
        "\n",
        "for p in params[0:5]:\n",
        "    print(\"{:<55} {:>12}\".format(p[0], str(tuple(p[1].size()))))\n",
        "\n",
        "print('\\n==== First Transformer ====\\n')\n",
        "\n",
        "for p in params[5:21]:\n",
        "    print(\"{:<55} {:>12}\".format(p[0], str(tuple(p[1].size()))))\n",
        "\n",
        "print('\\n==== Output Layer ====\\n')\n",
        "\n",
        "for p in params[-4:]:\n",
        "    print(\"{:<55} {:>12}\".format(p[0], str(tuple(p[1].size()))))"
      ],
      "execution_count": 38,
      "outputs": [
        {
          "output_type": "stream",
          "text": [
            "The BERT model has 201 different named parameters.\n",
            "\n",
            "==== Embedding Layer ====\n",
            "\n",
            "bert.embeddings.word_embeddings.weight                  (30522, 768)\n",
            "bert.embeddings.position_embeddings.weight                (512, 768)\n",
            "bert.embeddings.token_type_embeddings.weight                (2, 768)\n",
            "bert.embeddings.LayerNorm.weight                              (768,)\n",
            "bert.embeddings.LayerNorm.bias                                (768,)\n",
            "\n",
            "==== First Transformer ====\n",
            "\n",
            "bert.encoder.layer.0.attention.self.query.weight          (768, 768)\n",
            "bert.encoder.layer.0.attention.self.query.bias                (768,)\n",
            "bert.encoder.layer.0.attention.self.key.weight            (768, 768)\n",
            "bert.encoder.layer.0.attention.self.key.bias                  (768,)\n",
            "bert.encoder.layer.0.attention.self.value.weight          (768, 768)\n",
            "bert.encoder.layer.0.attention.self.value.bias                (768,)\n",
            "bert.encoder.layer.0.attention.output.dense.weight        (768, 768)\n",
            "bert.encoder.layer.0.attention.output.dense.bias              (768,)\n",
            "bert.encoder.layer.0.attention.output.LayerNorm.weight        (768,)\n",
            "bert.encoder.layer.0.attention.output.LayerNorm.bias          (768,)\n",
            "bert.encoder.layer.0.intermediate.dense.weight           (3072, 768)\n",
            "bert.encoder.layer.0.intermediate.dense.bias                 (3072,)\n",
            "bert.encoder.layer.0.output.dense.weight                 (768, 3072)\n",
            "bert.encoder.layer.0.output.dense.bias                        (768,)\n",
            "bert.encoder.layer.0.output.LayerNorm.weight                  (768,)\n",
            "bert.encoder.layer.0.output.LayerNorm.bias                    (768,)\n",
            "\n",
            "==== Output Layer ====\n",
            "\n",
            "bert.pooler.dense.weight                                  (768, 768)\n",
            "bert.pooler.dense.bias                                        (768,)\n",
            "classifier.weight                                           (5, 768)\n",
            "classifier.bias                                                 (5,)\n"
          ],
          "name": "stdout"
        }
      ]
    },
    {
      "cell_type": "code",
      "metadata": {
        "id": "WQ4clbMxERQU"
      },
      "source": [
        "optimizer = AdamW(model.parameters(),\n",
        "                  lr = 2e-5, # args.learning_rate - default is 5e-5, our notebook had 2e-5\n",
        "                  eps = 1e-8 # args.adam_epsilon  - default is 1e-8.\n",
        "                )\n"
      ],
      "execution_count": 39,
      "outputs": []
    },
    {
      "cell_type": "code",
      "metadata": {
        "id": "r1wLunzyERNq"
      },
      "source": [
        "from transformers import get_linear_schedule_with_warmup\n",
        "\n",
        "# Number of training epochs. The BERT authors recommend between 2 and 4. \n",
        "# We chose to run for 4, but we'll see later that this may be over-fitting the\n",
        "# training data.\n",
        "epochs = 4\n",
        "\n",
        "# Total number of training steps is [number of batches] x [number of epochs]. \n",
        "# (Note that this is not the same as the number of training samples).\n",
        "total_steps = len(train_dataloader) * epochs\n",
        "\n",
        "# Create the learning rate scheduler.\n",
        "scheduler = get_linear_schedule_with_warmup(optimizer, \n",
        "                                            num_warmup_steps = 0, # Default value in run_glue.py\n",
        "                                            num_training_steps = total_steps)"
      ],
      "execution_count": 40,
      "outputs": []
    },
    {
      "cell_type": "code",
      "metadata": {
        "id": "P0B3A4bOERLC"
      },
      "source": [
        "import numpy as np\n",
        "\n",
        "# Function to calculate the accuracy of our predictions vs labels\n",
        "def flat_accuracy(preds, labels):\n",
        "    pred_flat = np.argmax(preds, axis=1).flatten()\n",
        "    labels_flat = labels.flatten()\n",
        "    return np.sum(pred_flat == labels_flat) / len(labels_flat)"
      ],
      "execution_count": 41,
      "outputs": []
    },
    {
      "cell_type": "code",
      "metadata": {
        "id": "er4qwblOEXvP"
      },
      "source": [
        "import time\n",
        "import datetime\n",
        "\n",
        "def format_time(elapsed):\n",
        "    '''\n",
        "    Takes a time in seconds and returns a string hh:mm:ss\n",
        "    '''\n",
        "    # Round to the nearest second.\n",
        "    elapsed_rounded = int(round((elapsed)))\n",
        "    \n",
        "    # Format as hh:mm:ss\n",
        "    return str(datetime.timedelta(seconds=elapsed_rounded))"
      ],
      "execution_count": 42,
      "outputs": []
    },
    {
      "cell_type": "code",
      "metadata": {
        "colab": {
          "base_uri": "https://localhost:8080/",
          "height": 0
        },
        "id": "dkzpDH2-EXnm",
        "outputId": "3b51e53c-9415-4079-f330-7627a91ee74e"
      },
      "source": [
        "import random\n",
        "import numpy as np\n",
        "\n",
        "# This training code is based on the `run_glue.py` script here:\n",
        "# https://github.com/huggingface/transformers/blob/5bfcd0485ece086ebcbed2d008813037968a9e58/examples/run_glue.py#L128\n",
        "\n",
        "# Set the seed value all over the place to make this reproducible.\n",
        "seed_val = 42\n",
        "\n",
        "random.seed(seed_val)\n",
        "np.random.seed(seed_val)\n",
        "torch.manual_seed(seed_val)\n",
        "torch.cuda.manual_seed_all(seed_val)\n",
        "\n",
        "# We'll store a number of quantities such as training and validation loss, \n",
        "# validation accuracy, and timings.\n",
        "training_stats = []\n",
        "\n",
        "# Measure the total training time for the whole run.\n",
        "total_t0 = time.time()\n",
        "\n",
        "# For each epoch...\n",
        "for epoch_i in range(0, epochs):\n",
        "    \n",
        "    # ========================================\n",
        "    #               Training\n",
        "    # ========================================\n",
        "    \n",
        "    # Perform one full pass over the training set.\n",
        "\n",
        "    print(\"\")\n",
        "    print('======== Epoch {:} / {:} ========'.format(epoch_i + 1, epochs))\n",
        "    print('Training...')\n",
        "\n",
        "    # Measure how long the training epoch takes.\n",
        "    t0 = time.time()\n",
        "\n",
        "    # Reset the total loss for this epoch.\n",
        "    total_train_loss = 0\n",
        "\n",
        "    # Put the model into training mode. Don't be mislead--the call to \n",
        "    # `train` just changes the *mode*, it doesn't *perform* the training.\n",
        "    # `dropout` and `batchnorm` layers behave differently during training\n",
        "    # vs. test (source: https://stackoverflow.com/questions/51433378/what-does-model-train-do-in-pytorch)\n",
        "    model.train()\n",
        "\n",
        "    # For each batch of training data...\n",
        "    for step, batch in enumerate(train_dataloader):\n",
        "\n",
        "        # Progress update every 40 batches.\n",
        "        if step % 40 == 0 and not step == 0:\n",
        "            # Calculate elapsed time in minutes.\n",
        "            elapsed = format_time(time.time() - t0)\n",
        "            \n",
        "            # Report progress.\n",
        "            print('  Batch {:>5,}  of  {:>5,}.    Elapsed: {:}.'.format(step, len(train_dataloader), elapsed))\n",
        "\n",
        "        # Unpack this training batch from our dataloader. \n",
        "        #\n",
        "        # As we unpack the batch, we'll also copy each tensor to the GPU using the \n",
        "        # `to` method.\n",
        "        #\n",
        "        # `batch` contains three pytorch tensors:\n",
        "        #   [0]: input ids \n",
        "        #   [1]: attention masks\n",
        "        #   [2]: labels \n",
        "        b_input_ids = batch[0].to(device)\n",
        "        b_input_mask = batch[1].to(device)\n",
        "        b_labels = batch[2].to(device)\n",
        "\n",
        "        # Always clear any previously calculated gradients before performing a\n",
        "        # backward pass. PyTorch doesn't do this automatically because \n",
        "        # accumulating the gradients is \"convenient while training RNNs\". \n",
        "        # (source: https://stackoverflow.com/questions/48001598/why-do-we-need-to-call-zero-grad-in-pytorch)\n",
        "        model.zero_grad()        \n",
        "\n",
        "        # Perform a forward pass (evaluate the model on this training batch).\n",
        "        # In PyTorch, calling `model` will in turn call the model's `forward` \n",
        "        # function and pass down the arguments. The `forward` function is \n",
        "        # documented here: \n",
        "        # https://huggingface.co/transformers/model_doc/bert.html#bertforsequenceclassification\n",
        "        # The results are returned in a results object, documented here:\n",
        "        # https://huggingface.co/transformers/main_classes/output.html#transformers.modeling_outputs.SequenceClassifierOutput\n",
        "        # Specifically, we'll get the loss (because we provided labels) and the\n",
        "        # \"logits\"--the model outputs prior to activation.\n",
        "        result = model(b_input_ids, \n",
        "                       token_type_ids=None, \n",
        "                       attention_mask=b_input_mask, \n",
        "                       labels=b_labels,\n",
        "                       return_dict=True)\n",
        "\n",
        "        loss = result.loss\n",
        "        logits = result.logits\n",
        "\n",
        "        # Accumulate the training loss over all of the batches so that we can\n",
        "        # calculate the average loss at the end. `loss` is a Tensor containing a\n",
        "        # single value; the `.item()` function just returns the Python value \n",
        "        # from the tensor.\n",
        "        total_train_loss += loss.item()\n",
        "\n",
        "        # Perform a backward pass to calculate the gradients.\n",
        "        loss.backward()\n",
        "\n",
        "        # Clip the norm of the gradients to 1.0.\n",
        "        # This is to help prevent the \"exploding gradients\" problem.\n",
        "        torch.nn.utils.clip_grad_norm_(model.parameters(), 1.0)\n",
        "\n",
        "        # Update parameters and take a step using the computed gradient.\n",
        "        # The optimizer dictates the \"update rule\"--how the parameters are\n",
        "        # modified based on their gradients, the learning rate, etc.\n",
        "        optimizer.step()\n",
        "\n",
        "        # Update the learning rate.\n",
        "        scheduler.step()\n",
        "\n",
        "    # Calculate the average loss over all of the batches.\n",
        "    avg_train_loss = total_train_loss / len(train_dataloader)            \n",
        "    \n",
        "    # Measure how long this epoch took.\n",
        "    training_time = format_time(time.time() - t0)\n",
        "\n",
        "    print(\"\")\n",
        "    print(\"  Average training loss: {0:.2f}\".format(avg_train_loss))\n",
        "    print(\"  Training epcoh took: {:}\".format(training_time))\n",
        "        \n",
        "    # ========================================\n",
        "    #               Validation\n",
        "    # ========================================\n",
        "    # After the completion of each training epoch, measure our performance on\n",
        "    # our validation set.\n",
        "\n",
        "    print(\"\")\n",
        "    print(\"Running Validation...\")\n",
        "\n",
        "    t0 = time.time()\n",
        "\n",
        "    # Put the model in evaluation mode--the dropout layers behave differently\n",
        "    # during evaluation.\n",
        "    model.eval()\n",
        "\n",
        "    # Tracking variables \n",
        "    total_eval_accuracy = 0\n",
        "    total_eval_loss = 0\n",
        "    nb_eval_steps = 0\n",
        "\n",
        "    # Evaluate data for one epoch\n",
        "    for batch in validation_dataloader:\n",
        "        \n",
        "        # Unpack this training batch from our dataloader. \n",
        "        #\n",
        "        # As we unpack the batch, we'll also copy each tensor to the GPU using \n",
        "        # the `to` method.\n",
        "        #\n",
        "        # `batch` contains three pytorch tensors:\n",
        "        #   [0]: input ids \n",
        "        #   [1]: attention masks\n",
        "        #   [2]: labels \n",
        "        b_input_ids = batch[0].to(device)\n",
        "        b_input_mask = batch[1].to(device)\n",
        "        b_labels = batch[2].to(device)\n",
        "        \n",
        "        # Tell pytorch not to bother with constructing the compute graph during\n",
        "        # the forward pass, since this is only needed for backprop (training).\n",
        "        with torch.no_grad():        \n",
        "\n",
        "            # Forward pass, calculate logit predictions.\n",
        "            # token_type_ids is the same as the \"segment ids\", which \n",
        "            # differentiates sentence 1 and 2 in 2-sentence tasks.\n",
        "            result = model(b_input_ids, \n",
        "                           token_type_ids=None, \n",
        "                           attention_mask=b_input_mask,\n",
        "                           labels=b_labels,\n",
        "                           return_dict=True)\n",
        "\n",
        "        # Get the loss and \"logits\" output by the model. The \"logits\" are the \n",
        "        # output values prior to applying an activation function like the \n",
        "        # softmax.\n",
        "        loss = result.loss\n",
        "        logits = result.logits\n",
        "            \n",
        "        # Accumulate the validation loss.\n",
        "        total_eval_loss += loss.item()\n",
        "\n",
        "        # Move logits and labels to CPU\n",
        "        logits = logits.detach().cpu().numpy()\n",
        "        label_ids = b_labels.to('cpu').numpy()\n",
        "\n",
        "        # Calculate the accuracy for this batch of test sentences, and\n",
        "        # accumulate it over all batches.\n",
        "        total_eval_accuracy += flat_accuracy(logits, label_ids)\n",
        "        \n",
        "\n",
        "    # Report the final accuracy for this validation run.\n",
        "    avg_val_accuracy = total_eval_accuracy / len(validation_dataloader)\n",
        "    print(\"  Accuracy: {0:.2f}\".format(avg_val_accuracy))\n",
        "\n",
        "    # Calculate the average loss over all of the batches.\n",
        "    avg_val_loss = total_eval_loss / len(validation_dataloader)\n",
        "    \n",
        "    # Measure how long the validation run took.\n",
        "    validation_time = format_time(time.time() - t0)\n",
        "    \n",
        "    print(\"  Validation Loss: {0:.2f}\".format(avg_val_loss))\n",
        "    print(\"  Validation took: {:}\".format(validation_time))\n",
        "\n",
        "    # Record all statistics from this epoch.\n",
        "    training_stats.append(\n",
        "        {\n",
        "            'epoch': epoch_i + 1,\n",
        "            'Training Loss': avg_train_loss,\n",
        "            'Valid. Loss': avg_val_loss,\n",
        "            'Valid. Accur.': avg_val_accuracy,\n",
        "            'Training Time': training_time,\n",
        "            'Validation Time': validation_time\n",
        "        }\n",
        "    )\n",
        "\n",
        "print(\"\")\n",
        "print(\"Training complete!\")\n",
        "\n",
        "print(\"Total training took {:} (h:mm:ss)\".format(format_time(time.time()-total_t0)))"
      ],
      "execution_count": null,
      "outputs": [
        {
          "output_type": "stream",
          "text": [
            "\n",
            "======== Epoch 1 / 4 ========\n",
            "Training...\n",
            "  Batch    40  of  5,064.    Elapsed: 0:00:14.\n",
            "  Batch    80  of  5,064.    Elapsed: 0:00:28.\n",
            "  Batch   120  of  5,064.    Elapsed: 0:00:42.\n",
            "  Batch   160  of  5,064.    Elapsed: 0:00:56.\n",
            "  Batch   200  of  5,064.    Elapsed: 0:01:11.\n",
            "  Batch   240  of  5,064.    Elapsed: 0:01:26.\n",
            "  Batch   280  of  5,064.    Elapsed: 0:01:40.\n",
            "  Batch   320  of  5,064.    Elapsed: 0:01:55.\n",
            "  Batch   360  of  5,064.    Elapsed: 0:02:09.\n",
            "  Batch   400  of  5,064.    Elapsed: 0:02:24.\n",
            "  Batch   440  of  5,064.    Elapsed: 0:02:38.\n",
            "  Batch   480  of  5,064.    Elapsed: 0:02:53.\n",
            "  Batch   520  of  5,064.    Elapsed: 0:03:07.\n",
            "  Batch   560  of  5,064.    Elapsed: 0:03:22.\n",
            "  Batch   600  of  5,064.    Elapsed: 0:03:36.\n",
            "  Batch   640  of  5,064.    Elapsed: 0:03:51.\n",
            "  Batch   680  of  5,064.    Elapsed: 0:04:06.\n",
            "  Batch   720  of  5,064.    Elapsed: 0:04:20.\n",
            "  Batch   760  of  5,064.    Elapsed: 0:04:35.\n",
            "  Batch   800  of  5,064.    Elapsed: 0:04:49.\n",
            "  Batch   840  of  5,064.    Elapsed: 0:05:04.\n",
            "  Batch   880  of  5,064.    Elapsed: 0:05:18.\n",
            "  Batch   920  of  5,064.    Elapsed: 0:05:33.\n",
            "  Batch   960  of  5,064.    Elapsed: 0:05:48.\n",
            "  Batch 1,000  of  5,064.    Elapsed: 0:06:02.\n",
            "  Batch 1,040  of  5,064.    Elapsed: 0:06:17.\n",
            "  Batch 1,080  of  5,064.    Elapsed: 0:06:31.\n",
            "  Batch 1,120  of  5,064.    Elapsed: 0:06:46.\n",
            "  Batch 1,160  of  5,064.    Elapsed: 0:07:00.\n",
            "  Batch 1,200  of  5,064.    Elapsed: 0:07:15.\n",
            "  Batch 1,240  of  5,064.    Elapsed: 0:07:29.\n",
            "  Batch 1,280  of  5,064.    Elapsed: 0:07:44.\n",
            "  Batch 1,320  of  5,064.    Elapsed: 0:07:58.\n",
            "  Batch 1,360  of  5,064.    Elapsed: 0:08:13.\n",
            "  Batch 1,400  of  5,064.    Elapsed: 0:08:27.\n",
            "  Batch 1,440  of  5,064.    Elapsed: 0:08:42.\n",
            "  Batch 1,480  of  5,064.    Elapsed: 0:08:57.\n",
            "  Batch 1,520  of  5,064.    Elapsed: 0:09:11.\n",
            "  Batch 1,560  of  5,064.    Elapsed: 0:09:26.\n",
            "  Batch 1,600  of  5,064.    Elapsed: 0:09:40.\n",
            "  Batch 1,640  of  5,064.    Elapsed: 0:09:55.\n",
            "  Batch 1,680  of  5,064.    Elapsed: 0:10:09.\n",
            "  Batch 1,720  of  5,064.    Elapsed: 0:10:24.\n",
            "  Batch 1,760  of  5,064.    Elapsed: 0:10:38.\n",
            "  Batch 1,800  of  5,064.    Elapsed: 0:10:53.\n",
            "  Batch 1,840  of  5,064.    Elapsed: 0:11:07.\n",
            "  Batch 1,880  of  5,064.    Elapsed: 0:11:22.\n",
            "  Batch 1,920  of  5,064.    Elapsed: 0:11:37.\n",
            "  Batch 1,960  of  5,064.    Elapsed: 0:11:51.\n",
            "  Batch 2,000  of  5,064.    Elapsed: 0:12:06.\n",
            "  Batch 2,040  of  5,064.    Elapsed: 0:12:20.\n",
            "  Batch 2,080  of  5,064.    Elapsed: 0:12:35.\n",
            "  Batch 2,120  of  5,064.    Elapsed: 0:12:49.\n",
            "  Batch 2,160  of  5,064.    Elapsed: 0:13:04.\n",
            "  Batch 2,200  of  5,064.    Elapsed: 0:13:18.\n",
            "  Batch 2,240  of  5,064.    Elapsed: 0:13:33.\n",
            "  Batch 2,280  of  5,064.    Elapsed: 0:13:48.\n",
            "  Batch 2,320  of  5,064.    Elapsed: 0:14:02.\n",
            "  Batch 2,360  of  5,064.    Elapsed: 0:14:17.\n",
            "  Batch 2,400  of  5,064.    Elapsed: 0:14:31.\n",
            "  Batch 2,440  of  5,064.    Elapsed: 0:14:46.\n",
            "  Batch 2,480  of  5,064.    Elapsed: 0:15:00.\n",
            "  Batch 2,520  of  5,064.    Elapsed: 0:15:15.\n",
            "  Batch 2,560  of  5,064.    Elapsed: 0:15:29.\n",
            "  Batch 2,600  of  5,064.    Elapsed: 0:15:44.\n",
            "  Batch 2,640  of  5,064.    Elapsed: 0:15:59.\n",
            "  Batch 2,680  of  5,064.    Elapsed: 0:16:13.\n",
            "  Batch 2,720  of  5,064.    Elapsed: 0:16:28.\n",
            "  Batch 2,760  of  5,064.    Elapsed: 0:16:42.\n",
            "  Batch 2,800  of  5,064.    Elapsed: 0:16:57.\n",
            "  Batch 2,840  of  5,064.    Elapsed: 0:17:11.\n",
            "  Batch 2,880  of  5,064.    Elapsed: 0:17:26.\n",
            "  Batch 2,920  of  5,064.    Elapsed: 0:17:40.\n",
            "  Batch 2,960  of  5,064.    Elapsed: 0:17:55.\n",
            "  Batch 3,000  of  5,064.    Elapsed: 0:18:09.\n",
            "  Batch 3,040  of  5,064.    Elapsed: 0:18:24.\n",
            "  Batch 3,080  of  5,064.    Elapsed: 0:18:38.\n",
            "  Batch 3,120  of  5,064.    Elapsed: 0:18:53.\n",
            "  Batch 3,160  of  5,064.    Elapsed: 0:19:08.\n",
            "  Batch 3,200  of  5,064.    Elapsed: 0:19:22.\n",
            "  Batch 3,240  of  5,064.    Elapsed: 0:19:37.\n",
            "  Batch 3,280  of  5,064.    Elapsed: 0:19:51.\n",
            "  Batch 3,320  of  5,064.    Elapsed: 0:20:06.\n",
            "  Batch 3,360  of  5,064.    Elapsed: 0:20:20.\n",
            "  Batch 3,400  of  5,064.    Elapsed: 0:20:35.\n",
            "  Batch 3,440  of  5,064.    Elapsed: 0:20:49.\n",
            "  Batch 3,480  of  5,064.    Elapsed: 0:21:04.\n",
            "  Batch 3,520  of  5,064.    Elapsed: 0:21:19.\n",
            "  Batch 3,560  of  5,064.    Elapsed: 0:21:33.\n",
            "  Batch 3,600  of  5,064.    Elapsed: 0:21:48.\n",
            "  Batch 3,640  of  5,064.    Elapsed: 0:22:02.\n",
            "  Batch 3,680  of  5,064.    Elapsed: 0:22:17.\n",
            "  Batch 3,720  of  5,064.    Elapsed: 0:22:31.\n",
            "  Batch 3,760  of  5,064.    Elapsed: 0:22:46.\n",
            "  Batch 3,800  of  5,064.    Elapsed: 0:23:00.\n",
            "  Batch 3,840  of  5,064.    Elapsed: 0:23:15.\n",
            "  Batch 3,880  of  5,064.    Elapsed: 0:23:29.\n",
            "  Batch 3,920  of  5,064.    Elapsed: 0:23:44.\n",
            "  Batch 3,960  of  5,064.    Elapsed: 0:23:59.\n",
            "  Batch 4,000  of  5,064.    Elapsed: 0:24:13.\n",
            "  Batch 4,040  of  5,064.    Elapsed: 0:24:28.\n",
            "  Batch 4,080  of  5,064.    Elapsed: 0:24:42.\n",
            "  Batch 4,120  of  5,064.    Elapsed: 0:24:57.\n",
            "  Batch 4,160  of  5,064.    Elapsed: 0:25:11.\n",
            "  Batch 4,200  of  5,064.    Elapsed: 0:25:26.\n",
            "  Batch 4,240  of  5,064.    Elapsed: 0:25:40.\n",
            "  Batch 4,280  of  5,064.    Elapsed: 0:25:55.\n",
            "  Batch 4,320  of  5,064.    Elapsed: 0:26:09.\n",
            "  Batch 4,360  of  5,064.    Elapsed: 0:26:24.\n",
            "  Batch 4,400  of  5,064.    Elapsed: 0:26:38.\n",
            "  Batch 4,440  of  5,064.    Elapsed: 0:26:53.\n",
            "  Batch 4,480  of  5,064.    Elapsed: 0:27:07.\n",
            "  Batch 4,520  of  5,064.    Elapsed: 0:27:22.\n",
            "  Batch 4,560  of  5,064.    Elapsed: 0:27:36.\n",
            "  Batch 4,600  of  5,064.    Elapsed: 0:27:51.\n",
            "  Batch 4,640  of  5,064.    Elapsed: 0:28:06.\n",
            "  Batch 4,680  of  5,064.    Elapsed: 0:28:20.\n",
            "  Batch 4,720  of  5,064.    Elapsed: 0:28:35.\n",
            "  Batch 4,760  of  5,064.    Elapsed: 0:28:49.\n",
            "  Batch 4,800  of  5,064.    Elapsed: 0:29:04.\n",
            "  Batch 4,840  of  5,064.    Elapsed: 0:29:18.\n",
            "  Batch 4,880  of  5,064.    Elapsed: 0:29:33.\n",
            "  Batch 4,920  of  5,064.    Elapsed: 0:29:47.\n",
            "  Batch 4,960  of  5,064.    Elapsed: 0:30:02.\n",
            "  Batch 5,000  of  5,064.    Elapsed: 0:30:16.\n",
            "  Batch 5,040  of  5,064.    Elapsed: 0:30:31.\n",
            "\n",
            "  Average training loss: 0.41\n",
            "  Training epcoh took: 0:30:39\n",
            "\n",
            "Running Validation...\n",
            "  Accuracy: 0.87\n",
            "  Validation Loss: 0.37\n",
            "  Validation took: 0:01:08\n",
            "\n",
            "======== Epoch 2 / 4 ========\n",
            "Training...\n",
            "  Batch    40  of  5,064.    Elapsed: 0:00:15.\n",
            "  Batch    80  of  5,064.    Elapsed: 0:00:29.\n",
            "  Batch   120  of  5,064.    Elapsed: 0:00:44.\n",
            "  Batch   160  of  5,064.    Elapsed: 0:00:58.\n",
            "  Batch   200  of  5,064.    Elapsed: 0:01:13.\n",
            "  Batch   240  of  5,064.    Elapsed: 0:01:27.\n",
            "  Batch   280  of  5,064.    Elapsed: 0:01:42.\n",
            "  Batch   320  of  5,064.    Elapsed: 0:01:56.\n",
            "  Batch   360  of  5,064.    Elapsed: 0:02:11.\n",
            "  Batch   400  of  5,064.    Elapsed: 0:02:25.\n",
            "  Batch   440  of  5,064.    Elapsed: 0:02:40.\n",
            "  Batch   480  of  5,064.    Elapsed: 0:02:55.\n",
            "  Batch   520  of  5,064.    Elapsed: 0:03:09.\n",
            "  Batch   560  of  5,064.    Elapsed: 0:03:24.\n",
            "  Batch   600  of  5,064.    Elapsed: 0:03:38.\n",
            "  Batch   640  of  5,064.    Elapsed: 0:03:53.\n",
            "  Batch   680  of  5,064.    Elapsed: 0:04:07.\n",
            "  Batch   720  of  5,064.    Elapsed: 0:04:22.\n",
            "  Batch   760  of  5,064.    Elapsed: 0:04:36.\n",
            "  Batch   800  of  5,064.    Elapsed: 0:04:51.\n",
            "  Batch   840  of  5,064.    Elapsed: 0:05:05.\n",
            "  Batch   880  of  5,064.    Elapsed: 0:05:20.\n",
            "  Batch   920  of  5,064.    Elapsed: 0:05:34.\n",
            "  Batch   960  of  5,064.    Elapsed: 0:05:49.\n",
            "  Batch 1,000  of  5,064.    Elapsed: 0:06:04.\n",
            "  Batch 1,040  of  5,064.    Elapsed: 0:06:18.\n",
            "  Batch 1,080  of  5,064.    Elapsed: 0:06:33.\n",
            "  Batch 1,120  of  5,064.    Elapsed: 0:06:47.\n",
            "  Batch 1,160  of  5,064.    Elapsed: 0:07:02.\n",
            "  Batch 1,200  of  5,064.    Elapsed: 0:07:16.\n",
            "  Batch 1,240  of  5,064.    Elapsed: 0:07:31.\n",
            "  Batch 1,280  of  5,064.    Elapsed: 0:07:45.\n",
            "  Batch 1,320  of  5,064.    Elapsed: 0:08:00.\n",
            "  Batch 1,360  of  5,064.    Elapsed: 0:08:14.\n",
            "  Batch 1,400  of  5,064.    Elapsed: 0:08:29.\n",
            "  Batch 1,440  of  5,064.    Elapsed: 0:08:43.\n",
            "  Batch 1,480  of  5,064.    Elapsed: 0:08:58.\n",
            "  Batch 1,520  of  5,064.    Elapsed: 0:09:13.\n",
            "  Batch 1,560  of  5,064.    Elapsed: 0:09:27.\n",
            "  Batch 1,600  of  5,064.    Elapsed: 0:09:42.\n",
            "  Batch 1,640  of  5,064.    Elapsed: 0:09:56.\n",
            "  Batch 1,680  of  5,064.    Elapsed: 0:10:11.\n",
            "  Batch 1,720  of  5,064.    Elapsed: 0:10:25.\n",
            "  Batch 1,760  of  5,064.    Elapsed: 0:10:40.\n",
            "  Batch 1,800  of  5,064.    Elapsed: 0:10:54.\n",
            "  Batch 1,840  of  5,064.    Elapsed: 0:11:09.\n",
            "  Batch 1,880  of  5,064.    Elapsed: 0:11:23.\n",
            "  Batch 1,920  of  5,064.    Elapsed: 0:11:38.\n",
            "  Batch 1,960  of  5,064.    Elapsed: 0:11:52.\n",
            "  Batch 2,000  of  5,064.    Elapsed: 0:12:07.\n",
            "  Batch 2,040  of  5,064.    Elapsed: 0:12:22.\n",
            "  Batch 2,080  of  5,064.    Elapsed: 0:12:36.\n",
            "  Batch 2,120  of  5,064.    Elapsed: 0:12:51.\n",
            "  Batch 2,160  of  5,064.    Elapsed: 0:13:05.\n",
            "  Batch 2,200  of  5,064.    Elapsed: 0:13:20.\n",
            "  Batch 2,240  of  5,064.    Elapsed: 0:13:34.\n",
            "  Batch 2,280  of  5,064.    Elapsed: 0:13:49.\n",
            "  Batch 2,320  of  5,064.    Elapsed: 0:14:03.\n",
            "  Batch 2,360  of  5,064.    Elapsed: 0:14:18.\n",
            "  Batch 2,400  of  5,064.    Elapsed: 0:14:32.\n",
            "  Batch 2,440  of  5,064.    Elapsed: 0:14:47.\n",
            "  Batch 2,480  of  5,064.    Elapsed: 0:15:01.\n",
            "  Batch 2,520  of  5,064.    Elapsed: 0:15:16.\n",
            "  Batch 2,560  of  5,064.    Elapsed: 0:15:31.\n",
            "  Batch 2,600  of  5,064.    Elapsed: 0:15:45.\n",
            "  Batch 2,640  of  5,064.    Elapsed: 0:16:00.\n",
            "  Batch 2,680  of  5,064.    Elapsed: 0:16:14.\n",
            "  Batch 2,720  of  5,064.    Elapsed: 0:16:29.\n",
            "  Batch 2,760  of  5,064.    Elapsed: 0:16:43.\n",
            "  Batch 2,800  of  5,064.    Elapsed: 0:16:58.\n",
            "  Batch 2,840  of  5,064.    Elapsed: 0:17:12.\n",
            "  Batch 2,880  of  5,064.    Elapsed: 0:17:27.\n",
            "  Batch 2,920  of  5,064.    Elapsed: 0:17:41.\n",
            "  Batch 2,960  of  5,064.    Elapsed: 0:17:56.\n",
            "  Batch 3,000  of  5,064.    Elapsed: 0:18:10.\n",
            "  Batch 3,040  of  5,064.    Elapsed: 0:18:25.\n",
            "  Batch 3,080  of  5,064.    Elapsed: 0:18:39.\n",
            "  Batch 3,120  of  5,064.    Elapsed: 0:18:54.\n",
            "  Batch 3,160  of  5,064.    Elapsed: 0:19:08.\n",
            "  Batch 3,200  of  5,064.    Elapsed: 0:19:23.\n",
            "  Batch 3,240  of  5,064.    Elapsed: 0:19:38.\n",
            "  Batch 3,280  of  5,064.    Elapsed: 0:19:52.\n",
            "  Batch 3,320  of  5,064.    Elapsed: 0:20:07.\n",
            "  Batch 3,360  of  5,064.    Elapsed: 0:20:21.\n",
            "  Batch 3,400  of  5,064.    Elapsed: 0:20:36.\n",
            "  Batch 3,440  of  5,064.    Elapsed: 0:20:50.\n",
            "  Batch 3,480  of  5,064.    Elapsed: 0:21:05.\n",
            "  Batch 3,520  of  5,064.    Elapsed: 0:21:19.\n",
            "  Batch 3,560  of  5,064.    Elapsed: 0:21:34.\n",
            "  Batch 3,600  of  5,064.    Elapsed: 0:21:48.\n",
            "  Batch 3,640  of  5,064.    Elapsed: 0:22:03.\n",
            "  Batch 3,680  of  5,064.    Elapsed: 0:22:18.\n",
            "  Batch 3,720  of  5,064.    Elapsed: 0:22:32.\n",
            "  Batch 3,760  of  5,064.    Elapsed: 0:22:47.\n",
            "  Batch 3,800  of  5,064.    Elapsed: 0:23:01.\n",
            "  Batch 3,840  of  5,064.    Elapsed: 0:23:16.\n",
            "  Batch 3,880  of  5,064.    Elapsed: 0:23:30.\n",
            "  Batch 3,920  of  5,064.    Elapsed: 0:23:45.\n",
            "  Batch 3,960  of  5,064.    Elapsed: 0:23:59.\n",
            "  Batch 4,000  of  5,064.    Elapsed: 0:24:14.\n",
            "  Batch 4,040  of  5,064.    Elapsed: 0:24:29.\n",
            "  Batch 4,080  of  5,064.    Elapsed: 0:24:43.\n",
            "  Batch 4,120  of  5,064.    Elapsed: 0:24:58.\n",
            "  Batch 4,160  of  5,064.    Elapsed: 0:25:12.\n",
            "  Batch 4,200  of  5,064.    Elapsed: 0:25:27.\n",
            "  Batch 4,240  of  5,064.    Elapsed: 0:25:41.\n",
            "  Batch 4,280  of  5,064.    Elapsed: 0:25:56.\n",
            "  Batch 4,320  of  5,064.    Elapsed: 0:26:10.\n",
            "  Batch 4,360  of  5,064.    Elapsed: 0:26:25.\n",
            "  Batch 4,400  of  5,064.    Elapsed: 0:26:39.\n",
            "  Batch 4,440  of  5,064.    Elapsed: 0:26:54.\n",
            "  Batch 4,480  of  5,064.    Elapsed: 0:27:08.\n",
            "  Batch 4,520  of  5,064.    Elapsed: 0:27:23.\n",
            "  Batch 4,560  of  5,064.    Elapsed: 0:27:38.\n",
            "  Batch 4,600  of  5,064.    Elapsed: 0:27:52.\n",
            "  Batch 4,640  of  5,064.    Elapsed: 0:28:07.\n",
            "  Batch 4,680  of  5,064.    Elapsed: 0:28:21.\n",
            "  Batch 4,720  of  5,064.    Elapsed: 0:28:36.\n",
            "  Batch 4,760  of  5,064.    Elapsed: 0:28:50.\n",
            "  Batch 4,800  of  5,064.    Elapsed: 0:29:05.\n",
            "  Batch 4,840  of  5,064.    Elapsed: 0:29:20.\n",
            "  Batch 4,880  of  5,064.    Elapsed: 0:29:34.\n",
            "  Batch 4,920  of  5,064.    Elapsed: 0:29:49.\n",
            "  Batch 4,960  of  5,064.    Elapsed: 0:30:03.\n",
            "  Batch 5,000  of  5,064.    Elapsed: 0:30:18.\n",
            "  Batch 5,040  of  5,064.    Elapsed: 0:30:32.\n",
            "\n",
            "  Average training loss: 0.31\n",
            "  Training epcoh took: 0:30:41\n",
            "\n",
            "Running Validation...\n",
            "  Accuracy: 0.87\n",
            "  Validation Loss: 0.37\n",
            "  Validation took: 0:01:08\n",
            "\n",
            "======== Epoch 3 / 4 ========\n",
            "Training...\n",
            "  Batch    40  of  5,064.    Elapsed: 0:00:15.\n",
            "  Batch    80  of  5,064.    Elapsed: 0:00:29.\n",
            "  Batch   120  of  5,064.    Elapsed: 0:00:44.\n",
            "  Batch   160  of  5,064.    Elapsed: 0:00:58.\n",
            "  Batch   200  of  5,064.    Elapsed: 0:01:13.\n",
            "  Batch   240  of  5,064.    Elapsed: 0:01:27.\n",
            "  Batch   280  of  5,064.    Elapsed: 0:01:42.\n",
            "  Batch   320  of  5,064.    Elapsed: 0:01:56.\n",
            "  Batch   360  of  5,064.    Elapsed: 0:02:11.\n",
            "  Batch   400  of  5,064.    Elapsed: 0:02:26.\n",
            "  Batch   440  of  5,064.    Elapsed: 0:02:40.\n",
            "  Batch   480  of  5,064.    Elapsed: 0:02:55.\n",
            "  Batch   520  of  5,064.    Elapsed: 0:03:09.\n",
            "  Batch   560  of  5,064.    Elapsed: 0:03:24.\n",
            "  Batch   600  of  5,064.    Elapsed: 0:03:38.\n",
            "  Batch   640  of  5,064.    Elapsed: 0:03:53.\n",
            "  Batch   680  of  5,064.    Elapsed: 0:04:07.\n",
            "  Batch   720  of  5,064.    Elapsed: 0:04:22.\n",
            "  Batch   760  of  5,064.    Elapsed: 0:04:36.\n",
            "  Batch   800  of  5,064.    Elapsed: 0:04:51.\n",
            "  Batch   840  of  5,064.    Elapsed: 0:05:05.\n",
            "  Batch   880  of  5,064.    Elapsed: 0:05:20.\n",
            "  Batch   920  of  5,064.    Elapsed: 0:05:34.\n",
            "  Batch   960  of  5,064.    Elapsed: 0:05:49.\n",
            "  Batch 1,000  of  5,064.    Elapsed: 0:06:03.\n",
            "  Batch 1,040  of  5,064.    Elapsed: 0:06:18.\n",
            "  Batch 1,080  of  5,064.    Elapsed: 0:06:33.\n",
            "  Batch 1,120  of  5,064.    Elapsed: 0:06:47.\n",
            "  Batch 1,160  of  5,064.    Elapsed: 0:07:02.\n",
            "  Batch 1,200  of  5,064.    Elapsed: 0:07:16.\n",
            "  Batch 1,240  of  5,064.    Elapsed: 0:07:31.\n",
            "  Batch 1,280  of  5,064.    Elapsed: 0:07:45.\n",
            "  Batch 1,320  of  5,064.    Elapsed: 0:08:00.\n",
            "  Batch 1,360  of  5,064.    Elapsed: 0:08:14.\n",
            "  Batch 1,400  of  5,064.    Elapsed: 0:08:29.\n",
            "  Batch 1,440  of  5,064.    Elapsed: 0:08:43.\n",
            "  Batch 1,480  of  5,064.    Elapsed: 0:08:58.\n",
            "  Batch 1,520  of  5,064.    Elapsed: 0:09:12.\n",
            "  Batch 1,560  of  5,064.    Elapsed: 0:09:27.\n",
            "  Batch 1,600  of  5,064.    Elapsed: 0:09:41.\n",
            "  Batch 1,640  of  5,064.    Elapsed: 0:09:56.\n",
            "  Batch 1,680  of  5,064.    Elapsed: 0:10:10.\n",
            "  Batch 1,720  of  5,064.    Elapsed: 0:10:25.\n",
            "  Batch 1,760  of  5,064.    Elapsed: 0:10:39.\n",
            "  Batch 1,800  of  5,064.    Elapsed: 0:10:54.\n",
            "  Batch 1,840  of  5,064.    Elapsed: 0:11:09.\n",
            "  Batch 1,880  of  5,064.    Elapsed: 0:11:23.\n",
            "  Batch 1,920  of  5,064.    Elapsed: 0:11:38.\n",
            "  Batch 1,960  of  5,064.    Elapsed: 0:11:52.\n",
            "  Batch 2,000  of  5,064.    Elapsed: 0:12:07.\n",
            "  Batch 2,040  of  5,064.    Elapsed: 0:12:21.\n",
            "  Batch 2,080  of  5,064.    Elapsed: 0:12:36.\n",
            "  Batch 2,120  of  5,064.    Elapsed: 0:12:50.\n",
            "  Batch 2,160  of  5,064.    Elapsed: 0:13:05.\n",
            "  Batch 2,200  of  5,064.    Elapsed: 0:13:19.\n",
            "  Batch 2,240  of  5,064.    Elapsed: 0:13:34.\n",
            "  Batch 2,280  of  5,064.    Elapsed: 0:13:48.\n",
            "  Batch 2,320  of  5,064.    Elapsed: 0:14:03.\n",
            "  Batch 2,360  of  5,064.    Elapsed: 0:14:18.\n",
            "  Batch 2,400  of  5,064.    Elapsed: 0:14:32.\n",
            "  Batch 2,440  of  5,064.    Elapsed: 0:14:47.\n",
            "  Batch 2,480  of  5,064.    Elapsed: 0:15:01.\n",
            "  Batch 2,520  of  5,064.    Elapsed: 0:15:16.\n",
            "  Batch 2,560  of  5,064.    Elapsed: 0:15:30.\n",
            "  Batch 2,600  of  5,064.    Elapsed: 0:15:45.\n",
            "  Batch 2,640  of  5,064.    Elapsed: 0:15:59.\n",
            "  Batch 2,680  of  5,064.    Elapsed: 0:16:14.\n",
            "  Batch 2,720  of  5,064.    Elapsed: 0:16:28.\n",
            "  Batch 2,760  of  5,064.    Elapsed: 0:16:43.\n",
            "  Batch 2,800  of  5,064.    Elapsed: 0:16:57.\n",
            "  Batch 2,840  of  5,064.    Elapsed: 0:17:12.\n",
            "  Batch 2,880  of  5,064.    Elapsed: 0:17:26.\n",
            "  Batch 2,920  of  5,064.    Elapsed: 0:17:41.\n",
            "  Batch 2,960  of  5,064.    Elapsed: 0:17:55.\n",
            "  Batch 3,000  of  5,064.    Elapsed: 0:18:10.\n",
            "  Batch 3,040  of  5,064.    Elapsed: 0:18:25.\n",
            "  Batch 3,080  of  5,064.    Elapsed: 0:18:39.\n",
            "  Batch 3,120  of  5,064.    Elapsed: 0:18:54.\n",
            "  Batch 3,160  of  5,064.    Elapsed: 0:19:08.\n",
            "  Batch 3,200  of  5,064.    Elapsed: 0:19:23.\n",
            "  Batch 3,240  of  5,064.    Elapsed: 0:19:37.\n",
            "  Batch 3,280  of  5,064.    Elapsed: 0:19:52.\n",
            "  Batch 3,320  of  5,064.    Elapsed: 0:20:06.\n",
            "  Batch 3,360  of  5,064.    Elapsed: 0:20:21.\n",
            "  Batch 3,400  of  5,064.    Elapsed: 0:20:36.\n",
            "  Batch 3,440  of  5,064.    Elapsed: 0:20:50.\n",
            "  Batch 3,480  of  5,064.    Elapsed: 0:21:05.\n",
            "  Batch 3,520  of  5,064.    Elapsed: 0:21:19.\n",
            "  Batch 3,560  of  5,064.    Elapsed: 0:21:34.\n",
            "  Batch 3,600  of  5,064.    Elapsed: 0:21:48.\n",
            "  Batch 3,640  of  5,064.    Elapsed: 0:22:03.\n",
            "  Batch 3,680  of  5,064.    Elapsed: 0:22:17.\n",
            "  Batch 3,720  of  5,064.    Elapsed: 0:22:32.\n",
            "  Batch 3,760  of  5,064.    Elapsed: 0:22:46.\n",
            "  Batch 3,800  of  5,064.    Elapsed: 0:23:01.\n",
            "  Batch 3,840  of  5,064.    Elapsed: 0:23:15.\n",
            "  Batch 3,880  of  5,064.    Elapsed: 0:23:30.\n",
            "  Batch 3,920  of  5,064.    Elapsed: 0:23:44.\n",
            "  Batch 3,960  of  5,064.    Elapsed: 0:23:59.\n",
            "  Batch 4,000  of  5,064.    Elapsed: 0:24:14.\n",
            "  Batch 4,040  of  5,064.    Elapsed: 0:24:28.\n",
            "  Batch 4,080  of  5,064.    Elapsed: 0:24:43.\n",
            "  Batch 4,120  of  5,064.    Elapsed: 0:24:57.\n",
            "  Batch 4,160  of  5,064.    Elapsed: 0:25:12.\n",
            "  Batch 4,200  of  5,064.    Elapsed: 0:25:26.\n",
            "  Batch 4,240  of  5,064.    Elapsed: 0:25:41.\n",
            "  Batch 4,280  of  5,064.    Elapsed: 0:25:55.\n",
            "  Batch 4,320  of  5,064.    Elapsed: 0:26:10.\n",
            "  Batch 4,360  of  5,064.    Elapsed: 0:26:24.\n",
            "  Batch 4,400  of  5,064.    Elapsed: 0:26:39.\n",
            "  Batch 4,440  of  5,064.    Elapsed: 0:26:53.\n",
            "  Batch 4,480  of  5,064.    Elapsed: 0:27:08.\n",
            "  Batch 4,520  of  5,064.    Elapsed: 0:27:22.\n",
            "  Batch 4,560  of  5,064.    Elapsed: 0:27:37.\n",
            "  Batch 4,600  of  5,064.    Elapsed: 0:27:51.\n",
            "  Batch 4,640  of  5,064.    Elapsed: 0:28:06.\n",
            "  Batch 4,680  of  5,064.    Elapsed: 0:28:20.\n",
            "  Batch 4,720  of  5,064.    Elapsed: 0:28:35.\n",
            "  Batch 4,760  of  5,064.    Elapsed: 0:28:50.\n",
            "  Batch 4,800  of  5,064.    Elapsed: 0:29:04.\n",
            "  Batch 4,840  of  5,064.    Elapsed: 0:29:19.\n",
            "  Batch 4,880  of  5,064.    Elapsed: 0:29:33.\n",
            "  Batch 4,920  of  5,064.    Elapsed: 0:29:48.\n",
            "  Batch 4,960  of  5,064.    Elapsed: 0:30:02.\n",
            "  Batch 5,000  of  5,064.    Elapsed: 0:30:17.\n",
            "  Batch 5,040  of  5,064.    Elapsed: 0:30:31.\n",
            "\n",
            "  Average training loss: 0.25\n",
            "  Training epcoh took: 0:30:40\n",
            "\n",
            "Running Validation...\n",
            "  Accuracy: 0.87\n",
            "  Validation Loss: 0.38\n",
            "  Validation took: 0:01:08\n",
            "\n",
            "======== Epoch 4 / 4 ========\n",
            "Training...\n",
            "  Batch    40  of  5,064.    Elapsed: 0:00:15.\n",
            "  Batch    80  of  5,064.    Elapsed: 0:00:29.\n",
            "  Batch   120  of  5,064.    Elapsed: 0:00:44.\n",
            "  Batch   160  of  5,064.    Elapsed: 0:00:58.\n",
            "  Batch   200  of  5,064.    Elapsed: 0:01:13.\n",
            "  Batch   240  of  5,064.    Elapsed: 0:01:27.\n",
            "  Batch   280  of  5,064.    Elapsed: 0:01:42.\n",
            "  Batch   320  of  5,064.    Elapsed: 0:01:56.\n",
            "  Batch   360  of  5,064.    Elapsed: 0:02:11.\n",
            "  Batch   400  of  5,064.    Elapsed: 0:02:25.\n",
            "  Batch   440  of  5,064.    Elapsed: 0:02:40.\n",
            "  Batch   480  of  5,064.    Elapsed: 0:02:54.\n",
            "  Batch   520  of  5,064.    Elapsed: 0:03:09.\n",
            "  Batch   560  of  5,064.    Elapsed: 0:03:23.\n",
            "  Batch   600  of  5,064.    Elapsed: 0:03:38.\n",
            "  Batch   640  of  5,064.    Elapsed: 0:03:52.\n",
            "  Batch   680  of  5,064.    Elapsed: 0:04:07.\n",
            "  Batch   720  of  5,064.    Elapsed: 0:04:21.\n",
            "  Batch   760  of  5,064.    Elapsed: 0:04:36.\n",
            "  Batch   800  of  5,064.    Elapsed: 0:04:51.\n",
            "  Batch   840  of  5,064.    Elapsed: 0:05:05.\n",
            "  Batch   880  of  5,064.    Elapsed: 0:05:20.\n",
            "  Batch   920  of  5,064.    Elapsed: 0:05:34.\n",
            "  Batch   960  of  5,064.    Elapsed: 0:05:49.\n",
            "  Batch 1,000  of  5,064.    Elapsed: 0:06:03.\n",
            "  Batch 1,040  of  5,064.    Elapsed: 0:06:18.\n",
            "  Batch 1,080  of  5,064.    Elapsed: 0:06:32.\n",
            "  Batch 1,120  of  5,064.    Elapsed: 0:06:47.\n",
            "  Batch 1,160  of  5,064.    Elapsed: 0:07:01.\n",
            "  Batch 1,200  of  5,064.    Elapsed: 0:07:16.\n",
            "  Batch 1,240  of  5,064.    Elapsed: 0:07:30.\n",
            "  Batch 1,280  of  5,064.    Elapsed: 0:07:45.\n",
            "  Batch 1,320  of  5,064.    Elapsed: 0:07:59.\n",
            "  Batch 1,360  of  5,064.    Elapsed: 0:08:14.\n",
            "  Batch 1,400  of  5,064.    Elapsed: 0:08:28.\n",
            "  Batch 1,440  of  5,064.    Elapsed: 0:08:43.\n",
            "  Batch 1,480  of  5,064.    Elapsed: 0:08:57.\n",
            "  Batch 1,520  of  5,064.    Elapsed: 0:09:12.\n",
            "  Batch 1,560  of  5,064.    Elapsed: 0:09:27.\n",
            "  Batch 1,600  of  5,064.    Elapsed: 0:09:41.\n",
            "  Batch 1,640  of  5,064.    Elapsed: 0:09:56.\n",
            "  Batch 1,680  of  5,064.    Elapsed: 0:10:10.\n",
            "  Batch 1,720  of  5,064.    Elapsed: 0:10:25.\n",
            "  Batch 1,760  of  5,064.    Elapsed: 0:10:39.\n",
            "  Batch 1,800  of  5,064.    Elapsed: 0:10:54.\n",
            "  Batch 1,840  of  5,064.    Elapsed: 0:11:08.\n",
            "  Batch 1,880  of  5,064.    Elapsed: 0:11:23.\n",
            "  Batch 1,920  of  5,064.    Elapsed: 0:11:37.\n",
            "  Batch 1,960  of  5,064.    Elapsed: 0:11:52.\n",
            "  Batch 2,000  of  5,064.    Elapsed: 0:12:06.\n",
            "  Batch 2,040  of  5,064.    Elapsed: 0:12:21.\n",
            "  Batch 2,080  of  5,064.    Elapsed: 0:12:36.\n",
            "  Batch 2,120  of  5,064.    Elapsed: 0:12:50.\n",
            "  Batch 2,160  of  5,064.    Elapsed: 0:13:05.\n",
            "  Batch 2,200  of  5,064.    Elapsed: 0:13:19.\n",
            "  Batch 2,240  of  5,064.    Elapsed: 0:13:34.\n",
            "  Batch 2,280  of  5,064.    Elapsed: 0:13:48.\n",
            "  Batch 2,320  of  5,064.    Elapsed: 0:14:03.\n",
            "  Batch 2,360  of  5,064.    Elapsed: 0:14:17.\n",
            "  Batch 2,400  of  5,064.    Elapsed: 0:14:32.\n",
            "  Batch 2,440  of  5,064.    Elapsed: 0:14:46.\n",
            "  Batch 2,480  of  5,064.    Elapsed: 0:15:01.\n",
            "  Batch 2,520  of  5,064.    Elapsed: 0:15:15.\n",
            "  Batch 2,560  of  5,064.    Elapsed: 0:15:30.\n",
            "  Batch 2,600  of  5,064.    Elapsed: 0:15:44.\n",
            "  Batch 2,640  of  5,064.    Elapsed: 0:15:59.\n",
            "  Batch 2,680  of  5,064.    Elapsed: 0:16:13.\n",
            "  Batch 2,720  of  5,064.    Elapsed: 0:16:28.\n",
            "  Batch 2,760  of  5,064.    Elapsed: 0:16:43.\n",
            "  Batch 2,800  of  5,064.    Elapsed: 0:16:57.\n",
            "  Batch 2,840  of  5,064.    Elapsed: 0:17:12.\n",
            "  Batch 2,880  of  5,064.    Elapsed: 0:17:26.\n",
            "  Batch 2,920  of  5,064.    Elapsed: 0:17:41.\n",
            "  Batch 2,960  of  5,064.    Elapsed: 0:17:55.\n",
            "  Batch 3,000  of  5,064.    Elapsed: 0:18:10.\n",
            "  Batch 3,040  of  5,064.    Elapsed: 0:18:24.\n",
            "  Batch 3,080  of  5,064.    Elapsed: 0:18:39.\n",
            "  Batch 3,120  of  5,064.    Elapsed: 0:18:53.\n",
            "  Batch 3,160  of  5,064.    Elapsed: 0:19:08.\n",
            "  Batch 3,200  of  5,064.    Elapsed: 0:19:22.\n",
            "  Batch 3,240  of  5,064.    Elapsed: 0:19:37.\n",
            "  Batch 3,280  of  5,064.    Elapsed: 0:19:51.\n",
            "  Batch 3,320  of  5,064.    Elapsed: 0:20:06.\n",
            "  Batch 3,360  of  5,064.    Elapsed: 0:20:20.\n",
            "  Batch 3,400  of  5,064.    Elapsed: 0:20:35.\n",
            "  Batch 3,440  of  5,064.    Elapsed: 0:20:49.\n",
            "  Batch 3,480  of  5,064.    Elapsed: 0:21:04.\n",
            "  Batch 3,520  of  5,064.    Elapsed: 0:21:18.\n",
            "  Batch 3,560  of  5,064.    Elapsed: 0:21:33.\n",
            "  Batch 3,600  of  5,064.    Elapsed: 0:21:47.\n",
            "  Batch 3,640  of  5,064.    Elapsed: 0:22:02.\n",
            "  Batch 3,680  of  5,064.    Elapsed: 0:22:16.\n",
            "  Batch 3,720  of  5,064.    Elapsed: 0:22:31.\n",
            "  Batch 3,760  of  5,064.    Elapsed: 0:22:46.\n",
            "  Batch 3,800  of  5,064.    Elapsed: 0:23:00.\n",
            "  Batch 3,840  of  5,064.    Elapsed: 0:23:15.\n",
            "  Batch 3,880  of  5,064.    Elapsed: 0:23:29.\n",
            "  Batch 3,920  of  5,064.    Elapsed: 0:23:44.\n",
            "  Batch 3,960  of  5,064.    Elapsed: 0:23:58.\n"
          ],
          "name": "stdout"
        }
      ]
    },
    {
      "cell_type": "code",
      "metadata": {
        "id": "VScalcQJlFM1"
      },
      "source": [
        "model = torch.load('/content/model_complete')"
      ],
      "execution_count": 56,
      "outputs": []
    },
    {
      "cell_type": "markdown",
      "metadata": {
        "id": "odCerYAP_o9I"
      },
      "source": [
        "Testing"
      ]
    },
    {
      "cell_type": "code",
      "metadata": {
        "id": "z1OQwQy3_0ot"
      },
      "source": [
        "with open('/content/test.txt', 'r') as file:\n",
        "    data_test = file.read()"
      ],
      "execution_count": 58,
      "outputs": []
    },
    {
      "cell_type": "code",
      "metadata": {
        "id": "oCSjm7bfADTj"
      },
      "source": [
        "X_test = []\n",
        "y_test = []\n",
        "labels = ['OBJECTIVE','RESULTS','METHODS','BACKGROUND','CONCLUSIONS']\n",
        "\n",
        "rows = data_test.split('\\n')\n",
        "for row in rows:\n",
        "  if(len(row.split('\\t')) == 2):\n",
        "    label, content = row.split('\\t')\n",
        "    if(label in labels):\n",
        "      y_test.append(labels.index(label))\n",
        "      X_test.append(content)"
      ],
      "execution_count": 59,
      "outputs": []
    },
    {
      "cell_type": "code",
      "metadata": {
        "id": "2xewX1sIAbru"
      },
      "source": [
        "sentences = X_test\n",
        "labels = y_test"
      ],
      "execution_count": 60,
      "outputs": []
    },
    {
      "cell_type": "code",
      "metadata": {
        "id": "Z76o4AeNvwr-"
      },
      "source": [
        "from torch.utils.data import DataLoader, RandomSampler, SequentialSampler"
      ],
      "execution_count": 63,
      "outputs": []
    },
    {
      "cell_type": "code",
      "metadata": {
        "colab": {
          "base_uri": "https://localhost:8080/",
          "height": 0
        },
        "id": "BGqlQaSU-5gH",
        "outputId": "3cc09b74-e31b-419c-8493-e681e5cf1377"
      },
      "source": [
        "# import pandas as pd\n",
        "\n",
        "# # Load the dataset into a pandas dataframe.\n",
        "# df = pd.read_csv(\"./cola_public/raw/out_of_domain_dev.tsv\", delimiter='\\t', header=None, names=['sentence_source', 'label', 'label_notes', 'sentence'])\n",
        "\n",
        "# # Report the number of sentences.\n",
        "# print('Number of test sentences: {:,}\\n'.format(df.shape[0]))\n",
        "\n",
        "# # Create sentence and label lists\n",
        "# sentences = df.sentence.values\n",
        "# labels = df.label.values\n",
        "\n",
        "# Tokenize all of the sentences and map the tokens to thier word IDs.\n",
        "input_ids = []\n",
        "attention_masks = []\n",
        "\n",
        "# For every sentence...\n",
        "for sent in sentences:\n",
        "    # `encode_plus` will:\n",
        "    #   (1) Tokenize the sentence.\n",
        "    #   (2) Prepend the `[CLS]` token to the start.\n",
        "    #   (3) Append the `[SEP]` token to the end.\n",
        "    #   (4) Map tokens to their IDs.\n",
        "    #   (5) Pad or truncate the sentence to `max_length`\n",
        "    #   (6) Create attention masks for [PAD] tokens.\n",
        "    encoded_dict = tokenizer.encode_plus(\n",
        "                        sent,                      # Sentence to encode.\n",
        "                        add_special_tokens = True, # Add '[CLS]' and '[SEP]'\n",
        "                        max_length = 64,           # Pad & truncate all sentences.\n",
        "                        truncation=True,\n",
        "                        pad_to_max_length = True,\n",
        "                        return_attention_mask = True,   # Construct attn. masks.\n",
        "                        return_tensors = 'pt',     # Return pytorch tensors.\n",
        "                   )\n",
        "    \n",
        "    # Add the encoded sentence to the list.    \n",
        "    input_ids.append(encoded_dict['input_ids'])\n",
        "    \n",
        "    # And its attention mask (simply differentiates padding from non-padding).\n",
        "    attention_masks.append(encoded_dict['attention_mask'])\n",
        "\n",
        "# Convert the lists into tensors.\n",
        "input_ids = torch.cat(input_ids, dim=0)\n",
        "attention_masks = torch.cat(attention_masks, dim=0)\n",
        "labels = torch.tensor(labels)\n",
        "\n",
        "# Set the batch size.  \n",
        "batch_size = 32  \n",
        "\n",
        "# Create the DataLoader.\n",
        "prediction_data = TensorDataset(input_ids, attention_masks, labels)\n",
        "prediction_sampler = SequentialSampler(prediction_data)\n",
        "prediction_dataloader = DataLoader(prediction_data, sampler=prediction_sampler, batch_size=batch_size)"
      ],
      "execution_count": 64,
      "outputs": [
        {
          "output_type": "stream",
          "text": [
            "/usr/local/lib/python3.7/dist-packages/transformers/tokenization_utils_base.py:2079: FutureWarning: The `pad_to_max_length` argument is deprecated and will be removed in a future version, use `padding=True` or `padding='longest'` to pad to the longest sequence in the batch, or use `padding='max_length'` to pad to a max length. In this case, you can give a specific length with `max_length` (e.g. `max_length=45`) or leave max_length to None to pad to the maximal input size of the model (e.g. 512 for Bert).\n",
            "  FutureWarning,\n",
            "/usr/local/lib/python3.7/dist-packages/ipykernel_launcher.py:45: UserWarning: To copy construct from a tensor, it is recommended to use sourceTensor.clone().detach() or sourceTensor.clone().detach().requires_grad_(True), rather than torch.tensor(sourceTensor).\n"
          ],
          "name": "stderr"
        }
      ]
    },
    {
      "cell_type": "code",
      "metadata": {
        "colab": {
          "base_uri": "https://localhost:8080/",
          "height": 0
        },
        "id": "ZUWKwi35-5c6",
        "outputId": "4884866e-d93c-4650-9053-a4e7df705da7"
      },
      "source": [
        "# Prediction on test set\n",
        "\n",
        "print('Predicting labels for {:,} test sentences...'.format(len(input_ids)))\n",
        "\n",
        "# Put model in evaluation mode\n",
        "model.eval()\n",
        "\n",
        "# Tracking variables \n",
        "predictions , true_labels = [], []\n",
        "\n",
        "# Predict \n",
        "for batch in prediction_dataloader:\n",
        "  # Add batch to GPU\n",
        "  batch = tuple(t.to(device) for t in batch)\n",
        "  \n",
        "  # Unpack the inputs from our dataloader\n",
        "  b_input_ids, b_input_mask, b_labels = batch\n",
        "  \n",
        "  # Telling the model not to compute or store gradients, saving memory and \n",
        "  # speeding up prediction\n",
        "  with torch.no_grad():\n",
        "      # Forward pass, calculate logit predictions.\n",
        "      result = model(b_input_ids, \n",
        "                     token_type_ids=None, \n",
        "                     attention_mask=b_input_mask,\n",
        "                     return_dict=True)\n",
        "\n",
        "  logits = result.logits\n",
        "\n",
        "  # Move logits and labels to CPU\n",
        "  logits = logits.detach().cpu().numpy()\n",
        "  label_ids = b_labels.to('cpu').numpy()\n",
        "  \n",
        "  # Store predictions and true labels\n",
        "  predictions.append(logits)\n",
        "  true_labels.append(label_ids)\n",
        "\n",
        "print('    DONE.')"
      ],
      "execution_count": 65,
      "outputs": [
        {
          "output_type": "stream",
          "text": [
            "Predicting labels for 30,135 test sentences...\n",
            "    DONE.\n"
          ],
          "name": "stdout"
        }
      ]
    },
    {
      "cell_type": "markdown",
      "metadata": {
        "id": "x3ajr03Dxl5M"
      },
      "source": [
        "Please present the per-class classification report (accuracy, precision, recall, f1-score metrics). Also, present the global metrics - all classes (accuracy, precision, recall, f1-score metrics). Did you model beat the baseline results (https://arxiv.org/pdf/1710.06071.pdf)? What do you think you can do to improve it?"
      ]
    },
    {
      "cell_type": "code",
      "metadata": {
        "id": "nlIcegT2yT1D"
      },
      "source": [
        "predictions_final = []\n",
        "\n",
        "for batch_pred in predictions:\n",
        "  predictions_final.extend(np.argmax(batch_pred, axis=1).flatten())"
      ],
      "execution_count": 72,
      "outputs": []
    },
    {
      "cell_type": "code",
      "metadata": {
        "id": "rz2Ci3guzXP0"
      },
      "source": [
        "true_final = []\n",
        "\n",
        "for batch_pred in true_labels:\n",
        "  true_final.extend(batch_pred)"
      ],
      "execution_count": 78,
      "outputs": []
    },
    {
      "cell_type": "code",
      "metadata": {
        "id": "fAA2IKyGzU0L"
      },
      "source": [
        "from sklearn.metrics import classification_report\n",
        "from sklearn.metrics import accuracy_score"
      ],
      "execution_count": 79,
      "outputs": []
    },
    {
      "cell_type": "code",
      "metadata": {
        "colab": {
          "base_uri": "https://localhost:8080/",
          "height": 0
        },
        "id": "meqspk2Qy0Mh",
        "outputId": "66a911dd-69c2-4013-d761-694cdd736916"
      },
      "source": [
        "print(classification_report(true_final, predictions_final, digits=4))"
      ],
      "execution_count": 83,
      "outputs": [
        {
          "output_type": "stream",
          "text": [
            "              precision    recall  f1-score   support\n",
            "\n",
            "           0     0.6994    0.6074    0.6501      2333\n",
            "           1     0.9247    0.9023    0.9133      9713\n",
            "           2     0.9256    0.9472    0.9363      9897\n",
            "           3     0.6858    0.7735    0.7271      3621\n",
            "           4     0.8400    0.8123    0.8259      4571\n",
            "\n",
            "    accuracy                         0.8651     30135\n",
            "   macro avg     0.8151    0.8085    0.8106     30135\n",
            "weighted avg     0.8660    0.8651    0.8649     30135\n",
            "\n"
          ],
          "name": "stdout"
        }
      ]
    },
    {
      "cell_type": "markdown",
      "metadata": {
        "id": "sz0Gv0KFDpDn"
      },
      "source": [
        "## Bonus"
      ]
    },
    {
      "cell_type": "markdown",
      "metadata": {
        "id": "agTwRCQ5Dry6"
      },
      "source": [
        "BioBert"
      ]
    },
    {
      "cell_type": "code",
      "metadata": {
        "colab": {
          "base_uri": "https://localhost:8080/",
          "height": 0
        },
        "id": "0LVnIu4kyzuH",
        "outputId": "82bdc379-f0ea-447b-88a9-3b972b01f851"
      },
      "source": [
        "from transformers import BertForSequenceClassification, AdamW, BertConfig\n",
        "\n",
        "# Load BertForSequenceClassification, the pretrained BERT model with a single \n",
        "# linear classification layer on top. \n",
        "model = BertForSequenceClassification.from_pretrained(\n",
        "    \"dmis-lab/biobert-base-cased-v1.1\", # Use the 12-layer BERT model, with an uncased vocab.\n",
        "    num_labels = 5, # The number of output labels--2 for binary classification.\n",
        "                    # You can increase this for multi-class tasks.   \n",
        "    output_attentions = False, # Whether the model returns attentions weights.\n",
        "    output_hidden_states = False, # Whether the model returns all hidden-states.\n",
        ")\n",
        "\n",
        "# Tell pytorch to run this model on the GPU.\n",
        "model.cuda()"
      ],
      "execution_count": 15,
      "outputs": [
        {
          "output_type": "stream",
          "text": [
            "Some weights of the model checkpoint at dmis-lab/biobert-base-cased-v1.1 were not used when initializing BertForSequenceClassification: ['cls.predictions.bias', 'cls.predictions.transform.dense.weight', 'cls.predictions.transform.dense.bias', 'cls.predictions.transform.LayerNorm.weight', 'cls.predictions.transform.LayerNorm.bias', 'cls.predictions.decoder.weight', 'cls.predictions.decoder.bias', 'cls.seq_relationship.weight', 'cls.seq_relationship.bias']\n",
            "- This IS expected if you are initializing BertForSequenceClassification from the checkpoint of a model trained on another task or with another architecture (e.g. initializing a BertForSequenceClassification model from a BertForPreTraining model).\n",
            "- This IS NOT expected if you are initializing BertForSequenceClassification from the checkpoint of a model that you expect to be exactly identical (initializing a BertForSequenceClassification model from a BertForSequenceClassification model).\n",
            "Some weights of BertForSequenceClassification were not initialized from the model checkpoint at dmis-lab/biobert-base-cased-v1.1 and are newly initialized: ['classifier.weight', 'classifier.bias']\n",
            "You should probably TRAIN this model on a down-stream task to be able to use it for predictions and inference.\n"
          ],
          "name": "stderr"
        },
        {
          "output_type": "execute_result",
          "data": {
            "text/plain": [
              "BertForSequenceClassification(\n",
              "  (bert): BertModel(\n",
              "    (embeddings): BertEmbeddings(\n",
              "      (word_embeddings): Embedding(28996, 768, padding_idx=0)\n",
              "      (position_embeddings): Embedding(512, 768)\n",
              "      (token_type_embeddings): Embedding(2, 768)\n",
              "      (LayerNorm): LayerNorm((768,), eps=1e-12, elementwise_affine=True)\n",
              "      (dropout): Dropout(p=0.1, inplace=False)\n",
              "    )\n",
              "    (encoder): BertEncoder(\n",
              "      (layer): ModuleList(\n",
              "        (0): BertLayer(\n",
              "          (attention): BertAttention(\n",
              "            (self): BertSelfAttention(\n",
              "              (query): Linear(in_features=768, out_features=768, bias=True)\n",
              "              (key): Linear(in_features=768, out_features=768, bias=True)\n",
              "              (value): Linear(in_features=768, out_features=768, bias=True)\n",
              "              (dropout): Dropout(p=0.1, inplace=False)\n",
              "            )\n",
              "            (output): BertSelfOutput(\n",
              "              (dense): Linear(in_features=768, out_features=768, bias=True)\n",
              "              (LayerNorm): LayerNorm((768,), eps=1e-12, elementwise_affine=True)\n",
              "              (dropout): Dropout(p=0.1, inplace=False)\n",
              "            )\n",
              "          )\n",
              "          (intermediate): BertIntermediate(\n",
              "            (dense): Linear(in_features=768, out_features=3072, bias=True)\n",
              "          )\n",
              "          (output): BertOutput(\n",
              "            (dense): Linear(in_features=3072, out_features=768, bias=True)\n",
              "            (LayerNorm): LayerNorm((768,), eps=1e-12, elementwise_affine=True)\n",
              "            (dropout): Dropout(p=0.1, inplace=False)\n",
              "          )\n",
              "        )\n",
              "        (1): BertLayer(\n",
              "          (attention): BertAttention(\n",
              "            (self): BertSelfAttention(\n",
              "              (query): Linear(in_features=768, out_features=768, bias=True)\n",
              "              (key): Linear(in_features=768, out_features=768, bias=True)\n",
              "              (value): Linear(in_features=768, out_features=768, bias=True)\n",
              "              (dropout): Dropout(p=0.1, inplace=False)\n",
              "            )\n",
              "            (output): BertSelfOutput(\n",
              "              (dense): Linear(in_features=768, out_features=768, bias=True)\n",
              "              (LayerNorm): LayerNorm((768,), eps=1e-12, elementwise_affine=True)\n",
              "              (dropout): Dropout(p=0.1, inplace=False)\n",
              "            )\n",
              "          )\n",
              "          (intermediate): BertIntermediate(\n",
              "            (dense): Linear(in_features=768, out_features=3072, bias=True)\n",
              "          )\n",
              "          (output): BertOutput(\n",
              "            (dense): Linear(in_features=3072, out_features=768, bias=True)\n",
              "            (LayerNorm): LayerNorm((768,), eps=1e-12, elementwise_affine=True)\n",
              "            (dropout): Dropout(p=0.1, inplace=False)\n",
              "          )\n",
              "        )\n",
              "        (2): BertLayer(\n",
              "          (attention): BertAttention(\n",
              "            (self): BertSelfAttention(\n",
              "              (query): Linear(in_features=768, out_features=768, bias=True)\n",
              "              (key): Linear(in_features=768, out_features=768, bias=True)\n",
              "              (value): Linear(in_features=768, out_features=768, bias=True)\n",
              "              (dropout): Dropout(p=0.1, inplace=False)\n",
              "            )\n",
              "            (output): BertSelfOutput(\n",
              "              (dense): Linear(in_features=768, out_features=768, bias=True)\n",
              "              (LayerNorm): LayerNorm((768,), eps=1e-12, elementwise_affine=True)\n",
              "              (dropout): Dropout(p=0.1, inplace=False)\n",
              "            )\n",
              "          )\n",
              "          (intermediate): BertIntermediate(\n",
              "            (dense): Linear(in_features=768, out_features=3072, bias=True)\n",
              "          )\n",
              "          (output): BertOutput(\n",
              "            (dense): Linear(in_features=3072, out_features=768, bias=True)\n",
              "            (LayerNorm): LayerNorm((768,), eps=1e-12, elementwise_affine=True)\n",
              "            (dropout): Dropout(p=0.1, inplace=False)\n",
              "          )\n",
              "        )\n",
              "        (3): BertLayer(\n",
              "          (attention): BertAttention(\n",
              "            (self): BertSelfAttention(\n",
              "              (query): Linear(in_features=768, out_features=768, bias=True)\n",
              "              (key): Linear(in_features=768, out_features=768, bias=True)\n",
              "              (value): Linear(in_features=768, out_features=768, bias=True)\n",
              "              (dropout): Dropout(p=0.1, inplace=False)\n",
              "            )\n",
              "            (output): BertSelfOutput(\n",
              "              (dense): Linear(in_features=768, out_features=768, bias=True)\n",
              "              (LayerNorm): LayerNorm((768,), eps=1e-12, elementwise_affine=True)\n",
              "              (dropout): Dropout(p=0.1, inplace=False)\n",
              "            )\n",
              "          )\n",
              "          (intermediate): BertIntermediate(\n",
              "            (dense): Linear(in_features=768, out_features=3072, bias=True)\n",
              "          )\n",
              "          (output): BertOutput(\n",
              "            (dense): Linear(in_features=3072, out_features=768, bias=True)\n",
              "            (LayerNorm): LayerNorm((768,), eps=1e-12, elementwise_affine=True)\n",
              "            (dropout): Dropout(p=0.1, inplace=False)\n",
              "          )\n",
              "        )\n",
              "        (4): BertLayer(\n",
              "          (attention): BertAttention(\n",
              "            (self): BertSelfAttention(\n",
              "              (query): Linear(in_features=768, out_features=768, bias=True)\n",
              "              (key): Linear(in_features=768, out_features=768, bias=True)\n",
              "              (value): Linear(in_features=768, out_features=768, bias=True)\n",
              "              (dropout): Dropout(p=0.1, inplace=False)\n",
              "            )\n",
              "            (output): BertSelfOutput(\n",
              "              (dense): Linear(in_features=768, out_features=768, bias=True)\n",
              "              (LayerNorm): LayerNorm((768,), eps=1e-12, elementwise_affine=True)\n",
              "              (dropout): Dropout(p=0.1, inplace=False)\n",
              "            )\n",
              "          )\n",
              "          (intermediate): BertIntermediate(\n",
              "            (dense): Linear(in_features=768, out_features=3072, bias=True)\n",
              "          )\n",
              "          (output): BertOutput(\n",
              "            (dense): Linear(in_features=3072, out_features=768, bias=True)\n",
              "            (LayerNorm): LayerNorm((768,), eps=1e-12, elementwise_affine=True)\n",
              "            (dropout): Dropout(p=0.1, inplace=False)\n",
              "          )\n",
              "        )\n",
              "        (5): BertLayer(\n",
              "          (attention): BertAttention(\n",
              "            (self): BertSelfAttention(\n",
              "              (query): Linear(in_features=768, out_features=768, bias=True)\n",
              "              (key): Linear(in_features=768, out_features=768, bias=True)\n",
              "              (value): Linear(in_features=768, out_features=768, bias=True)\n",
              "              (dropout): Dropout(p=0.1, inplace=False)\n",
              "            )\n",
              "            (output): BertSelfOutput(\n",
              "              (dense): Linear(in_features=768, out_features=768, bias=True)\n",
              "              (LayerNorm): LayerNorm((768,), eps=1e-12, elementwise_affine=True)\n",
              "              (dropout): Dropout(p=0.1, inplace=False)\n",
              "            )\n",
              "          )\n",
              "          (intermediate): BertIntermediate(\n",
              "            (dense): Linear(in_features=768, out_features=3072, bias=True)\n",
              "          )\n",
              "          (output): BertOutput(\n",
              "            (dense): Linear(in_features=3072, out_features=768, bias=True)\n",
              "            (LayerNorm): LayerNorm((768,), eps=1e-12, elementwise_affine=True)\n",
              "            (dropout): Dropout(p=0.1, inplace=False)\n",
              "          )\n",
              "        )\n",
              "        (6): BertLayer(\n",
              "          (attention): BertAttention(\n",
              "            (self): BertSelfAttention(\n",
              "              (query): Linear(in_features=768, out_features=768, bias=True)\n",
              "              (key): Linear(in_features=768, out_features=768, bias=True)\n",
              "              (value): Linear(in_features=768, out_features=768, bias=True)\n",
              "              (dropout): Dropout(p=0.1, inplace=False)\n",
              "            )\n",
              "            (output): BertSelfOutput(\n",
              "              (dense): Linear(in_features=768, out_features=768, bias=True)\n",
              "              (LayerNorm): LayerNorm((768,), eps=1e-12, elementwise_affine=True)\n",
              "              (dropout): Dropout(p=0.1, inplace=False)\n",
              "            )\n",
              "          )\n",
              "          (intermediate): BertIntermediate(\n",
              "            (dense): Linear(in_features=768, out_features=3072, bias=True)\n",
              "          )\n",
              "          (output): BertOutput(\n",
              "            (dense): Linear(in_features=3072, out_features=768, bias=True)\n",
              "            (LayerNorm): LayerNorm((768,), eps=1e-12, elementwise_affine=True)\n",
              "            (dropout): Dropout(p=0.1, inplace=False)\n",
              "          )\n",
              "        )\n",
              "        (7): BertLayer(\n",
              "          (attention): BertAttention(\n",
              "            (self): BertSelfAttention(\n",
              "              (query): Linear(in_features=768, out_features=768, bias=True)\n",
              "              (key): Linear(in_features=768, out_features=768, bias=True)\n",
              "              (value): Linear(in_features=768, out_features=768, bias=True)\n",
              "              (dropout): Dropout(p=0.1, inplace=False)\n",
              "            )\n",
              "            (output): BertSelfOutput(\n",
              "              (dense): Linear(in_features=768, out_features=768, bias=True)\n",
              "              (LayerNorm): LayerNorm((768,), eps=1e-12, elementwise_affine=True)\n",
              "              (dropout): Dropout(p=0.1, inplace=False)\n",
              "            )\n",
              "          )\n",
              "          (intermediate): BertIntermediate(\n",
              "            (dense): Linear(in_features=768, out_features=3072, bias=True)\n",
              "          )\n",
              "          (output): BertOutput(\n",
              "            (dense): Linear(in_features=3072, out_features=768, bias=True)\n",
              "            (LayerNorm): LayerNorm((768,), eps=1e-12, elementwise_affine=True)\n",
              "            (dropout): Dropout(p=0.1, inplace=False)\n",
              "          )\n",
              "        )\n",
              "        (8): BertLayer(\n",
              "          (attention): BertAttention(\n",
              "            (self): BertSelfAttention(\n",
              "              (query): Linear(in_features=768, out_features=768, bias=True)\n",
              "              (key): Linear(in_features=768, out_features=768, bias=True)\n",
              "              (value): Linear(in_features=768, out_features=768, bias=True)\n",
              "              (dropout): Dropout(p=0.1, inplace=False)\n",
              "            )\n",
              "            (output): BertSelfOutput(\n",
              "              (dense): Linear(in_features=768, out_features=768, bias=True)\n",
              "              (LayerNorm): LayerNorm((768,), eps=1e-12, elementwise_affine=True)\n",
              "              (dropout): Dropout(p=0.1, inplace=False)\n",
              "            )\n",
              "          )\n",
              "          (intermediate): BertIntermediate(\n",
              "            (dense): Linear(in_features=768, out_features=3072, bias=True)\n",
              "          )\n",
              "          (output): BertOutput(\n",
              "            (dense): Linear(in_features=3072, out_features=768, bias=True)\n",
              "            (LayerNorm): LayerNorm((768,), eps=1e-12, elementwise_affine=True)\n",
              "            (dropout): Dropout(p=0.1, inplace=False)\n",
              "          )\n",
              "        )\n",
              "        (9): BertLayer(\n",
              "          (attention): BertAttention(\n",
              "            (self): BertSelfAttention(\n",
              "              (query): Linear(in_features=768, out_features=768, bias=True)\n",
              "              (key): Linear(in_features=768, out_features=768, bias=True)\n",
              "              (value): Linear(in_features=768, out_features=768, bias=True)\n",
              "              (dropout): Dropout(p=0.1, inplace=False)\n",
              "            )\n",
              "            (output): BertSelfOutput(\n",
              "              (dense): Linear(in_features=768, out_features=768, bias=True)\n",
              "              (LayerNorm): LayerNorm((768,), eps=1e-12, elementwise_affine=True)\n",
              "              (dropout): Dropout(p=0.1, inplace=False)\n",
              "            )\n",
              "          )\n",
              "          (intermediate): BertIntermediate(\n",
              "            (dense): Linear(in_features=768, out_features=3072, bias=True)\n",
              "          )\n",
              "          (output): BertOutput(\n",
              "            (dense): Linear(in_features=3072, out_features=768, bias=True)\n",
              "            (LayerNorm): LayerNorm((768,), eps=1e-12, elementwise_affine=True)\n",
              "            (dropout): Dropout(p=0.1, inplace=False)\n",
              "          )\n",
              "        )\n",
              "        (10): BertLayer(\n",
              "          (attention): BertAttention(\n",
              "            (self): BertSelfAttention(\n",
              "              (query): Linear(in_features=768, out_features=768, bias=True)\n",
              "              (key): Linear(in_features=768, out_features=768, bias=True)\n",
              "              (value): Linear(in_features=768, out_features=768, bias=True)\n",
              "              (dropout): Dropout(p=0.1, inplace=False)\n",
              "            )\n",
              "            (output): BertSelfOutput(\n",
              "              (dense): Linear(in_features=768, out_features=768, bias=True)\n",
              "              (LayerNorm): LayerNorm((768,), eps=1e-12, elementwise_affine=True)\n",
              "              (dropout): Dropout(p=0.1, inplace=False)\n",
              "            )\n",
              "          )\n",
              "          (intermediate): BertIntermediate(\n",
              "            (dense): Linear(in_features=768, out_features=3072, bias=True)\n",
              "          )\n",
              "          (output): BertOutput(\n",
              "            (dense): Linear(in_features=3072, out_features=768, bias=True)\n",
              "            (LayerNorm): LayerNorm((768,), eps=1e-12, elementwise_affine=True)\n",
              "            (dropout): Dropout(p=0.1, inplace=False)\n",
              "          )\n",
              "        )\n",
              "        (11): BertLayer(\n",
              "          (attention): BertAttention(\n",
              "            (self): BertSelfAttention(\n",
              "              (query): Linear(in_features=768, out_features=768, bias=True)\n",
              "              (key): Linear(in_features=768, out_features=768, bias=True)\n",
              "              (value): Linear(in_features=768, out_features=768, bias=True)\n",
              "              (dropout): Dropout(p=0.1, inplace=False)\n",
              "            )\n",
              "            (output): BertSelfOutput(\n",
              "              (dense): Linear(in_features=768, out_features=768, bias=True)\n",
              "              (LayerNorm): LayerNorm((768,), eps=1e-12, elementwise_affine=True)\n",
              "              (dropout): Dropout(p=0.1, inplace=False)\n",
              "            )\n",
              "          )\n",
              "          (intermediate): BertIntermediate(\n",
              "            (dense): Linear(in_features=768, out_features=3072, bias=True)\n",
              "          )\n",
              "          (output): BertOutput(\n",
              "            (dense): Linear(in_features=3072, out_features=768, bias=True)\n",
              "            (LayerNorm): LayerNorm((768,), eps=1e-12, elementwise_affine=True)\n",
              "            (dropout): Dropout(p=0.1, inplace=False)\n",
              "          )\n",
              "        )\n",
              "      )\n",
              "    )\n",
              "    (pooler): BertPooler(\n",
              "      (dense): Linear(in_features=768, out_features=768, bias=True)\n",
              "      (activation): Tanh()\n",
              "    )\n",
              "  )\n",
              "  (dropout): Dropout(p=0.1, inplace=False)\n",
              "  (classifier): Linear(in_features=768, out_features=5, bias=True)\n",
              ")"
            ]
          },
          "metadata": {
            "tags": []
          },
          "execution_count": 15
        }
      ]
    },
    {
      "cell_type": "code",
      "metadata": {
        "colab": {
          "base_uri": "https://localhost:8080/",
          "height": 0
        },
        "id": "jYJpxXP0ECiS",
        "outputId": "145613b2-a193-47ef-80bd-d0f2e8c4c376"
      },
      "source": [
        "# Get all of the model's parameters as a list of tuples.\n",
        "params = list(model.named_parameters())\n",
        "\n",
        "print('The BERT model has {:} different named parameters.\\n'.format(len(params)))\n",
        "\n",
        "print('==== Embedding Layer ====\\n')\n",
        "\n",
        "for p in params[0:5]:\n",
        "    print(\"{:<55} {:>12}\".format(p[0], str(tuple(p[1].size()))))\n",
        "\n",
        "print('\\n==== First Transformer ====\\n')\n",
        "\n",
        "for p in params[5:21]:\n",
        "    print(\"{:<55} {:>12}\".format(p[0], str(tuple(p[1].size()))))\n",
        "\n",
        "print('\\n==== Output Layer ====\\n')\n",
        "\n",
        "for p in params[-4:]:\n",
        "    print(\"{:<55} {:>12}\".format(p[0], str(tuple(p[1].size()))))"
      ],
      "execution_count": 16,
      "outputs": [
        {
          "output_type": "stream",
          "text": [
            "The BERT model has 201 different named parameters.\n",
            "\n",
            "==== Embedding Layer ====\n",
            "\n",
            "bert.embeddings.word_embeddings.weight                  (28996, 768)\n",
            "bert.embeddings.position_embeddings.weight                (512, 768)\n",
            "bert.embeddings.token_type_embeddings.weight                (2, 768)\n",
            "bert.embeddings.LayerNorm.weight                              (768,)\n",
            "bert.embeddings.LayerNorm.bias                                (768,)\n",
            "\n",
            "==== First Transformer ====\n",
            "\n",
            "bert.encoder.layer.0.attention.self.query.weight          (768, 768)\n",
            "bert.encoder.layer.0.attention.self.query.bias                (768,)\n",
            "bert.encoder.layer.0.attention.self.key.weight            (768, 768)\n",
            "bert.encoder.layer.0.attention.self.key.bias                  (768,)\n",
            "bert.encoder.layer.0.attention.self.value.weight          (768, 768)\n",
            "bert.encoder.layer.0.attention.self.value.bias                (768,)\n",
            "bert.encoder.layer.0.attention.output.dense.weight        (768, 768)\n",
            "bert.encoder.layer.0.attention.output.dense.bias              (768,)\n",
            "bert.encoder.layer.0.attention.output.LayerNorm.weight        (768,)\n",
            "bert.encoder.layer.0.attention.output.LayerNorm.bias          (768,)\n",
            "bert.encoder.layer.0.intermediate.dense.weight           (3072, 768)\n",
            "bert.encoder.layer.0.intermediate.dense.bias                 (3072,)\n",
            "bert.encoder.layer.0.output.dense.weight                 (768, 3072)\n",
            "bert.encoder.layer.0.output.dense.bias                        (768,)\n",
            "bert.encoder.layer.0.output.LayerNorm.weight                  (768,)\n",
            "bert.encoder.layer.0.output.LayerNorm.bias                    (768,)\n",
            "\n",
            "==== Output Layer ====\n",
            "\n",
            "bert.pooler.dense.weight                                  (768, 768)\n",
            "bert.pooler.dense.bias                                        (768,)\n",
            "classifier.weight                                           (5, 768)\n",
            "classifier.bias                                                 (5,)\n"
          ],
          "name": "stdout"
        }
      ]
    },
    {
      "cell_type": "code",
      "metadata": {
        "id": "kEz0JgJ0ECe7"
      },
      "source": [
        "optimizer = AdamW(model.parameters(),\n",
        "                  lr = 2e-5, # args.learning_rate - default is 5e-5, our notebook had 2e-5\n",
        "                  eps = 1e-8 # args.adam_epsilon  - default is 1e-8.\n",
        "                )\n",
        "from transformers import get_linear_schedule_with_warmup\n",
        "\n",
        "# Number of training epochs. The BERT authors recommend between 2 and 4. \n",
        "# We chose to run for 4, but we'll see later that this may be over-fitting the\n",
        "# training data.\n",
        "epochs = 1\n",
        "\n",
        "# Total number of training steps is [number of batches] x [number of epochs]. \n",
        "# (Note that this is not the same as the number of training samples).\n",
        "total_steps = len(train_dataloader) * epochs\n",
        "\n",
        "# Create the learning rate scheduler.\n",
        "scheduler = get_linear_schedule_with_warmup(optimizer, \n",
        "                                            num_warmup_steps = 0, # Default value in run_glue.py\n",
        "                                            num_training_steps = total_steps)"
      ],
      "execution_count": 17,
      "outputs": []
    },
    {
      "cell_type": "code",
      "metadata": {
        "id": "n_jompaICccH"
      },
      "source": [
        "import numpy as np\n",
        "\n",
        "# Function to calculate the accuracy of our predictions vs labels\n",
        "def flat_accuracy(preds, labels):\n",
        "    pred_flat = np.argmax(preds, axis=1).flatten()\n",
        "    labels_flat = labels.flatten()\n",
        "    return np.sum(pred_flat == labels_flat) / len(labels_flat)\n",
        "\n",
        "import time\n",
        "import datetime\n",
        "\n",
        "def format_time(elapsed):\n",
        "    '''\n",
        "    Takes a time in seconds and returns a string hh:mm:ss\n",
        "    '''\n",
        "    # Round to the nearest second.\n",
        "    elapsed_rounded = int(round((elapsed)))\n",
        "    \n",
        "    # Format as hh:mm:ss\n",
        "    return str(datetime.timedelta(seconds=elapsed_rounded))   "
      ],
      "execution_count": 18,
      "outputs": []
    },
    {
      "cell_type": "code",
      "metadata": {
        "colab": {
          "base_uri": "https://localhost:8080/",
          "height": 0
        },
        "id": "c2mwneGREZJU",
        "outputId": "d87898db-fc51-43aa-f06b-63a3726f5da8"
      },
      "source": [
        "import random\n",
        "import numpy as np\n",
        "\n",
        "# This training code is based on the `run_glue.py` script here:\n",
        "# https://github.com/huggingface/transformers/blob/5bfcd0485ece086ebcbed2d008813037968a9e58/examples/run_glue.py#L128\n",
        "\n",
        "# Set the seed value all over the place to make this reproducible.\n",
        "seed_val = 42\n",
        "\n",
        "random.seed(seed_val)\n",
        "np.random.seed(seed_val)\n",
        "torch.manual_seed(seed_val)\n",
        "torch.cuda.manual_seed_all(seed_val)\n",
        "\n",
        "# We'll store a number of quantities such as training and validation loss, \n",
        "# validation accuracy, and timings.\n",
        "training_stats = []\n",
        "\n",
        "# Measure the total training time for the whole run.\n",
        "total_t0 = time.time()\n",
        "\n",
        "# For each epoch...\n",
        "for epoch_i in range(0, epochs):\n",
        "    \n",
        "    # ========================================\n",
        "    #               Training\n",
        "    # ========================================\n",
        "    \n",
        "    # Perform one full pass over the training set.\n",
        "\n",
        "    print(\"\")\n",
        "    print('======== Epoch {:} / {:} ========'.format(epoch_i + 1, epochs))\n",
        "    print('Training...')\n",
        "\n",
        "    # Measure how long the training epoch takes.\n",
        "    t0 = time.time()\n",
        "\n",
        "    # Reset the total loss for this epoch.\n",
        "    total_train_loss = 0\n",
        "\n",
        "    # Put the model into training mode. Don't be mislead--the call to \n",
        "    # `train` just changes the *mode*, it doesn't *perform* the training.\n",
        "    # `dropout` and `batchnorm` layers behave differently during training\n",
        "    # vs. test (source: https://stackoverflow.com/questions/51433378/what-does-model-train-do-in-pytorch)\n",
        "    model.train()\n",
        "\n",
        "    # For each batch of training data...\n",
        "    for step, batch in enumerate(train_dataloader):\n",
        "\n",
        "        # Progress update every 40 batches.\n",
        "        if step % 40 == 0 and not step == 0:\n",
        "            # Calculate elapsed time in minutes.\n",
        "            elapsed = format_time(time.time() - t0)\n",
        "            \n",
        "            # Report progress.\n",
        "            print('  Batch {:>5,}  of  {:>5,}.    Elapsed: {:}.'.format(step, len(train_dataloader), elapsed))\n",
        "\n",
        "        # Unpack this training batch from our dataloader. \n",
        "        #\n",
        "        # As we unpack the batch, we'll also copy each tensor to the GPU using the \n",
        "        # `to` method.\n",
        "        #\n",
        "        # `batch` contains three pytorch tensors:\n",
        "        #   [0]: input ids \n",
        "        #   [1]: attention masks\n",
        "        #   [2]: labels \n",
        "        b_input_ids = batch[0].to(device)\n",
        "        b_input_mask = batch[1].to(device)\n",
        "        b_labels = batch[2].to(device)\n",
        "\n",
        "        # Always clear any previously calculated gradients before performing a\n",
        "        # backward pass. PyTorch doesn't do this automatically because \n",
        "        # accumulating the gradients is \"convenient while training RNNs\". \n",
        "        # (source: https://stackoverflow.com/questions/48001598/why-do-we-need-to-call-zero-grad-in-pytorch)\n",
        "        model.zero_grad()        \n",
        "\n",
        "        # Perform a forward pass (evaluate the model on this training batch).\n",
        "        # In PyTorch, calling `model` will in turn call the model's `forward` \n",
        "        # function and pass down the arguments. The `forward` function is \n",
        "        # documented here: \n",
        "        # https://huggingface.co/transformers/model_doc/bert.html#bertforsequenceclassification\n",
        "        # The results are returned in a results object, documented here:\n",
        "        # https://huggingface.co/transformers/main_classes/output.html#transformers.modeling_outputs.SequenceClassifierOutput\n",
        "        # Specifically, we'll get the loss (because we provided labels) and the\n",
        "        # \"logits\"--the model outputs prior to activation.\n",
        "        result = model(b_input_ids, \n",
        "                       token_type_ids=None, \n",
        "                       attention_mask=b_input_mask, \n",
        "                       labels=b_labels,\n",
        "                       return_dict=True)\n",
        "\n",
        "        loss = result.loss\n",
        "        logits = result.logits\n",
        "\n",
        "        # Accumulate the training loss over all of the batches so that we can\n",
        "        # calculate the average loss at the end. `loss` is a Tensor containing a\n",
        "        # single value; the `.item()` function just returns the Python value \n",
        "        # from the tensor.\n",
        "        total_train_loss += loss.item()\n",
        "\n",
        "        # Perform a backward pass to calculate the gradients.\n",
        "        loss.backward()\n",
        "\n",
        "        # Clip the norm of the gradients to 1.0.\n",
        "        # This is to help prevent the \"exploding gradients\" problem.\n",
        "        torch.nn.utils.clip_grad_norm_(model.parameters(), 1.0)\n",
        "\n",
        "        # Update parameters and take a step using the computed gradient.\n",
        "        # The optimizer dictates the \"update rule\"--how the parameters are\n",
        "        # modified based on their gradients, the learning rate, etc.\n",
        "        optimizer.step()\n",
        "\n",
        "        # Update the learning rate.\n",
        "        scheduler.step()\n",
        "\n",
        "    # Calculate the average loss over all of the batches.\n",
        "    avg_train_loss = total_train_loss / len(train_dataloader)            \n",
        "    \n",
        "    # Measure how long this epoch took.\n",
        "    training_time = format_time(time.time() - t0)\n",
        "\n",
        "    print(\"\")\n",
        "    print(\"  Average training loss: {0:.2f}\".format(avg_train_loss))\n",
        "    print(\"  Training epcoh took: {:}\".format(training_time))\n",
        "        \n",
        "    # ========================================\n",
        "    #               Validation\n",
        "    # ========================================\n",
        "    # After the completion of each training epoch, measure our performance on\n",
        "    # our validation set.\n",
        "\n",
        "    print(\"\")\n",
        "    print(\"Running Validation...\")\n",
        "\n",
        "    t0 = time.time()\n",
        "\n",
        "    # Put the model in evaluation mode--the dropout layers behave differently\n",
        "    # during evaluation.\n",
        "    model.eval()\n",
        "\n",
        "    # Tracking variables \n",
        "    total_eval_accuracy = 0\n",
        "    total_eval_loss = 0\n",
        "    nb_eval_steps = 0\n",
        "\n",
        "    # Evaluate data for one epoch\n",
        "    for batch in validation_dataloader:\n",
        "        \n",
        "        # Unpack this training batch from our dataloader. \n",
        "        #\n",
        "        # As we unpack the batch, we'll also copy each tensor to the GPU using \n",
        "        # the `to` method.\n",
        "        #\n",
        "        # `batch` contains three pytorch tensors:\n",
        "        #   [0]: input ids \n",
        "        #   [1]: attention masks\n",
        "        #   [2]: labels \n",
        "        b_input_ids = batch[0].to(device)\n",
        "        b_input_mask = batch[1].to(device)\n",
        "        b_labels = batch[2].to(device)\n",
        "        \n",
        "        # Tell pytorch not to bother with constructing the compute graph during\n",
        "        # the forward pass, since this is only needed for backprop (training).\n",
        "        with torch.no_grad():        \n",
        "\n",
        "            # Forward pass, calculate logit predictions.\n",
        "            # token_type_ids is the same as the \"segment ids\", which \n",
        "            # differentiates sentence 1 and 2 in 2-sentence tasks.\n",
        "            result = model(b_input_ids, \n",
        "                           token_type_ids=None, \n",
        "                           attention_mask=b_input_mask,\n",
        "                           labels=b_labels,\n",
        "                           return_dict=True)\n",
        "\n",
        "        # Get the loss and \"logits\" output by the model. The \"logits\" are the \n",
        "        # output values prior to applying an activation function like the \n",
        "        # softmax.\n",
        "        loss = result.loss\n",
        "        logits = result.logits\n",
        "            \n",
        "        # Accumulate the validation loss.\n",
        "        total_eval_loss += loss.item()\n",
        "\n",
        "        # Move logits and labels to CPU\n",
        "        logits = logits.detach().cpu().numpy()\n",
        "        label_ids = b_labels.to('cpu').numpy()\n",
        "\n",
        "        # Calculate the accuracy for this batch of test sentences, and\n",
        "        # accumulate it over all batches.\n",
        "        total_eval_accuracy += flat_accuracy(logits, label_ids)\n",
        "        \n",
        "\n",
        "    # Report the final accuracy for this validation run.\n",
        "    avg_val_accuracy = total_eval_accuracy / len(validation_dataloader)\n",
        "    print(\"  Accuracy: {0:.2f}\".format(avg_val_accuracy))\n",
        "\n",
        "    # Calculate the average loss over all of the batches.\n",
        "    avg_val_loss = total_eval_loss / len(validation_dataloader)\n",
        "    \n",
        "    # Measure how long the validation run took.\n",
        "    validation_time = format_time(time.time() - t0)\n",
        "    \n",
        "    print(\"  Validation Loss: {0:.2f}\".format(avg_val_loss))\n",
        "    print(\"  Validation took: {:}\".format(validation_time))\n",
        "\n",
        "    # Record all statistics from this epoch.\n",
        "    training_stats.append(\n",
        "        {\n",
        "            'epoch': epoch_i + 1,\n",
        "            'Training Loss': avg_train_loss,\n",
        "            'Valid. Loss': avg_val_loss,\n",
        "            'Valid. Accur.': avg_val_accuracy,\n",
        "            'Training Time': training_time,\n",
        "            'Validation Time': validation_time\n",
        "        }\n",
        "    )\n",
        "\n",
        "print(\"\")\n",
        "print(\"Training complete!\")\n",
        "\n",
        "print(\"Total training took {:} (h:mm:ss)\".format(format_time(time.time()-total_t0)))"
      ],
      "execution_count": 19,
      "outputs": [
        {
          "output_type": "stream",
          "text": [
            "\n",
            "======== Epoch 1 / 1 ========\n",
            "Training...\n",
            "  Batch    40  of  5,064.    Elapsed: 0:00:15.\n",
            "  Batch    80  of  5,064.    Elapsed: 0:00:29.\n",
            "  Batch   120  of  5,064.    Elapsed: 0:00:44.\n",
            "  Batch   160  of  5,064.    Elapsed: 0:00:58.\n",
            "  Batch   200  of  5,064.    Elapsed: 0:01:12.\n",
            "  Batch   240  of  5,064.    Elapsed: 0:01:27.\n",
            "  Batch   280  of  5,064.    Elapsed: 0:01:41.\n",
            "  Batch   320  of  5,064.    Elapsed: 0:01:56.\n",
            "  Batch   360  of  5,064.    Elapsed: 0:02:10.\n",
            "  Batch   400  of  5,064.    Elapsed: 0:02:24.\n",
            "  Batch   440  of  5,064.    Elapsed: 0:02:39.\n",
            "  Batch   480  of  5,064.    Elapsed: 0:02:53.\n",
            "  Batch   520  of  5,064.    Elapsed: 0:03:08.\n",
            "  Batch   560  of  5,064.    Elapsed: 0:03:22.\n",
            "  Batch   600  of  5,064.    Elapsed: 0:03:36.\n",
            "  Batch   640  of  5,064.    Elapsed: 0:03:51.\n",
            "  Batch   680  of  5,064.    Elapsed: 0:04:05.\n",
            "  Batch   720  of  5,064.    Elapsed: 0:04:20.\n",
            "  Batch   760  of  5,064.    Elapsed: 0:04:34.\n",
            "  Batch   800  of  5,064.    Elapsed: 0:04:49.\n",
            "  Batch   840  of  5,064.    Elapsed: 0:05:03.\n",
            "  Batch   880  of  5,064.    Elapsed: 0:05:17.\n",
            "  Batch   920  of  5,064.    Elapsed: 0:05:32.\n",
            "  Batch   960  of  5,064.    Elapsed: 0:05:46.\n",
            "  Batch 1,000  of  5,064.    Elapsed: 0:06:00.\n",
            "  Batch 1,040  of  5,064.    Elapsed: 0:06:15.\n",
            "  Batch 1,080  of  5,064.    Elapsed: 0:06:29.\n",
            "  Batch 1,120  of  5,064.    Elapsed: 0:06:44.\n",
            "  Batch 1,160  of  5,064.    Elapsed: 0:06:58.\n",
            "  Batch 1,200  of  5,064.    Elapsed: 0:07:12.\n",
            "  Batch 1,240  of  5,064.    Elapsed: 0:07:27.\n",
            "  Batch 1,280  of  5,064.    Elapsed: 0:07:41.\n",
            "  Batch 1,320  of  5,064.    Elapsed: 0:07:56.\n",
            "  Batch 1,360  of  5,064.    Elapsed: 0:08:10.\n",
            "  Batch 1,400  of  5,064.    Elapsed: 0:08:24.\n",
            "  Batch 1,440  of  5,064.    Elapsed: 0:08:39.\n",
            "  Batch 1,480  of  5,064.    Elapsed: 0:08:53.\n",
            "  Batch 1,520  of  5,064.    Elapsed: 0:09:08.\n",
            "  Batch 1,560  of  5,064.    Elapsed: 0:09:22.\n",
            "  Batch 1,600  of  5,064.    Elapsed: 0:09:37.\n",
            "  Batch 1,640  of  5,064.    Elapsed: 0:09:51.\n",
            "  Batch 1,680  of  5,064.    Elapsed: 0:10:06.\n",
            "  Batch 1,720  of  5,064.    Elapsed: 0:10:20.\n",
            "  Batch 1,760  of  5,064.    Elapsed: 0:10:35.\n",
            "  Batch 1,800  of  5,064.    Elapsed: 0:10:49.\n",
            "  Batch 1,840  of  5,064.    Elapsed: 0:11:04.\n",
            "  Batch 1,880  of  5,064.    Elapsed: 0:11:18.\n",
            "  Batch 1,920  of  5,064.    Elapsed: 0:11:33.\n",
            "  Batch 1,960  of  5,064.    Elapsed: 0:11:47.\n",
            "  Batch 2,000  of  5,064.    Elapsed: 0:12:02.\n",
            "  Batch 2,040  of  5,064.    Elapsed: 0:12:16.\n",
            "  Batch 2,080  of  5,064.    Elapsed: 0:12:30.\n",
            "  Batch 2,120  of  5,064.    Elapsed: 0:12:45.\n",
            "  Batch 2,160  of  5,064.    Elapsed: 0:12:59.\n",
            "  Batch 2,200  of  5,064.    Elapsed: 0:13:14.\n",
            "  Batch 2,240  of  5,064.    Elapsed: 0:13:28.\n",
            "  Batch 2,280  of  5,064.    Elapsed: 0:13:43.\n",
            "  Batch 2,320  of  5,064.    Elapsed: 0:13:57.\n",
            "  Batch 2,360  of  5,064.    Elapsed: 0:14:11.\n",
            "  Batch 2,400  of  5,064.    Elapsed: 0:14:26.\n",
            "  Batch 2,440  of  5,064.    Elapsed: 0:14:40.\n",
            "  Batch 2,480  of  5,064.    Elapsed: 0:14:55.\n",
            "  Batch 2,520  of  5,064.    Elapsed: 0:15:09.\n",
            "  Batch 2,560  of  5,064.    Elapsed: 0:15:23.\n",
            "  Batch 2,600  of  5,064.    Elapsed: 0:15:38.\n",
            "  Batch 2,640  of  5,064.    Elapsed: 0:15:52.\n",
            "  Batch 2,680  of  5,064.    Elapsed: 0:16:07.\n",
            "  Batch 2,720  of  5,064.    Elapsed: 0:16:21.\n",
            "  Batch 2,760  of  5,064.    Elapsed: 0:16:35.\n",
            "  Batch 2,800  of  5,064.    Elapsed: 0:16:50.\n",
            "  Batch 2,840  of  5,064.    Elapsed: 0:17:04.\n",
            "  Batch 2,880  of  5,064.    Elapsed: 0:17:19.\n",
            "  Batch 2,920  of  5,064.    Elapsed: 0:17:33.\n",
            "  Batch 2,960  of  5,064.    Elapsed: 0:17:47.\n",
            "  Batch 3,000  of  5,064.    Elapsed: 0:18:02.\n",
            "  Batch 3,040  of  5,064.    Elapsed: 0:18:16.\n",
            "  Batch 3,080  of  5,064.    Elapsed: 0:18:31.\n",
            "  Batch 3,120  of  5,064.    Elapsed: 0:18:45.\n",
            "  Batch 3,160  of  5,064.    Elapsed: 0:18:59.\n",
            "  Batch 3,200  of  5,064.    Elapsed: 0:19:14.\n",
            "  Batch 3,240  of  5,064.    Elapsed: 0:19:28.\n",
            "  Batch 3,280  of  5,064.    Elapsed: 0:19:43.\n",
            "  Batch 3,320  of  5,064.    Elapsed: 0:19:57.\n",
            "  Batch 3,360  of  5,064.    Elapsed: 0:20:12.\n",
            "  Batch 3,400  of  5,064.    Elapsed: 0:20:26.\n",
            "  Batch 3,440  of  5,064.    Elapsed: 0:20:41.\n",
            "  Batch 3,480  of  5,064.    Elapsed: 0:20:55.\n",
            "  Batch 3,520  of  5,064.    Elapsed: 0:21:10.\n",
            "  Batch 3,560  of  5,064.    Elapsed: 0:21:24.\n",
            "  Batch 3,600  of  5,064.    Elapsed: 0:21:39.\n",
            "  Batch 3,640  of  5,064.    Elapsed: 0:21:53.\n",
            "  Batch 3,680  of  5,064.    Elapsed: 0:22:07.\n",
            "  Batch 3,720  of  5,064.    Elapsed: 0:22:22.\n",
            "  Batch 3,760  of  5,064.    Elapsed: 0:22:36.\n",
            "  Batch 3,800  of  5,064.    Elapsed: 0:22:51.\n",
            "  Batch 3,840  of  5,064.    Elapsed: 0:23:05.\n",
            "  Batch 3,880  of  5,064.    Elapsed: 0:23:20.\n",
            "  Batch 3,920  of  5,064.    Elapsed: 0:23:34.\n",
            "  Batch 3,960  of  5,064.    Elapsed: 0:23:48.\n",
            "  Batch 4,000  of  5,064.    Elapsed: 0:24:03.\n",
            "  Batch 4,040  of  5,064.    Elapsed: 0:24:17.\n",
            "  Batch 4,080  of  5,064.    Elapsed: 0:24:32.\n",
            "  Batch 4,120  of  5,064.    Elapsed: 0:24:46.\n",
            "  Batch 4,160  of  5,064.    Elapsed: 0:25:00.\n",
            "  Batch 4,200  of  5,064.    Elapsed: 0:25:15.\n",
            "  Batch 4,240  of  5,064.    Elapsed: 0:25:29.\n",
            "  Batch 4,280  of  5,064.    Elapsed: 0:25:44.\n",
            "  Batch 4,320  of  5,064.    Elapsed: 0:25:58.\n",
            "  Batch 4,360  of  5,064.    Elapsed: 0:26:12.\n",
            "  Batch 4,400  of  5,064.    Elapsed: 0:26:27.\n",
            "  Batch 4,440  of  5,064.    Elapsed: 0:26:41.\n",
            "  Batch 4,480  of  5,064.    Elapsed: 0:26:55.\n",
            "  Batch 4,520  of  5,064.    Elapsed: 0:27:10.\n",
            "  Batch 4,560  of  5,064.    Elapsed: 0:27:24.\n",
            "  Batch 4,600  of  5,064.    Elapsed: 0:27:39.\n",
            "  Batch 4,640  of  5,064.    Elapsed: 0:27:53.\n",
            "  Batch 4,680  of  5,064.    Elapsed: 0:28:07.\n",
            "  Batch 4,720  of  5,064.    Elapsed: 0:28:22.\n",
            "  Batch 4,760  of  5,064.    Elapsed: 0:28:36.\n",
            "  Batch 4,800  of  5,064.    Elapsed: 0:28:50.\n",
            "  Batch 4,840  of  5,064.    Elapsed: 0:29:05.\n",
            "  Batch 4,880  of  5,064.    Elapsed: 0:29:19.\n",
            "  Batch 4,920  of  5,064.    Elapsed: 0:29:34.\n",
            "  Batch 4,960  of  5,064.    Elapsed: 0:29:48.\n",
            "  Batch 5,000  of  5,064.    Elapsed: 0:30:02.\n",
            "  Batch 5,040  of  5,064.    Elapsed: 0:30:17.\n",
            "\n",
            "  Average training loss: 0.36\n",
            "  Training epcoh took: 0:30:25\n",
            "\n",
            "Running Validation...\n",
            "  Accuracy: 0.88\n",
            "  Validation Loss: 0.34\n",
            "  Validation took: 0:01:07\n",
            "\n",
            "Training complete!\n",
            "Total training took 0:31:32 (h:mm:ss)\n"
          ],
          "name": "stdout"
        }
      ]
    },
    {
      "cell_type": "code",
      "metadata": {
        "id": "u64UOjzaEXVK"
      },
      "source": [
        ""
      ],
      "execution_count": null,
      "outputs": []
    }
  ]
}
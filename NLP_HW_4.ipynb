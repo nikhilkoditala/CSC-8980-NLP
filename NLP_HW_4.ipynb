{
  "nbformat": 4,
  "nbformat_minor": 0,
  "metadata": {
    "colab": {
      "name": "NLP HW 4.ipynb",
      "provenance": [],
      "collapsed_sections": [],
      "authorship_tag": "ABX9TyMeNhg7RJaDW1KVO3svPWqi",
      "include_colab_link": true
    },
    "kernelspec": {
      "name": "python3",
      "display_name": "Python 3"
    },
    "language_info": {
      "name": "python"
    },
    "accelerator": "GPU"
  },
  "cells": [
    {
      "cell_type": "markdown",
      "metadata": {
        "id": "view-in-github",
        "colab_type": "text"
      },
      "source": [
        "<a href=\"https://colab.research.google.com/github/nikhilkoditala/CSC-8980-NLP/blob/main/NLP_HW_4.ipynb\" target=\"_parent\"><img src=\"https://colab.research.google.com/assets/colab-badge.svg\" alt=\"Open In Colab\"/></a>"
      ]
    },
    {
      "cell_type": "markdown",
      "metadata": {
        "id": "PKwLUfTrWLZB"
      },
      "source": [
        "## Name: Nikhil Koditala\n",
        "\n",
        "## Panther ID: 002571023"
      ]
    },
    {
      "cell_type": "code",
      "metadata": {
        "id": "4FQeyHSNUL41"
      },
      "source": [
        "from google.colab import drive\n",
        "from sklearn.model_selection import train_test_split\n",
        "import pandas as pd"
      ],
      "execution_count": 5,
      "outputs": []
    },
    {
      "cell_type": "code",
      "metadata": {
        "id": "X2VP6Us_iP_R"
      },
      "source": [
        "# sklearn models\n",
        "from sklearn.naive_bayes import MultinomialNB\n",
        "from sklearn.ensemble import RandomForestClassifier\n",
        "from sklearn.svm import SVC\n",
        "from sklearn.pipeline import make_pipeline\n",
        "import sklearn.metrics\n",
        "\n",
        "# vectorization methods\n",
        "from sklearn.feature_extraction.text import TfidfVectorizer, CountVectorizer"
      ],
      "execution_count": 6,
      "outputs": []
    },
    {
      "cell_type": "code",
      "metadata": {
        "colab": {
          "base_uri": "https://localhost:8080/"
        },
        "id": "D5B4eLdRXLY1",
        "outputId": "41cfb736-8b51-4e1e-9e10-450046467dc2"
      },
      "source": [
        "drive.mount('/content/drive')"
      ],
      "execution_count": 7,
      "outputs": [
        {
          "output_type": "stream",
          "text": [
            "Mounted at /content/drive\n"
          ],
          "name": "stdout"
        }
      ]
    },
    {
      "cell_type": "code",
      "metadata": {
        "colab": {
          "base_uri": "https://localhost:8080/"
        },
        "id": "8EYpBVKZXLWZ",
        "outputId": "9d37d649-6863-4c2a-be07-833d1a2bb88e"
      },
      "source": [
        "!unzip /content/drive/MyDrive/trainingandtestdata.zip"
      ],
      "execution_count": 8,
      "outputs": [
        {
          "output_type": "stream",
          "text": [
            "Archive:  /content/drive/MyDrive/trainingandtestdata.zip\n",
            "  inflating: testdata.manual.2009.06.14.csv  \n",
            "  inflating: training.1600000.processed.noemoticon.csv  \n"
          ],
          "name": "stdout"
        }
      ]
    },
    {
      "cell_type": "code",
      "metadata": {
        "id": "hp-eQ4LWXLT6"
      },
      "source": [
        "df = pd.read_csv('/content/training.1600000.processed.noemoticon.csv',encoding='latin-1',names=['polarity','id','date','query','user','text'])"
      ],
      "execution_count": 9,
      "outputs": []
    },
    {
      "cell_type": "code",
      "metadata": {
        "colab": {
          "base_uri": "https://localhost:8080/",
          "height": 197
        },
        "id": "tIlmT19-XLRj",
        "outputId": "b0b622a4-70d2-4c3d-c190-228f7fd64996"
      },
      "source": [
        "df.head()"
      ],
      "execution_count": 10,
      "outputs": [
        {
          "output_type": "execute_result",
          "data": {
            "text/html": [
              "<div>\n",
              "<style scoped>\n",
              "    .dataframe tbody tr th:only-of-type {\n",
              "        vertical-align: middle;\n",
              "    }\n",
              "\n",
              "    .dataframe tbody tr th {\n",
              "        vertical-align: top;\n",
              "    }\n",
              "\n",
              "    .dataframe thead th {\n",
              "        text-align: right;\n",
              "    }\n",
              "</style>\n",
              "<table border=\"1\" class=\"dataframe\">\n",
              "  <thead>\n",
              "    <tr style=\"text-align: right;\">\n",
              "      <th></th>\n",
              "      <th>polarity</th>\n",
              "      <th>id</th>\n",
              "      <th>date</th>\n",
              "      <th>query</th>\n",
              "      <th>user</th>\n",
              "      <th>text</th>\n",
              "    </tr>\n",
              "  </thead>\n",
              "  <tbody>\n",
              "    <tr>\n",
              "      <th>0</th>\n",
              "      <td>0</td>\n",
              "      <td>1467810369</td>\n",
              "      <td>Mon Apr 06 22:19:45 PDT 2009</td>\n",
              "      <td>NO_QUERY</td>\n",
              "      <td>_TheSpecialOne_</td>\n",
              "      <td>@switchfoot http://twitpic.com/2y1zl - Awww, t...</td>\n",
              "    </tr>\n",
              "    <tr>\n",
              "      <th>1</th>\n",
              "      <td>0</td>\n",
              "      <td>1467810672</td>\n",
              "      <td>Mon Apr 06 22:19:49 PDT 2009</td>\n",
              "      <td>NO_QUERY</td>\n",
              "      <td>scotthamilton</td>\n",
              "      <td>is upset that he can't update his Facebook by ...</td>\n",
              "    </tr>\n",
              "    <tr>\n",
              "      <th>2</th>\n",
              "      <td>0</td>\n",
              "      <td>1467810917</td>\n",
              "      <td>Mon Apr 06 22:19:53 PDT 2009</td>\n",
              "      <td>NO_QUERY</td>\n",
              "      <td>mattycus</td>\n",
              "      <td>@Kenichan I dived many times for the ball. Man...</td>\n",
              "    </tr>\n",
              "    <tr>\n",
              "      <th>3</th>\n",
              "      <td>0</td>\n",
              "      <td>1467811184</td>\n",
              "      <td>Mon Apr 06 22:19:57 PDT 2009</td>\n",
              "      <td>NO_QUERY</td>\n",
              "      <td>ElleCTF</td>\n",
              "      <td>my whole body feels itchy and like its on fire</td>\n",
              "    </tr>\n",
              "    <tr>\n",
              "      <th>4</th>\n",
              "      <td>0</td>\n",
              "      <td>1467811193</td>\n",
              "      <td>Mon Apr 06 22:19:57 PDT 2009</td>\n",
              "      <td>NO_QUERY</td>\n",
              "      <td>Karoli</td>\n",
              "      <td>@nationwideclass no, it's not behaving at all....</td>\n",
              "    </tr>\n",
              "  </tbody>\n",
              "</table>\n",
              "</div>"
            ],
            "text/plain": [
              "   polarity  ...                                               text\n",
              "0         0  ...  @switchfoot http://twitpic.com/2y1zl - Awww, t...\n",
              "1         0  ...  is upset that he can't update his Facebook by ...\n",
              "2         0  ...  @Kenichan I dived many times for the ball. Man...\n",
              "3         0  ...    my whole body feels itchy and like its on fire \n",
              "4         0  ...  @nationwideclass no, it's not behaving at all....\n",
              "\n",
              "[5 rows x 6 columns]"
            ]
          },
          "metadata": {
            "tags": []
          },
          "execution_count": 10
        }
      ]
    },
    {
      "cell_type": "markdown",
      "metadata": {
        "id": "aeRB4jkGeV1N"
      },
      "source": [
        " 1. Take the positive and the negative tweets only. Use Sklearn to split the dataset in 80% training, 20% testing splits. Provide a nicely formatted summary of these splits, containing their size) (15 points)"
      ]
    },
    {
      "cell_type": "code",
      "metadata": {
        "id": "Dihq09Qmp9Di"
      },
      "source": [
        "# considering only positive and negative reviews\n",
        "df = df.loc[(df['polarity'].isin([0,4]))]"
      ],
      "execution_count": 11,
      "outputs": []
    },
    {
      "cell_type": "code",
      "metadata": {
        "id": "ruDPWXX-pghs"
      },
      "source": [
        "X = df['text'].tolist()\n",
        "y = df['polarity'].tolist()"
      ],
      "execution_count": 12,
      "outputs": []
    },
    {
      "cell_type": "code",
      "metadata": {
        "id": "tV6Tu7eFfUXV"
      },
      "source": [
        "y = [x if x==0 else 1 for x in y]"
      ],
      "execution_count": 13,
      "outputs": []
    },
    {
      "cell_type": "code",
      "metadata": {
        "id": "mdDVr-ZgpZwL"
      },
      "source": [
        "X_train, X_test, y_train, y_test = train_test_split(X, y, test_size=0.20,random_state=2361)"
      ],
      "execution_count": 14,
      "outputs": []
    },
    {
      "cell_type": "code",
      "metadata": {
        "colab": {
          "base_uri": "https://localhost:8080/"
        },
        "id": "Dl0ktBv4eVJZ",
        "outputId": "2e45108d-6733-4222-abb0-c836447fd6a8"
      },
      "source": [
        "print('Rows present in training dataset:')\n",
        "X_train[:10]"
      ],
      "execution_count": 15,
      "outputs": [
        {
          "output_type": "stream",
          "text": [
            "Rows present in training dataset:\n"
          ],
          "name": "stdout"
        },
        {
          "output_type": "execute_result",
          "data": {
            "text/plain": [
              "['@scarlettstvitus It helps me to put a bag of ice on top of my head to relieve bad headaches! It helps!   I hope you feel better soon, Scar',\n",
              " \"@tommcfly it's actually law of humans' life... I suppose we should reconcile ourselves to it \",\n",
              " '@ryanseacrest Son of a crap!  I thought Adam Lambert on Twitter was real.   I still have mad love for you though, Ryan!',\n",
              " \"Alright folks I think I'm going to go try and sleep now I have to be up at 5:45 and it's already a little after midnight I can't sleep \",\n",
              " \"loves that there's so much Federer love going around! YAY, ROGER!!!!!    http://plurk.com/p/z4jqu\",\n",
              " \"'n Sync - Bye, Bye, Bye - NSYNC http://bit.ly/A3w6L  @laurajane29 promised me she'd teach me the dance - she didn't \",\n",
              " 'Really bad cold  I get a day off school thou ',\n",
              " '@pnbsport man, hurt my shoulder in a bad way 2.5 weeks back at gym, have not ridden since! Hoping to try again next week ',\n",
              " '@pollygallimore F1 race on Fox (wah!) at 3 PM. Tape-delayed. ',\n",
              " '@feblub I really need to get some mates like yours ']"
            ]
          },
          "metadata": {
            "tags": []
          },
          "execution_count": 15
        }
      ]
    },
    {
      "cell_type": "code",
      "metadata": {
        "colab": {
          "base_uri": "https://localhost:8080/"
        },
        "id": "fboLVIldebs2",
        "outputId": "c76fef13-acd5-40f2-c75b-d732528eee15"
      },
      "source": [
        "print('Rows present in test dataset:')\n",
        "y_train[:10]"
      ],
      "execution_count": 16,
      "outputs": [
        {
          "output_type": "stream",
          "text": [
            "Rows present in test dataset:\n"
          ],
          "name": "stdout"
        },
        {
          "output_type": "execute_result",
          "data": {
            "text/plain": [
              "[1, 1, 0, 0, 1, 0, 0, 0, 0, 0]"
            ]
          },
          "metadata": {
            "tags": []
          },
          "execution_count": 16
        }
      ]
    },
    {
      "cell_type": "code",
      "metadata": {
        "colab": {
          "base_uri": "https://localhost:8080/"
        },
        "id": "zxiNmMcjrU1E",
        "outputId": "4978fb9d-f4e4-4926-f1dc-dc5a486378bd"
      },
      "source": [
        "print('Size of training dataset: ', len(X_train))\n",
        "print('Size of testing dataset: ', len(X_test))"
      ],
      "execution_count": 17,
      "outputs": [
        {
          "output_type": "stream",
          "text": [
            "Size of training dataset:  1280000\n",
            "Size of testing dataset:  320000\n"
          ],
          "name": "stdout"
        }
      ]
    },
    {
      "cell_type": "markdown",
      "metadata": {
        "id": "zA2efA78gQyB"
      },
      "source": [
        "2 Use the code from the previous classes to build the following models (15 points): \n",
        "\n",
        "a) SVM using TF-IDF.\n",
        "\n",
        "b) NaiveBayesusingTF-IDF.\n",
        "\n",
        "c) Random Forest using TF-IDF."
      ]
    },
    {
      "cell_type": "code",
      "metadata": {
        "id": "kW6QaZ1KgOOg"
      },
      "source": [
        "def model_train(algorithm_name, vectorization_method, training_set):\n",
        "  models = [MultinomialNB(),RandomForestClassifier(n_jobs=-1, max_depth=50),SVC(kernel='linear',max_iter=10000)]\n",
        "  vectorization_methods = [TfidfVectorizer()]\n",
        "  model = None\n",
        "  vector_method = None\n",
        "  modelFound = 0\n",
        "  vectorFound = 0\n",
        "\n",
        "  for m in models: \n",
        "    if(m.__class__.__name__ == algorithm_name):\n",
        "      model = m\n",
        "      modelFound = 1\n",
        "      break\n",
        "  \n",
        "  if(not modelFound):\n",
        "    return 'Model not found, please recheck algorithm name to match sklearn class name'\n",
        "  \n",
        "  for v in vectorization_methods: \n",
        "    if(v.__class__.__name__ == vectorization_method):\n",
        "      vector_method = v\n",
        "      vectorFound = 1\n",
        "      break\n",
        "  \n",
        "  if(not vectorFound):\n",
        "    return 'Vectorization method not found, please recheck algorithm name to match sklearn class name'\n",
        "  \n",
        "  model = make_pipeline(vector_method, model)\n",
        "  model.fit(training_set['data'], training_set['labels'])\n",
        "\n",
        "  return model"
      ],
      "execution_count": 18,
      "outputs": []
    },
    {
      "cell_type": "code",
      "metadata": {
        "id": "CxTb86VBrlco"
      },
      "source": [
        "training_set = {}\n",
        "training_set['data'] = X_train\n",
        "training_set['labels'] = y_train"
      ],
      "execution_count": 19,
      "outputs": []
    },
    {
      "cell_type": "code",
      "metadata": {
        "id": "aKu792MrgOMd"
      },
      "source": [
        "NB_TfidfVectorizer = model_train('MultinomialNB','TfidfVectorizer',training_set)"
      ],
      "execution_count": 20,
      "outputs": []
    },
    {
      "cell_type": "code",
      "metadata": {
        "id": "DPvUzo4RX763"
      },
      "source": [
        "y_pred = NB_TfidfVectorizer.predict(X_test)"
      ],
      "execution_count": 21,
      "outputs": []
    },
    {
      "cell_type": "code",
      "metadata": {
        "id": "45nfBz81XsZL"
      },
      "source": [
        "nb_accuracy = sklearn.metrics.accuracy_score(y_pred,y_test)\n",
        "nb_recall = sklearn.metrics.recall_score(y_pred,y_test)\n",
        "nb_percision =  sklearn.metrics.precision_score(y_pred,y_test)\n",
        "nb_f1score =  sklearn.metrics.f1_score(y_pred,y_test)"
      ],
      "execution_count": 22,
      "outputs": []
    },
    {
      "cell_type": "code",
      "metadata": {
        "id": "Rk9h7o-EgOKB"
      },
      "source": [
        "RandomForest_TfidfVectorizer = model_train('RandomForestClassifier','TfidfVectorizer',training_set)"
      ],
      "execution_count": null,
      "outputs": []
    },
    {
      "cell_type": "code",
      "metadata": {
        "id": "E6ZHBtRgZtBm"
      },
      "source": [
        "y_pred = RandomForest_TfidfVectorizer.predict(X_test)"
      ],
      "execution_count": null,
      "outputs": []
    },
    {
      "cell_type": "code",
      "metadata": {
        "id": "LlJaWv0aZr-0"
      },
      "source": [
        "rf_accuracy = sklearn.metrics.accuracy_score(y_pred,y_test)\n",
        "rf_recall = sklearn.metrics.recall_score(y_pred,y_test)\n",
        "rf_percision =  sklearn.metrics.precision_score(y_pred,y_test)\n",
        "rf_f1score =  sklearn.metrics.f1_score(y_pred,y_test)"
      ],
      "execution_count": null,
      "outputs": []
    },
    {
      "cell_type": "code",
      "metadata": {
        "colab": {
          "base_uri": "https://localhost:8080/"
        },
        "id": "9lkcu0kSMxwK",
        "outputId": "a84286db-2bda-4ef5-bd1a-6c84a1c8e790"
      },
      "source": [
        "print(rf_accuracy, rf_recall, rf_percision, rf_f1score,)"
      ],
      "execution_count": 34,
      "outputs": [
        {
          "output_type": "stream",
          "text": [
            "0.7970375 0.8090021325288672 0.7776840289496382 0.7930340014658551\n"
          ],
          "name": "stdout"
        }
      ]
    },
    {
      "cell_type": "code",
      "metadata": {
        "colab": {
          "base_uri": "https://localhost:8080/"
        },
        "id": "KRK-qyKpgOES",
        "outputId": "0da2ec6d-5a9d-4fad-dd8f-5a5027a06ada"
      },
      "source": [
        "SVC_TfidfVectorizer = model_train('SVC','TfidfVectorizer',training_set)"
      ],
      "execution_count": 21,
      "outputs": [
        {
          "output_type": "stream",
          "text": [
            "/usr/local/lib/python3.7/dist-packages/sklearn/svm/_base.py:231: ConvergenceWarning: Solver terminated early (max_iter=10000).  Consider pre-processing your data with StandardScaler or MinMaxScaler.\n",
            "  % self.max_iter, ConvergenceWarning)\n"
          ],
          "name": "stderr"
        }
      ]
    },
    {
      "cell_type": "code",
      "metadata": {
        "id": "mTn7lbwgZ3iV"
      },
      "source": [
        "y_pred = SVC_TfidfVectorizer.predict(X_test)"
      ],
      "execution_count": 23,
      "outputs": []
    },
    {
      "cell_type": "code",
      "metadata": {
        "id": "yqUKZBxHZ5kj"
      },
      "source": [
        "svc_accuracy = sklearn.metrics.accuracy_score(y_pred,y_test)\n",
        "svc_recall = sklearn.metrics.recall_score(y_pred,y_test)\n",
        "svc_percision = sklearn.metrics.precision_score(y_pred,y_test)\n",
        "svc_f1score = sklearn.metrics.f1_score(y_pred,y_test)\n"
      ],
      "execution_count": 26,
      "outputs": []
    },
    {
      "cell_type": "code",
      "metadata": {
        "colab": {
          "base_uri": "https://localhost:8080/"
        },
        "id": "LMLbGE5qylkg",
        "outputId": "b943258d-3b33-45b9-f7da-bbf5cfc73c79"
      },
      "source": [
        "print(svc_accuracy, svc_recall, svc_percision, svc_f1score)"
      ],
      "execution_count": 25,
      "outputs": [
        {
          "output_type": "stream",
          "text": [
            "0.589728125 0.6096670460360987 0.4988500143748203 0.5487194117990796\n"
          ],
          "name": "stdout"
        }
      ]
    },
    {
      "cell_type": "markdown",
      "metadata": {
        "id": "3oifbX6yszLk"
      },
      "source": [
        " 3. Use the code from the LSTM class to build a classifier for negative and positive sentiment tweets. Train the model with the training data split. Once the model is built, test it with the testing data split. Display the classifier report for this evaluation. Answer the following question: What can you say about the performance of this model? (40 points)"
      ]
    },
    {
      "cell_type": "code",
      "metadata": {
        "colab": {
          "base_uri": "https://localhost:8080/",
          "height": 0
        },
        "id": "d356Im11dBJ7",
        "outputId": "70895d5a-87f5-42ef-81e7-0a57a3b1a72d"
      },
      "source": [
        "!pip install numpy==1.16.2\n",
        "\n",
        "# All the imports!\n",
        "import tensorflow as tf \n",
        "import numpy as np\n",
        "from tensorflow.keras.preprocessing import sequence\n",
        "from numpy import array\n",
        "\n",
        "# Supress deprecation warnings\n",
        "import logging\n",
        "logging.getLogger('tensorflow').disabled = True\n",
        "\n",
        "# Map for readable classnames\n",
        "class_names = [0,1]"
      ],
      "execution_count": 10,
      "outputs": [
        {
          "output_type": "stream",
          "text": [
            "Requirement already satisfied: numpy==1.16.2 in /usr/local/lib/python3.7/dist-packages (1.16.2)\n"
          ],
          "name": "stdout"
        }
      ]
    },
    {
      "cell_type": "code",
      "metadata": {
        "id": "33UMrIY91WZ7"
      },
      "source": [
        "# encoding\n",
        "word_index = {}\n",
        "\n",
        "total_data = X_train + X_test\n",
        "\n",
        "i = 4\n",
        "for row in total_data:\n",
        "  for word in row.split(' '):\n",
        "    if(word not in word_index):\n",
        "      word_index[word] = i\n",
        "      i += 1\n",
        "\n",
        "word_index[\"<PAD>\"] = 0\n",
        "word_index[\"<START>\"] = 1\n",
        "word_index[\"<UNKNOWN>\"] = 2\n",
        "word_index[\"<UNUSED>\"] = 3\n"
      ],
      "execution_count": 74,
      "outputs": []
    },
    {
      "cell_type": "code",
      "metadata": {
        "id": "Ecstgz-H_t9W"
      },
      "source": [
        "vocab_size = len(word_index)"
      ],
      "execution_count": 75,
      "outputs": []
    },
    {
      "cell_type": "code",
      "metadata": {
        "colab": {
          "base_uri": "https://localhost:8080/",
          "height": 0
        },
        "id": "TNJ9feLG_vqo",
        "outputId": "442e3f98-9eba-4b0a-fd41-05445459e48a"
      },
      "source": [
        "vocab_size"
      ],
      "execution_count": 76,
      "outputs": [
        {
          "output_type": "execute_result",
          "data": {
            "text/plain": [
              "1350548"
            ]
          },
          "metadata": {
            "tags": []
          },
          "execution_count": 76
        }
      ]
    },
    {
      "cell_type": "code",
      "metadata": {
        "id": "5WtuVmE06JKN"
      },
      "source": [
        "def encode_review(text):\n",
        "  lst = []\n",
        "\n",
        "  for i in text.split(' '):\n",
        "    lst.append(word_index[i])\n",
        "  \n",
        "  return lst"
      ],
      "execution_count": 77,
      "outputs": []
    },
    {
      "cell_type": "code",
      "metadata": {
        "id": "mPQOlGn1u_e9"
      },
      "source": [
        "def decode_review(text):\n",
        "    return ' '.join([reverse_word_index.get(i, '?') for i in text])"
      ],
      "execution_count": 78,
      "outputs": []
    },
    {
      "cell_type": "code",
      "metadata": {
        "id": "tFhik2_M2I2A"
      },
      "source": [
        "encoded_x_train = []\n",
        "\n",
        "for r in X_train:\n",
        "  encoded_x_train.append(encode_review(r))"
      ],
      "execution_count": 79,
      "outputs": []
    },
    {
      "cell_type": "code",
      "metadata": {
        "id": "6JMhbifi6tZI"
      },
      "source": [
        "encoded_x_test = []\n",
        "\n",
        "for r in X_test:\n",
        "  encoded_x_test.append(encode_review(r))"
      ],
      "execution_count": 80,
      "outputs": []
    },
    {
      "cell_type": "code",
      "metadata": {
        "id": "ltmjADQb7If2"
      },
      "source": [
        "X_train = encoded_x_train\n",
        "X_test = encoded_x_test"
      ],
      "execution_count": 81,
      "outputs": []
    },
    {
      "cell_type": "code",
      "metadata": {
        "id": "XS8d-s7K_IFO"
      },
      "source": [
        "X_train = np.array(X_train)\n",
        "X_test = np.array(X_test)"
      ],
      "execution_count": 83,
      "outputs": []
    },
    {
      "cell_type": "code",
      "metadata": {
        "id": "3MehXK-W-tl8"
      },
      "source": [
        "y_train = np.array(y_train)\n",
        "y_test = np.array(y_test)"
      ],
      "execution_count": 84,
      "outputs": []
    },
    {
      "cell_type": "code",
      "metadata": {
        "colab": {
          "base_uri": "https://localhost:8080/",
          "height": 0
        },
        "id": "DKLcn4Yuxt9V",
        "outputId": "b360096c-1487-4507-e7d0-1045b7fd66ef"
      },
      "source": [
        "# The length of reviews\n",
        "review_length = 300\n",
        "\n",
        "# Padding / truncated our reviews\n",
        "X_train = sequence.pad_sequences(X_train, maxlen = review_length)\n",
        "X_test = sequence.pad_sequences(X_test, maxlen = review_length)\n",
        "\n",
        "# Check the size of our datasets. Review data for both test and training should \n",
        "# contain 25000 reviews of 500 integers. Class data should contain 25000 values, \n",
        "# one for each review. Class values are 0 or 1, indicating a negative \n",
        "# or positive review.\n",
        "print(\"Shape Training Review Data: \" + str(X_train.shape))\n",
        "print(\"Shape Training Class Data: \" + str(y_train.shape))\n",
        "print(\"Shape Test Review Data: \" + str(X_test.shape))\n",
        "print(\"Shape Test Class Data: \" + str(y_test.shape))"
      ],
      "execution_count": 85,
      "outputs": [
        {
          "output_type": "stream",
          "text": [
            "Shape Training Review Data: (1280000, 300)\n",
            "Shape Training Class Data: (1280000,)\n",
            "Shape Test Review Data: (320000, 300)\n",
            "Shape Test Class Data: (320000,)\n"
          ],
          "name": "stdout"
        }
      ]
    },
    {
      "cell_type": "code",
      "metadata": {
        "colab": {
          "base_uri": "https://localhost:8080/",
          "height": 0
        },
        "id": "B3ujs8aMdBHh",
        "outputId": "d959cc22-c8f4-47a2-927a-20189c505aa0"
      },
      "source": [
        "# We begin by defining the a empty stack. We'll use this for building our \n",
        "# network, later by layer.\n",
        "model = tf.keras.models.Sequential()\n",
        "\n",
        "# The Embedding Layer provides a spatial mapping (or Word Embedding) of all the \n",
        "# individual words in our training set. Words close to one another share context \n",
        "# and or meaning. This spatial mapping is learning during the training process.\n",
        "model.add(\n",
        "    tf.keras.layers.Embedding(\n",
        "        input_dim = vocab_size, # The size of our vocabulary \n",
        "        output_dim = 32, # Dimensions to which each words shall be mapped\n",
        "        input_length = review_length # Length of input sequences\n",
        "    )\n",
        ")\n",
        "\n",
        "# Dropout layers fight overfitting and forces the model to learn multiple \n",
        "# representations of the same data by randomly disabling neurons in the \n",
        "# learning phase.\n",
        "model.add(\n",
        "    tf.keras.layers.Dropout(\n",
        "        rate=0.25 # Randomly disable 25% of neurons\n",
        "    )\n",
        ")\n",
        "\n",
        "# We are using a fast version of LSTM whih is optimised for GPUs. This layer \n",
        "# looks at the sequence of words in the review, along with their word embeddings\n",
        "# and uses both of these to determine to sentiment of a given review.\n",
        "model.add(\n",
        "    tf.keras.layers.LSTM(\n",
        "        units=32 # 32 LSTM units in this layer\n",
        "    )\n",
        ")\n",
        "\n",
        "# Add a second dropout layer with the same aim as the first.\n",
        "model.add(\n",
        "    tf.keras.layers.Dropout(\n",
        "        rate=0.25 # Randomly disable 25% of neurons\n",
        "    )\n",
        ")\n",
        "\n",
        "# All LSTM units are connected to a single node in the dense layer. A sigmoid \n",
        "# activation function determines the output from this node - a value \n",
        "# between 0 and 1. Closer to 0 indicates a negative review. Closer to 1 \n",
        "# indicates a positive review.\n",
        "model.add(\n",
        "    tf.keras.layers.Dense(\n",
        "        units=1, # Single unit\n",
        "        activation='sigmoid' # Sigmoid activation function (output from 0 to 1)\n",
        "    )\n",
        ")\n",
        "\n",
        "# Compile the model\n",
        "model.compile(\n",
        "    loss=tf.keras.losses.binary_crossentropy, # loss function\n",
        "    optimizer=tf.keras.optimizers.Adam(), # optimiser function\n",
        "    metrics=['accuracy']) # reporting metric\n",
        "\n",
        "# Display a summary of the models structure\n",
        "model.summary()\n"
      ],
      "execution_count": 86,
      "outputs": [
        {
          "output_type": "stream",
          "text": [
            "Model: \"sequential_2\"\n",
            "_________________________________________________________________\n",
            "Layer (type)                 Output Shape              Param #   \n",
            "=================================================================\n",
            "embedding_2 (Embedding)      (None, 300, 32)           43217536  \n",
            "_________________________________________________________________\n",
            "dropout_4 (Dropout)          (None, 300, 32)           0         \n",
            "_________________________________________________________________\n",
            "lstm_2 (LSTM)                (None, 32)                8320      \n",
            "_________________________________________________________________\n",
            "dropout_5 (Dropout)          (None, 32)                0         \n",
            "_________________________________________________________________\n",
            "dense_2 (Dense)              (None, 1)                 33        \n",
            "=================================================================\n",
            "Total params: 43,225,889\n",
            "Trainable params: 43,225,889\n",
            "Non-trainable params: 0\n",
            "_________________________________________________________________\n"
          ],
          "name": "stdout"
        }
      ]
    },
    {
      "cell_type": "code",
      "metadata": {
        "colab": {
          "base_uri": "https://localhost:8080/",
          "height": 644
        },
        "id": "fCk789UgdBAk",
        "outputId": "d0eb8e36-3f15-464d-f39f-4a4f018f59b4"
      },
      "source": [
        "tf.keras.utils.plot_model(model, to_file='model.png', show_shapes=True, show_layer_names=False)\n"
      ],
      "execution_count": 87,
      "outputs": [
        {
          "output_type": "execute_result",
          "data": {
            "image/png": "[encoded data removed]",
            "text/plain": [
              "<IPython.core.display.Image object>"
            ]
          },
          "metadata": {
            "tags": []
          },
          "execution_count": 87
        }
      ]
    },
    {
      "cell_type": "code",
      "metadata": {
        "colab": {
          "base_uri": "https://localhost:8080/",
          "height": 0
        },
        "id": "jjH5i2PQsZ55",
        "outputId": "32f3a7f9-83a8-481b-9ce5-567da15c49f3"
      },
      "source": [
        "# Train the LSTM on the training data\n",
        "history = model.fit(\n",
        "\n",
        "    # Training data : features (review) and classes (positive or negative)\n",
        "    X_train, y_train,\n",
        "                    \n",
        "    # Number of samples to work through before updating the \n",
        "    # internal model parameters via back propagation. The \n",
        "    # higher the batch, the more memory you need.\n",
        "    batch_size=256, \n",
        "\n",
        "    # An epoch is an iteration over the entire training data.\n",
        "    epochs=3, \n",
        "    \n",
        "    # The model will set apart his fraction of the training \n",
        "    # data, will not train on it, and will evaluate the loss\n",
        "    # and any model metrics on this data at the end of \n",
        "    # each epoch.\n",
        "    validation_split=0.2,\n",
        "    \n",
        "    verbose=1\n",
        ")"
      ],
      "execution_count": 88,
      "outputs": [
        {
          "output_type": "stream",
          "text": [
            "Epoch 1/3\n",
            "4000/4000 [==============================] - 1560s 390ms/step - loss: 0.4789 - accuracy: 0.7662 - val_loss: 0.3837 - val_accuracy: 0.8273\n",
            "Epoch 2/3\n",
            "4000/4000 [==============================] - 1556s 389ms/step - loss: 0.2932 - accuracy: 0.8773 - val_loss: 0.4014 - val_accuracy: 0.8226\n",
            "Epoch 3/3\n",
            "4000/4000 [==============================] - 1555s 389ms/step - loss: 0.1880 - accuracy: 0.9269 - val_loss: 0.4551 - val_accuracy: 0.8132\n"
          ],
          "name": "stdout"
        }
      ]
    },
    {
      "cell_type": "code",
      "metadata": {
        "colab": {
          "base_uri": "https://localhost:8080/"
        },
        "id": "CVAb60-osZ3f",
        "outputId": "36a5017e-8a51-4e9c-d150-8cfc87a3c313"
      },
      "source": [
        "# Get Model Predictions for test data\n",
        "from sklearn.metrics import classification_report\n",
        "predicted_classes = model.predict_classes(X_test)\n",
        "classification_report = classification_report(y_test, predicted_classes)"
      ],
      "execution_count": 89,
      "outputs": [
        {
          "output_type": "stream",
          "text": [
            "/usr/local/lib/python3.7/dist-packages/tensorflow/python/keras/engine/sequential.py:450: UserWarning: `model.predict_classes()` is deprecated and will be removed after 2021-01-01. Please use instead:* `np.argmax(model.predict(x), axis=-1)`,   if your model does multi-class classification   (e.g. if it uses a `softmax` last-layer activation).* `(model.predict(x) > 0.5).astype(\"int32\")`,   if your model does binary classification   (e.g. if it uses a `sigmoid` last-layer activation).\n",
            "  warnings.warn('`model.predict_classes()` is deprecated and '\n"
          ],
          "name": "stderr"
        }
      ]
    },
    {
      "cell_type": "code",
      "metadata": {
        "colab": {
          "base_uri": "https://localhost:8080/"
        },
        "id": "mrOrFhcBBAH2",
        "outputId": "1e6cbac2-d4f6-412c-83d9-842c6ac5424e"
      },
      "source": [
        "print(classification_report)"
      ],
      "execution_count": 90,
      "outputs": [
        {
          "output_type": "stream",
          "text": [
            "              precision    recall  f1-score   support\n",
            "\n",
            "           0       0.81      0.82      0.82    159998\n",
            "           1       0.82      0.80      0.81    160002\n",
            "\n",
            "    accuracy                           0.81    320000\n",
            "   macro avg       0.81      0.81      0.81    320000\n",
            "weighted avg       0.81      0.81      0.81    320000\n",
            "\n"
          ],
          "name": "stdout"
        }
      ]
    },
    {
      "cell_type": "code",
      "metadata": {
        "id": "y128ON7QWf-q"
      },
      "source": [
        "lstm_percision = 0.81\n",
        "lstm_recall = 0.82\n",
        "lstm_f1score = 0.82"
      ],
      "execution_count": 26,
      "outputs": []
    },
    {
      "cell_type": "markdown",
      "metadata": {
        "id": "YbJt2gWqjT1v"
      },
      "source": [
        "### What can you say about the performance of this model?\n",
        "\n",
        "LSTM is able to handle the classification task better than the ML models such as Naive Bayes, SVM or Random Forest. It is able to memorize long term dependencies on the tweets and is able to classify the positive and negative sentiment better. The training time of LSTM is also less than ML models. \n",
        "\n",
        "Overall, LSTM is performing better than other ML models."
      ]
    },
    {
      "cell_type": "markdown",
      "metadata": {
        "id": "mVJXUzja1_sR"
      },
      "source": [
        "4. Compare all models together in terms of Precision, Recall and F1 score. Put all of these numbers in a nicely formatted dataframe. Answer the following questions: Which model performs the best? Why do you think this is? What do you think you can do to improve performance? (30 points)"
      ]
    },
    {
      "cell_type": "code",
      "metadata": {
        "colab": {
          "base_uri": "https://localhost:8080/"
        },
        "id": "7emxC5CJ1_c5",
        "outputId": "f153cf7f-84be-4d3f-dfb2-1004470ff650"
      },
      "source": [
        "comp = {'Parameter': ['Percision', 'Recall', 'F1 Score'],\n",
        "        'SVM': [svc_percision, svc_recall, svc_f1score], \n",
        "        'Naive Bayes': [nb_percision, nb_recall, nb_f1score], \n",
        "        'Random Forest': [rf_percision, rf_recall, rf_f1score], \n",
        "        'LSTM': [lstm_percision, lstm_recall, lstm_f1score]}\n",
        "df = pd.DataFrame(data=comp)\n",
        "\n",
        "print(df)"
      ],
      "execution_count": 30,
      "outputs": [
        {
          "output_type": "stream",
          "text": [
            "   Parameter       SVM  Naive Bayes  Random Forest  LSTM\n",
            "0  Percision  0.498850     0.728078       0.777684  0.81\n",
            "1     Recall  0.609667     0.800344       0.809002  0.82\n",
            "2   F1 Score  0.548719     0.762503       0.793034  0.82\n"
          ],
          "name": "stdout"
        }
      ]
    },
    {
      "cell_type": "markdown",
      "metadata": {
        "id": "Fx8j6af0iu4J"
      },
      "source": [
        "#### Which model performs the best? \n",
        "\n",
        "Among SVM, Naive Bayes, Random Forest and LSTM, LSTM is giving better performance in terms on Percision, Recall and F1 Score. \n",
        "\n",
        "\n",
        "#### Why do you think this is? What do you think you can do to improve performance? \n",
        "\n",
        "LSTM consists of memory gate and forget gate which allows nodes to forget and memorize information. This allows the neural network to understand long term dependencies better and it is able to understand the sentiments of tweets.\n"
      ]
    },
    {
      "cell_type": "markdown",
      "metadata": {
        "id": "qkbVgkpOOCyy"
      },
      "source": [
        "5. Add to the comparison of #4 a the manually calculated precision, recall and F1 score using VADER and their suggested defaults to categorize the test split tweets in positive or negative. Answer the following questions: Is this approach as good as the previous ones? Why do you think this is? (30 points)"
      ]
    },
    {
      "cell_type": "code",
      "metadata": {
        "colab": {
          "base_uri": "https://localhost:8080/"
        },
        "id": "tjbUEs_DBYCD",
        "outputId": "d3ca2ba0-a2e5-4ba5-a29f-4596a1f3ca79"
      },
      "source": [
        "pip install vaderSentiment"
      ],
      "execution_count": 12,
      "outputs": [
        {
          "output_type": "stream",
          "text": [
            "Collecting vaderSentiment\n",
            "\u001b[?25l  Downloading https://files.pythonhosted.org/packages/76/fc/310e16254683c1ed35eeb97386986d6c00bc29df17ce280aed64d55537e9/vaderSentiment-3.3.2-py2.py3-none-any.whl (125kB)\n",
            "\r\u001b[K     |██▋                             | 10kB 20.5MB/s eta 0:00:01\r\u001b[K     |█████▏                          | 20kB 27.8MB/s eta 0:00:01\r\u001b[K     |███████▉                        | 30kB 26.0MB/s eta 0:00:01\r\u001b[K     |██████████▍                     | 40kB 23.0MB/s eta 0:00:01\r\u001b[K     |█████████████                   | 51kB 23.8MB/s eta 0:00:01\r\u001b[K     |███████████████▋                | 61kB 16.8MB/s eta 0:00:01\r\u001b[K     |██████████████████▏             | 71kB 17.4MB/s eta 0:00:01\r\u001b[K     |████████████████████▉           | 81kB 15.9MB/s eta 0:00:01\r\u001b[K     |███████████████████████▍        | 92kB 16.6MB/s eta 0:00:01\r\u001b[K     |██████████████████████████      | 102kB 17.1MB/s eta 0:00:01\r\u001b[K     |████████████████████████████▋   | 112kB 17.1MB/s eta 0:00:01\r\u001b[K     |███████████████████████████████▏| 122kB 17.1MB/s eta 0:00:01\r\u001b[K     |████████████████████████████████| 133kB 17.1MB/s \n",
            "\u001b[?25hRequirement already satisfied: requests in /usr/local/lib/python3.7/dist-packages (from vaderSentiment) (2.23.0)\n",
            "Requirement already satisfied: certifi>=2017.4.17 in /usr/local/lib/python3.7/dist-packages (from requests->vaderSentiment) (2020.12.5)\n",
            "Requirement already satisfied: chardet<4,>=3.0.2 in /usr/local/lib/python3.7/dist-packages (from requests->vaderSentiment) (3.0.4)\n",
            "Requirement already satisfied: urllib3!=1.25.0,!=1.25.1,<1.26,>=1.21.1 in /usr/local/lib/python3.7/dist-packages (from requests->vaderSentiment) (1.24.3)\n",
            "Requirement already satisfied: idna<3,>=2.5 in /usr/local/lib/python3.7/dist-packages (from requests->vaderSentiment) (2.10)\n",
            "Installing collected packages: vaderSentiment\n",
            "Successfully installed vaderSentiment-3.3.2\n"
          ],
          "name": "stdout"
        }
      ]
    },
    {
      "cell_type": "code",
      "metadata": {
        "id": "yXjTSa83BX_O"
      },
      "source": [
        "from vaderSentiment.vaderSentiment import SentimentIntensityAnalyzer\n",
        "import sklearn.metrics"
      ],
      "execution_count": 22,
      "outputs": []
    },
    {
      "cell_type": "code",
      "metadata": {
        "id": "Ppoh0-bHOWIf"
      },
      "source": [
        "analyzer = SentimentIntensityAnalyzer()"
      ],
      "execution_count": 19,
      "outputs": []
    },
    {
      "cell_type": "code",
      "metadata": {
        "id": "gwukPPZ5P9g1"
      },
      "source": [
        "y_pred = []\n",
        "for tweet in X_test:\n",
        "  vs = analyzer.polarity_scores(tweet)\n",
        "  if(vs['compound'] >= 0.05):\n",
        "    y_pred.append(1)\n",
        "  else:\n",
        "    y_pred.append(0)"
      ],
      "execution_count": 33,
      "outputs": []
    },
    {
      "cell_type": "code",
      "metadata": {
        "id": "UC4G_RYwQySo"
      },
      "source": [
        "vs_accuracy = sklearn.metrics.accuracy_score(y_pred,y_test)\n",
        "vs_recall = sklearn.metrics.recall_score(y_pred,y_test)\n",
        "vs_percision =  sklearn.metrics.precision_score(y_pred,y_test)\n",
        "vs_f1score =  sklearn.metrics.f1_score(y_pred,y_test)"
      ],
      "execution_count": 34,
      "outputs": []
    },
    {
      "cell_type": "code",
      "metadata": {
        "colab": {
          "base_uri": "https://localhost:8080/"
        },
        "id": "uOcJaRsHRGRE",
        "outputId": "5fadb971-5293-4ea0-db5f-8953fb7ec431"
      },
      "source": [
        "print('Accuracy: ',vs_accuracy)\n",
        "print('Recall: ', vs_recall)\n",
        "print('Percision: ', vs_percision)\n",
        "print('F1 Score: ', vs_f1score)"
      ],
      "execution_count": 37,
      "outputs": [
        {
          "output_type": "stream",
          "text": [
            "Accuracy:  0.654334375\n",
            "Recall:  0.6644775841053957\n",
            "Percision:  0.6235172060349246\n",
            "F1 Score:  0.643346090971526\n"
          ],
          "name": "stdout"
        }
      ]
    },
    {
      "cell_type": "markdown",
      "metadata": {
        "id": "X4M-lNFcieVi"
      },
      "source": [
        "#### Is this approach as good as the previous ones? Why do you think this is? "
      ]
    },
    {
      "cell_type": "markdown",
      "metadata": {
        "id": "Mm-9eiAAGjow"
      },
      "source": [
        "When compared to LSTM, vader isn't producing good results. Even though, Vader is a rule-based model built for social media texts, LSTM is able to understand the text better and is able to produce better results. \n",
        "\n",
        "LSTMs are also very effective on sequential data such as texts, which made them produce better results."
      ]
    },
    {
      "cell_type": "markdown",
      "metadata": {
        "id": "vjdODASRBZFc"
      },
      "source": [
        "# Bonus"
      ]
    },
    {
      "cell_type": "markdown",
      "metadata": {
        "id": "ImaVyVCTBce3"
      },
      "source": [
        "1. Use 90% training data, 10% testing"
      ]
    },
    {
      "cell_type": "code",
      "metadata": {
        "id": "8HRgDM87BX81"
      },
      "source": [
        "X_train, X_test, y_train, y_test = train_test_split(X, y, test_size=0.10,random_state=2361)"
      ],
      "execution_count": 21,
      "outputs": []
    },
    {
      "cell_type": "code",
      "metadata": {
        "id": "RqwJbyR1BgQn"
      },
      "source": [
        "encoded_x_train = []\n",
        "\n",
        "for r in X_train:\n",
        "  encoded_x_train.append(encode_review(r))"
      ],
      "execution_count": 22,
      "outputs": []
    },
    {
      "cell_type": "code",
      "metadata": {
        "id": "1DX4UTGdCQMb"
      },
      "source": [
        "encoded_x_test = []\n",
        "\n",
        "for r in X_test:\n",
        "  encoded_x_test.append(encode_review(r))"
      ],
      "execution_count": 23,
      "outputs": []
    },
    {
      "cell_type": "code",
      "metadata": {
        "id": "lZED6H1jCQuP"
      },
      "source": [
        "X_train = encoded_x_train\n",
        "X_test = encoded_x_test"
      ],
      "execution_count": 24,
      "outputs": []
    },
    {
      "cell_type": "code",
      "metadata": {
        "id": "V6gwAH6-CQrj"
      },
      "source": [
        "X_train = np.array(X_train)\n",
        "X_test = np.array(X_test)"
      ],
      "execution_count": 25,
      "outputs": []
    },
    {
      "cell_type": "code",
      "metadata": {
        "id": "r01Ao-_uCWfG"
      },
      "source": [
        "y_train = np.array(y_train)\n",
        "y_test = np.array(y_test)"
      ],
      "execution_count": 26,
      "outputs": []
    },
    {
      "cell_type": "code",
      "metadata": {
        "colab": {
          "base_uri": "https://localhost:8080/",
          "height": 0
        },
        "id": "GS2y78jgCWbq",
        "outputId": "a4078349-849e-40d1-f954-4008bcd3b4d2"
      },
      "source": [
        "# The length of reviews\n",
        "review_length = 300\n",
        "\n",
        "# Padding / truncated our reviews\n",
        "X_train = sequence.pad_sequences(X_train, maxlen = review_length)\n",
        "X_test = sequence.pad_sequences(X_test, maxlen = review_length)\n",
        "\n",
        "# Check the size of our datasets. Review data for both test and training should \n",
        "# contain 25000 reviews of 500 integers. Class data should contain 25000 values, \n",
        "# one for each review. Class values are 0 or 1, indicating a negative \n",
        "# or positive review.\n",
        "print(\"Shape Training Review Data: \" + str(X_train.shape))\n",
        "print(\"Shape Training Class Data: \" + str(y_train.shape))\n",
        "print(\"Shape Test Review Data: \" + str(X_test.shape))\n",
        "print(\"Shape Test Class Data: \" + str(y_test.shape))"
      ],
      "execution_count": 27,
      "outputs": [
        {
          "output_type": "stream",
          "text": [
            "Shape Training Review Data: (1440000, 300)\n",
            "Shape Training Class Data: (1440000,)\n",
            "Shape Test Review Data: (160000, 300)\n",
            "Shape Test Class Data: (160000,)\n"
          ],
          "name": "stdout"
        }
      ]
    },
    {
      "cell_type": "code",
      "metadata": {
        "colab": {
          "base_uri": "https://localhost:8080/",
          "height": 0
        },
        "id": "6DcSUjvVCbzV",
        "outputId": "ace51990-b49c-489c-e87b-b42694a97e61"
      },
      "source": [
        "# We begin by defining the a empty stack. We'll use this for building our \n",
        "# network, later by layer.\n",
        "model = tf.keras.models.Sequential()\n",
        "\n",
        "# The Embedding Layer provides a spatial mapping (or Word Embedding) of all the \n",
        "# individual words in our training set. Words close to one another share context \n",
        "# and or meaning. This spatial mapping is learning during the training process.\n",
        "model.add(\n",
        "    tf.keras.layers.Embedding(\n",
        "        input_dim = vocab_size, # The size of our vocabulary \n",
        "        output_dim = 32, # Dimensions to which each words shall be mapped\n",
        "        input_length = review_length # Length of input sequences\n",
        "    )\n",
        ")\n",
        "\n",
        "# Dropout layers fight overfitting and forces the model to learn multiple \n",
        "# representations of the same data by randomly disabling neurons in the \n",
        "# learning phase.\n",
        "model.add(\n",
        "    tf.keras.layers.Dropout(\n",
        "        rate=0.25 # Randomly disable 25% of neurons\n",
        "    )\n",
        ")\n",
        "\n",
        "# We are using a fast version of LSTM whih is optimised for GPUs. This layer \n",
        "# looks at the sequence of words in the review, along with their word embeddings\n",
        "# and uses both of these to determine to sentiment of a given review.\n",
        "model.add(\n",
        "    tf.keras.layers.LSTM(\n",
        "        units=32 # 32 LSTM units in this layer\n",
        "    )\n",
        ")\n",
        "\n",
        "# Add a second dropout layer with the same aim as the first.\n",
        "model.add(\n",
        "    tf.keras.layers.Dropout(\n",
        "        rate=0.25 # Randomly disable 25% of neurons\n",
        "    )\n",
        ")\n",
        "\n",
        "# All LSTM units are connected to a single node in the dense layer. A sigmoid \n",
        "# activation function determines the output from this node - a value \n",
        "# between 0 and 1. Closer to 0 indicates a negative review. Closer to 1 \n",
        "# indicates a positive review.\n",
        "model.add(\n",
        "    tf.keras.layers.Dense(\n",
        "        units=1, # Single unit\n",
        "        activation='sigmoid' # Sigmoid activation function (output from 0 to 1)\n",
        "    )\n",
        ")\n",
        "\n",
        "# Compile the model\n",
        "model.compile(\n",
        "    loss=tf.keras.losses.binary_crossentropy, # loss function\n",
        "    optimizer=tf.keras.optimizers.Adam(), # optimiser function\n",
        "    metrics=['accuracy']) # reporting metric\n",
        "\n",
        "# Display a summary of the models structure\n",
        "model.summary()\n"
      ],
      "execution_count": 28,
      "outputs": [
        {
          "output_type": "stream",
          "text": [
            "Model: \"sequential\"\n",
            "_________________________________________________________________\n",
            "Layer (type)                 Output Shape              Param #   \n",
            "=================================================================\n",
            "embedding (Embedding)        (None, 300, 32)           43217536  \n",
            "_________________________________________________________________\n",
            "dropout (Dropout)            (None, 300, 32)           0         \n",
            "_________________________________________________________________\n",
            "lstm (LSTM)                  (None, 32)                8320      \n",
            "_________________________________________________________________\n",
            "dropout_1 (Dropout)          (None, 32)                0         \n",
            "_________________________________________________________________\n",
            "dense (Dense)                (None, 1)                 33        \n",
            "=================================================================\n",
            "Total params: 43,225,889\n",
            "Trainable params: 43,225,889\n",
            "Non-trainable params: 0\n",
            "_________________________________________________________________\n"
          ],
          "name": "stdout"
        }
      ]
    },
    {
      "cell_type": "code",
      "metadata": {
        "colab": {
          "base_uri": "https://localhost:8080/",
          "height": 644
        },
        "id": "w9HBYnleCbs6",
        "outputId": "77ff819e-8ccd-44ff-a2bf-048c49ddee69"
      },
      "source": [
        "tf.keras.utils.plot_model(model, to_file='model.png', show_shapes=True, show_layer_names=False)\n"
      ],
      "execution_count": 29,
      "outputs": [
        {
          "output_type": "execute_result",
          "data": {
            "image/png": "[encoded data removed]",
            "text/plain": [
              "<IPython.core.display.Image object>"
            ]
          },
          "metadata": {
            "tags": []
          },
          "execution_count": 29
        }
      ]
    },
    {
      "cell_type": "code",
      "metadata": {
        "colab": {
          "base_uri": "https://localhost:8080/",
          "height": 0
        },
        "id": "80YS5dc_Ckq5",
        "outputId": "e4f671c1-be40-4225-e02e-33a5c62a33c5"
      },
      "source": [
        "# Train the LSTM on the training data\n",
        "history = model.fit(\n",
        "\n",
        "    # Training data : features (review) and classes (positive or negative)\n",
        "    X_train, y_train,\n",
        "                    \n",
        "    # Number of samples to work through before updating the \n",
        "    # internal model parameters via back propagation. The \n",
        "    # higher the batch, the more memory you need.\n",
        "    batch_size=256, \n",
        "\n",
        "    # An epoch is an iteration over the entire training data.\n",
        "    epochs=3, \n",
        "    \n",
        "    # The model will set apart his fraction of the training \n",
        "    # data, will not train on it, and will evaluate the loss\n",
        "    # and any model metrics on this data at the end of \n",
        "    # each epoch.\n",
        "    validation_split=0.2,\n",
        "    \n",
        "    verbose=1\n",
        ")"
      ],
      "execution_count": 30,
      "outputs": [
        {
          "output_type": "stream",
          "text": [
            "Epoch 1/3\n",
            "4500/4500 [==============================] - 1790s 391ms/step - loss: 0.4796 - accuracy: 0.7664 - val_loss: 0.3828 - val_accuracy: 0.8284\n",
            "Epoch 2/3\n",
            "4500/4500 [==============================] - 1755s 390ms/step - loss: 0.2982 - accuracy: 0.8754 - val_loss: 0.4002 - val_accuracy: 0.8247\n",
            "Epoch 3/3\n",
            "4500/4500 [==============================] - 1758s 391ms/step - loss: 0.1924 - accuracy: 0.9247 - val_loss: 0.4352 - val_accuracy: 0.8149\n"
          ],
          "name": "stdout"
        }
      ]
    },
    {
      "cell_type": "code",
      "metadata": {
        "id": "ziV7MTXiCknH"
      },
      "source": [
        "predicted_classes = model.predict_classes(X_test)"
      ],
      "execution_count": null,
      "outputs": []
    },
    {
      "cell_type": "code",
      "metadata": {
        "id": "CCVOaiCv2479"
      },
      "source": [
        "from sklearn.metrics import classification_report\n",
        "classification_report_10 = classification_report(y_test, predicted_classes)"
      ],
      "execution_count": 32,
      "outputs": []
    },
    {
      "cell_type": "code",
      "metadata": {
        "colab": {
          "base_uri": "https://localhost:8080/",
          "height": 0
        },
        "id": "bLYIeZIYErvK",
        "outputId": "669080a7-c033-4b03-c849-45f6bc978488"
      },
      "source": [
        "print(classification_report_10)"
      ],
      "execution_count": 33,
      "outputs": [
        {
          "output_type": "stream",
          "text": [
            "              precision    recall  f1-score   support\n",
            "\n",
            "           0       0.81      0.83      0.82     80144\n",
            "           1       0.82      0.80      0.81     79856\n",
            "\n",
            "    accuracy                           0.82    160000\n",
            "   macro avg       0.82      0.82      0.82    160000\n",
            "weighted avg       0.82      0.82      0.82    160000\n",
            "\n"
          ],
          "name": "stdout"
        }
      ]
    },
    {
      "cell_type": "markdown",
      "metadata": {
        "id": "IigIU0loC9ym"
      },
      "source": [
        "Remove stopwords from the tweets."
      ]
    },
    {
      "cell_type": "code",
      "metadata": {
        "colab": {
          "base_uri": "https://localhost:8080/",
          "height": 0
        },
        "id": "9Lj6ve1sFiq5",
        "outputId": "d74d1bf2-8da5-420b-bc43-ecff1d44b22a"
      },
      "source": [
        "import nltk\n",
        "nltk.download('stopwords')\n",
        "from nltk.corpus import stopwords\n",
        "stop_word = stopwords.words('english')"
      ],
      "execution_count": 35,
      "outputs": [
        {
          "output_type": "stream",
          "text": [
            "[nltk_data] Downloading package stopwords to /root/nltk_data...\n",
            "[nltk_data]   Unzipping corpora/stopwords.zip.\n"
          ],
          "name": "stdout"
        }
      ]
    },
    {
      "cell_type": "code",
      "metadata": {
        "id": "vFA6bgvCCkh_"
      },
      "source": [
        "# remove stopwords\n",
        "cleaned_X = []\n",
        "\n",
        "for tweet in X:\n",
        "  temp = ''\n",
        "  for word in tweet.split(' '):\n",
        "    if(word not in stop_word):\n",
        "      temp += word + ' '\n",
        "  cleaned_X.append(temp[:-1])"
      ],
      "execution_count": 53,
      "outputs": []
    },
    {
      "cell_type": "code",
      "metadata": {
        "id": "moSkBZwpFBOA"
      },
      "source": [
        "X = cleaned_X"
      ],
      "execution_count": 57,
      "outputs": []
    },
    {
      "cell_type": "code",
      "metadata": {
        "id": "ufGdM6MGCkRb"
      },
      "source": [
        "X_train, X_test, y_train, y_test = train_test_split(X, y, test_size=0.10,random_state=2361)"
      ],
      "execution_count": 58,
      "outputs": []
    },
    {
      "cell_type": "code",
      "metadata": {
        "id": "SGdw93pDEN2P"
      },
      "source": [
        "encoded_x_train = []\n",
        "\n",
        "for r in X_train:\n",
        "  encoded_x_train.append(encode_review(r))"
      ],
      "execution_count": 59,
      "outputs": []
    },
    {
      "cell_type": "code",
      "metadata": {
        "id": "zjArdjKRENy-"
      },
      "source": [
        "encoded_x_test = []\n",
        "\n",
        "for r in X_test:\n",
        "  encoded_x_test.append(encode_review(r))"
      ],
      "execution_count": 60,
      "outputs": []
    },
    {
      "cell_type": "code",
      "metadata": {
        "id": "vU4ga-eUENsc"
      },
      "source": [
        "X_train = encoded_x_train\n",
        "X_test = encoded_x_test"
      ],
      "execution_count": 61,
      "outputs": []
    },
    {
      "cell_type": "code",
      "metadata": {
        "id": "HTl4EvPBENl8"
      },
      "source": [
        "X_train = np.array(X_train)\n",
        "X_test = np.array(X_test)"
      ],
      "execution_count": 62,
      "outputs": []
    },
    {
      "cell_type": "code",
      "metadata": {
        "id": "UHVaMFliEei-"
      },
      "source": [
        "y_train = np.array(y_train)\n",
        "y_test = np.array(y_test)"
      ],
      "execution_count": 63,
      "outputs": []
    },
    {
      "cell_type": "code",
      "metadata": {
        "colab": {
          "base_uri": "https://localhost:8080/",
          "height": 0
        },
        "id": "QEwxzhZgEecQ",
        "outputId": "45be5d7e-9ffa-4d7a-ef95-cfd070af7147"
      },
      "source": [
        "# The length of reviews\n",
        "review_length = 300\n",
        "\n",
        "# Padding / truncated our reviews\n",
        "X_train = sequence.pad_sequences(X_train, maxlen = review_length)\n",
        "X_test = sequence.pad_sequences(X_test, maxlen = review_length)\n",
        "\n",
        "# Check the size of our datasets. Review data for both test and training should \n",
        "# contain 25000 reviews of 500 integers. Class data should contain 25000 values, \n",
        "# one for each review. Class values are 0 or 1, indicating a negative \n",
        "# or positive review.\n",
        "print(\"Shape Training Review Data: \" + str(X_train.shape))\n",
        "print(\"Shape Training Class Data: \" + str(y_train.shape))\n",
        "print(\"Shape Test Review Data: \" + str(X_test.shape))\n",
        "print(\"Shape Test Class Data: \" + str(y_test.shape))"
      ],
      "execution_count": 64,
      "outputs": [
        {
          "output_type": "stream",
          "text": [
            "Shape Training Review Data: (1440000, 300)\n",
            "Shape Training Class Data: (1440000,)\n",
            "Shape Test Review Data: (160000, 300)\n",
            "Shape Test Class Data: (160000,)\n"
          ],
          "name": "stdout"
        }
      ]
    },
    {
      "cell_type": "code",
      "metadata": {
        "colab": {
          "base_uri": "https://localhost:8080/",
          "height": 0
        },
        "id": "e6cP2oMwEeVb",
        "outputId": "29dd1fe6-726e-472a-9161-7b385071cf9c"
      },
      "source": [
        "# We begin by defining the a empty stack. We'll use this for building our \n",
        "# network, later by layer.\n",
        "model = tf.keras.models.Sequential()\n",
        "\n",
        "# The Embedding Layer provides a spatial mapping (or Word Embedding) of all the \n",
        "# individual words in our training set. Words close to one another share context \n",
        "# and or meaning. This spatial mapping is learning during the training process.\n",
        "model.add(\n",
        "    tf.keras.layers.Embedding(\n",
        "        input_dim = vocab_size, # The size of our vocabulary \n",
        "        output_dim = 32, # Dimensions to which each words shall be mapped\n",
        "        input_length = review_length # Length of input sequences\n",
        "    )\n",
        ")\n",
        "\n",
        "# Dropout layers fight overfitting and forces the model to learn multiple \n",
        "# representations of the same data by randomly disabling neurons in the \n",
        "# learning phase.\n",
        "model.add(\n",
        "    tf.keras.layers.Dropout(\n",
        "        rate=0.25 # Randomly disable 25% of neurons\n",
        "    )\n",
        ")\n",
        "\n",
        "# We are using a fast version of LSTM whih is optimised for GPUs. This layer \n",
        "# looks at the sequence of words in the review, along with their word embeddings\n",
        "# and uses both of these to determine to sentiment of a given review.\n",
        "model.add(\n",
        "    tf.keras.layers.LSTM(\n",
        "        units=32 # 32 LSTM units in this layer\n",
        "    )\n",
        ")\n",
        "\n",
        "# Add a second dropout layer with the same aim as the first.\n",
        "model.add(\n",
        "    tf.keras.layers.Dropout(\n",
        "        rate=0.25 # Randomly disable 25% of neurons\n",
        "    )\n",
        ")\n",
        "\n",
        "# All LSTM units are connected to a single node in the dense layer. A sigmoid \n",
        "# activation function determines the output from this node - a value \n",
        "# between 0 and 1. Closer to 0 indicates a negative review. Closer to 1 \n",
        "# indicates a positive review.\n",
        "model.add(\n",
        "    tf.keras.layers.Dense(\n",
        "        units=1, # Single unit\n",
        "        activation='sigmoid' # Sigmoid activation function (output from 0 to 1)\n",
        "    )\n",
        ")\n",
        "\n",
        "# Compile the model\n",
        "model.compile(\n",
        "    loss=tf.keras.losses.binary_crossentropy, # loss function\n",
        "    optimizer=tf.keras.optimizers.Adam(), # optimiser function\n",
        "    metrics=['accuracy']) # reporting metric\n",
        "\n",
        "# Display a summary of the models structure\n",
        "model.summary()\n"
      ],
      "execution_count": 65,
      "outputs": [
        {
          "output_type": "stream",
          "text": [
            "Model: \"sequential_1\"\n",
            "_________________________________________________________________\n",
            "Layer (type)                 Output Shape              Param #   \n",
            "=================================================================\n",
            "embedding_1 (Embedding)      (None, 300, 32)           43217536  \n",
            "_________________________________________________________________\n",
            "dropout_2 (Dropout)          (None, 300, 32)           0         \n",
            "_________________________________________________________________\n",
            "lstm_1 (LSTM)                (None, 32)                8320      \n",
            "_________________________________________________________________\n",
            "dropout_3 (Dropout)          (None, 32)                0         \n",
            "_________________________________________________________________\n",
            "dense_1 (Dense)              (None, 1)                 33        \n",
            "=================================================================\n",
            "Total params: 43,225,889\n",
            "Trainable params: 43,225,889\n",
            "Non-trainable params: 0\n",
            "_________________________________________________________________\n"
          ],
          "name": "stdout"
        }
      ]
    },
    {
      "cell_type": "code",
      "metadata": {
        "colab": {
          "base_uri": "https://localhost:8080/",
          "height": 0
        },
        "id": "unF9N_30Elpx",
        "outputId": "8513258a-5f7f-4e13-e57d-e0b4cc2ff34e"
      },
      "source": [
        "# Train the LSTM on the training data\n",
        "history = model.fit(\n",
        "\n",
        "    # Training data : features (review) and classes (positive or negative)\n",
        "    X_train, y_train,\n",
        "                    \n",
        "    # Number of samples to work through before updating the \n",
        "    # internal model parameters via back propagation. The \n",
        "    # higher the batch, the more memory you need.\n",
        "    batch_size=256, \n",
        "\n",
        "    # An epoch is an iteration over the entire training data.\n",
        "    epochs=3, \n",
        "    \n",
        "    # The model will set apart his fraction of the training \n",
        "    # data, will not train on it, and will evaluate the loss\n",
        "    # and any model metrics on this data at the end of \n",
        "    # each epoch.\n",
        "    validation_split=0.2,\n",
        "    \n",
        "    verbose=1\n",
        ")"
      ],
      "execution_count": 66,
      "outputs": [
        {
          "output_type": "stream",
          "text": [
            "Epoch 1/3\n",
            "4500/4500 [==============================] - 1762s 391ms/step - loss: 0.4966 - accuracy: 0.7538 - val_loss: 0.4185 - val_accuracy: 0.8053\n",
            "Epoch 2/3\n",
            "4500/4500 [==============================] - 1758s 391ms/step - loss: 0.3213 - accuracy: 0.8637 - val_loss: 0.4432 - val_accuracy: 0.7980\n",
            "Epoch 3/3\n",
            "4500/4500 [==============================] - 1772s 394ms/step - loss: 0.2169 - accuracy: 0.9133 - val_loss: 0.4960 - val_accuracy: 0.7877\n"
          ],
          "name": "stdout"
        }
      ]
    },
    {
      "cell_type": "code",
      "metadata": {
        "colab": {
          "base_uri": "https://localhost:8080/",
          "height": 0
        },
        "id": "1Liv65WdEna7",
        "outputId": "15628f8e-c1b8-413f-8633-ac840730ec8d"
      },
      "source": [
        "predicted_classes = model.predict_classes(X_test)\n",
        "classification_report_no_stop_words = classification_report(y_test, predicted_classes)"
      ],
      "execution_count": 67,
      "outputs": [
        {
          "output_type": "stream",
          "text": [
            "/usr/local/lib/python3.7/dist-packages/tensorflow/python/keras/engine/sequential.py:450: UserWarning: `model.predict_classes()` is deprecated and will be removed after 2021-01-01. Please use instead:* `np.argmax(model.predict(x), axis=-1)`,   if your model does multi-class classification   (e.g. if it uses a `softmax` last-layer activation).* `(model.predict(x) > 0.5).astype(\"int32\")`,   if your model does binary classification   (e.g. if it uses a `sigmoid` last-layer activation).\n",
            "  warnings.warn('`model.predict_classes()` is deprecated and '\n"
          ],
          "name": "stderr"
        }
      ]
    },
    {
      "cell_type": "code",
      "metadata": {
        "colab": {
          "base_uri": "https://localhost:8080/",
          "height": 0
        },
        "id": "7hhhtCBvEztI",
        "outputId": "3793e235-ba50-4dd6-c6ab-b92a0b6e6138"
      },
      "source": [
        "print(classification_report_no_stop_words)"
      ],
      "execution_count": 68,
      "outputs": [
        {
          "output_type": "stream",
          "text": [
            "              precision    recall  f1-score   support\n",
            "\n",
            "           0       0.79      0.79      0.79     80144\n",
            "           1       0.79      0.78      0.79     79856\n",
            "\n",
            "    accuracy                           0.79    160000\n",
            "   macro avg       0.79      0.79      0.79    160000\n",
            "weighted avg       0.79      0.79      0.79    160000\n",
            "\n"
          ],
          "name": "stdout"
        }
      ]
    },
    {
      "cell_type": "markdown",
      "metadata": {
        "id": "6nOC5z1VE3qv"
      },
      "source": [
        "Remove all user mentions for the tweets"
      ]
    },
    {
      "cell_type": "code",
      "metadata": {
        "id": "orkNe6A9E2IG"
      },
      "source": [
        "X = df['text'].tolist()\n",
        "y = df['polarity'].tolist()\n",
        "\n",
        "y = [x if x==0 else 1 for x in y]\n",
        "X_train, X_test, y_train, y_test = train_test_split(X, y, test_size=0.20,random_state=2361)"
      ],
      "execution_count": 92,
      "outputs": []
    },
    {
      "cell_type": "code",
      "metadata": {
        "id": "-KOqD3ezmSQb"
      },
      "source": [
        "# remove tweet handles\n",
        "cleaned_X = []\n",
        "\n",
        "for tweet in X:\n",
        "  temp = ''\n",
        "  for word in tweet.split(' '):\n",
        "    if(word and word[0] != '@'):\n",
        "      temp += word + ' '\n",
        "  cleaned_X.append(temp[:-1])"
      ],
      "execution_count": 95,
      "outputs": []
    },
    {
      "cell_type": "code",
      "metadata": {
        "id": "5lMU2EoSmoFE"
      },
      "source": [
        "X = cleaned_X\n",
        "X_train, X_test, y_train, y_test = train_test_split(X, y, test_size=0.10,random_state=2361)\n",
        "\n",
        "encoded_x_train = []\n",
        "\n",
        "for r in X_train:\n",
        "  encoded_x_train.append(encode_review(r))\n",
        "\n",
        "encoded_x_test = []\n",
        "\n",
        "for r in X_test:\n",
        "  encoded_x_test.append(encode_review(r))\n",
        "\n",
        "X_train = encoded_x_train\n",
        "X_test = encoded_x_test\n",
        "\n",
        "X_train = np.array(X_train)\n",
        "X_test = np.array(X_test)\n",
        "\n",
        "y_train = np.array(y_train)\n",
        "y_test = np.array(y_test)"
      ],
      "execution_count": 96,
      "outputs": []
    },
    {
      "cell_type": "code",
      "metadata": {
        "colab": {
          "base_uri": "https://localhost:8080/"
        },
        "id": "XwnU43bkm8Qx",
        "outputId": "b9a26bdd-ea08-4160-bda2-cedc8cdca0c3"
      },
      "source": [
        "# The length of reviews\n",
        "review_length = 300\n",
        "\n",
        "# Padding / truncated our reviews\n",
        "X_train = sequence.pad_sequences(X_train, maxlen = review_length)\n",
        "X_test = sequence.pad_sequences(X_test, maxlen = review_length)\n",
        "\n",
        "# Check the size of our datasets. Review data for both test and training should \n",
        "# contain 25000 reviews of 500 integers. Class data should contain 25000 values, \n",
        "# one for each review. Class values are 0 or 1, indicating a negative \n",
        "# or positive review.\n",
        "print(\"Shape Training Review Data: \" + str(X_train.shape))\n",
        "print(\"Shape Training Class Data: \" + str(y_train.shape))\n",
        "print(\"Shape Test Review Data: \" + str(X_test.shape))\n",
        "print(\"Shape Test Class Data: \" + str(y_test.shape))"
      ],
      "execution_count": 97,
      "outputs": [
        {
          "output_type": "stream",
          "text": [
            "Shape Training Review Data: (1440000, 300)\n",
            "Shape Training Class Data: (1440000,)\n",
            "Shape Test Review Data: (160000, 300)\n",
            "Shape Test Class Data: (160000,)\n"
          ],
          "name": "stdout"
        }
      ]
    },
    {
      "cell_type": "code",
      "metadata": {
        "colab": {
          "base_uri": "https://localhost:8080/"
        },
        "id": "tFXlfu5SnCJA",
        "outputId": "8574f911-e5f3-46cd-e4b5-0cb93c43c470"
      },
      "source": [
        "# We begin by defining the a empty stack. We'll use this for building our \n",
        "# network, later by layer.\n",
        "model = tf.keras.models.Sequential()\n",
        "\n",
        "# The Embedding Layer provides a spatial mapping (or Word Embedding) of all the \n",
        "# individual words in our training set. Words close to one another share context \n",
        "# and or meaning. This spatial mapping is learning during the training process.\n",
        "model.add(\n",
        "    tf.keras.layers.Embedding(\n",
        "        input_dim = vocab_size, # The size of our vocabulary \n",
        "        output_dim = 32, # Dimensions to which each words shall be mapped\n",
        "        input_length = review_length # Length of input sequences\n",
        "    )\n",
        ")\n",
        "\n",
        "# Dropout layers fight overfitting and forces the model to learn multiple \n",
        "# representations of the same data by randomly disabling neurons in the \n",
        "# learning phase.\n",
        "model.add(\n",
        "    tf.keras.layers.Dropout(\n",
        "        rate=0.25 # Randomly disable 25% of neurons\n",
        "    )\n",
        ")\n",
        "\n",
        "# We are using a fast version of LSTM whih is optimised for GPUs. This layer \n",
        "# looks at the sequence of words in the review, along with their word embeddings\n",
        "# and uses both of these to determine to sentiment of a given review.\n",
        "model.add(\n",
        "    tf.keras.layers.LSTM(\n",
        "        units=32 # 32 LSTM units in this layer\n",
        "    )\n",
        ")\n",
        "\n",
        "# Add a second dropout layer with the same aim as the first.\n",
        "model.add(\n",
        "    tf.keras.layers.Dropout(\n",
        "        rate=0.25 # Randomly disable 25% of neurons\n",
        "    )\n",
        ")\n",
        "\n",
        "# All LSTM units are connected to a single node in the dense layer. A sigmoid \n",
        "# activation function determines the output from this node - a value \n",
        "# between 0 and 1. Closer to 0 indicates a negative review. Closer to 1 \n",
        "# indicates a positive review.\n",
        "model.add(\n",
        "    tf.keras.layers.Dense(\n",
        "        units=1, # Single unit\n",
        "        activation='sigmoid' # Sigmoid activation function (output from 0 to 1)\n",
        "    )\n",
        ")\n",
        "\n",
        "# Compile the model\n",
        "model.compile(\n",
        "    loss=tf.keras.losses.binary_crossentropy, # loss function\n",
        "    optimizer=tf.keras.optimizers.Adam(), # optimiser function\n",
        "    metrics=['accuracy']) # reporting metric\n",
        "\n",
        "# Display a summary of the models structure\n",
        "model.summary()\n"
      ],
      "execution_count": 98,
      "outputs": [
        {
          "output_type": "stream",
          "text": [
            "Model: \"sequential_3\"\n",
            "_________________________________________________________________\n",
            "Layer (type)                 Output Shape              Param #   \n",
            "=================================================================\n",
            "embedding_3 (Embedding)      (None, 300, 32)           43217536  \n",
            "_________________________________________________________________\n",
            "dropout_6 (Dropout)          (None, 300, 32)           0         \n",
            "_________________________________________________________________\n",
            "lstm_3 (LSTM)                (None, 32)                8320      \n",
            "_________________________________________________________________\n",
            "dropout_7 (Dropout)          (None, 32)                0         \n",
            "_________________________________________________________________\n",
            "dense_3 (Dense)              (None, 1)                 33        \n",
            "=================================================================\n",
            "Total params: 43,225,889\n",
            "Trainable params: 43,225,889\n",
            "Non-trainable params: 0\n",
            "_________________________________________________________________\n"
          ],
          "name": "stdout"
        }
      ]
    },
    {
      "cell_type": "code",
      "metadata": {
        "colab": {
          "base_uri": "https://localhost:8080/"
        },
        "id": "SB7IFTO5nDIT",
        "outputId": "be91b2e7-41c6-4a9b-b329-b8f500adae08"
      },
      "source": [
        "# Train the LSTM on the training data\n",
        "history = model.fit(\n",
        "\n",
        "    # Training data : features (review) and classes (positive or negative)\n",
        "    X_train, y_train,\n",
        "                    \n",
        "    # Number of samples to work through before updating the \n",
        "    # internal model parameters via back propagation. The \n",
        "    # higher the batch, the more memory you need.\n",
        "    batch_size=256, \n",
        "\n",
        "    # An epoch is an iteration over the entire training data.\n",
        "    epochs=3, \n",
        "    \n",
        "    # The model will set apart his fraction of the training \n",
        "    # data, will not train on it, and will evaluate the loss\n",
        "    # and any model metrics on this data at the end of \n",
        "    # each epoch.\n",
        "    validation_split=0.2,\n",
        "    \n",
        "    verbose=1\n",
        ")"
      ],
      "execution_count": 102,
      "outputs": [
        {
          "output_type": "stream",
          "text": [
            "Epoch 1/3\n",
            "4500/4500 [==============================] - 1764s 392ms/step - loss: 0.4838 - accuracy: 0.7635 - val_loss: 0.4080 - val_accuracy: 0.8127\n",
            "Epoch 2/3\n",
            "4500/4500 [==============================] - 1752s 389ms/step - loss: 0.3456 - accuracy: 0.8485 - val_loss: 0.4130 - val_accuracy: 0.8127\n",
            "Epoch 3/3\n",
            "4500/4500 [==============================] - 1761s 391ms/step - loss: 0.2725 - accuracy: 0.8858 - val_loss: 0.4443 - val_accuracy: 0.8067\n"
          ],
          "name": "stdout"
        }
      ]
    },
    {
      "cell_type": "code",
      "metadata": {
        "colab": {
          "base_uri": "https://localhost:8080/"
        },
        "id": "Et1EUjqUnKxP",
        "outputId": "c298b097-f839-406f-80b3-913de41e4778"
      },
      "source": [
        "from sklearn.metrics import classification_report\n",
        "predicted_classes = model.predict_classes(X_test)\n",
        "classification_report_no_handles = classification_report(y_test, predicted_classes)\n",
        "print(classification_report_no_handles)"
      ],
      "execution_count": 104,
      "outputs": [
        {
          "output_type": "stream",
          "text": [
            "/usr/local/lib/python3.7/dist-packages/tensorflow/python/keras/engine/sequential.py:450: UserWarning: `model.predict_classes()` is deprecated and will be removed after 2021-01-01. Please use instead:* `np.argmax(model.predict(x), axis=-1)`,   if your model does multi-class classification   (e.g. if it uses a `softmax` last-layer activation).* `(model.predict(x) > 0.5).astype(\"int32\")`,   if your model does binary classification   (e.g. if it uses a `sigmoid` last-layer activation).\n",
            "  warnings.warn('`model.predict_classes()` is deprecated and '\n"
          ],
          "name": "stderr"
        },
        {
          "output_type": "stream",
          "text": [
            "              precision    recall  f1-score   support\n",
            "\n",
            "           0       0.80      0.82      0.81     80144\n",
            "           1       0.81      0.80      0.80     79856\n",
            "\n",
            "    accuracy                           0.81    160000\n",
            "   macro avg       0.81      0.81      0.81    160000\n",
            "weighted avg       0.81      0.81      0.81    160000\n",
            "\n"
          ],
          "name": "stdout"
        }
      ]
    },
    {
      "cell_type": "code",
      "metadata": {
        "id": "Fm6Cgzm5hT7w"
      },
      "source": [
        "lstm = [0.81,0.81,0.81]\n",
        "lstm_m1 = [0.82,0.82,0.82]\n",
        "lstm_m2 = [0.79,0.79,0.79]\n",
        "lstm_m3 = [0.81,0.81,0.81]"
      ],
      "execution_count": 31,
      "outputs": []
    },
    {
      "cell_type": "code",
      "metadata": {
        "colab": {
          "base_uri": "https://localhost:8080/"
        },
        "id": "LBbxAJwRIhWa",
        "outputId": "41335d1f-d032-451f-9307-09a927fa3ad3"
      },
      "source": [
        "comp = {'Parameter': ['Percision', 'Recall', 'F1 Score'],\n",
        "        'LSTM': [lstm[0], lstm[1], lstm[2]], \n",
        "        'LSTM - 1': [lstm_m1[0], lstm_m1[1], lstm_m1[2]], \n",
        "        'LSTM - 2 ': [lstm_m2[0], lstm_m2[1], lstm_m2[2]], \n",
        "        'LSTM - 3': [lstm_m3[0], lstm_m3[1], lstm_m3[2]]}\n",
        "df = pd.DataFrame(data=comp)\n",
        "\n",
        "print(df)"
      ],
      "execution_count": 33,
      "outputs": [
        {
          "output_type": "stream",
          "text": [
            "   Parameter  LSTM  LSTM - 1  LSTM - 2   LSTM - 3\n",
            "0  Percision  0.81      0.82       0.79      0.81\n",
            "1     Recall  0.81      0.82       0.79      0.81\n",
            "2   F1 Score  0.81      0.82       0.79      0.81\n"
          ],
          "name": "stdout"
        }
      ]
    },
    {
      "cell_type": "markdown",
      "metadata": {
        "id": "qWaaj6P4hItT"
      },
      "source": [
        "#### Did this change the results in any way? Why do you think so?\n",
        "\n",
        "\n"
      ]
    },
    {
      "cell_type": "markdown",
      "metadata": {
        "id": "lhm8DP8wL3YU"
      },
      "source": [
        "By increasing the training data size to 90%, the performance of LSTM has improved because the number of tweets in training dataset are more. \n",
        "\n",
        "By removing stop words, the performace didn't improve. This might be because these stop words are adding meaning to the sentiment and by removing them the model isn't able to understand the tweets better.\n",
        "\n",
        "Finally, by removing handle names from the tweet the performance remained nearly the same.\n",
        "\n",
        "If we increase the number of epochs, we might be able to see the actual metrics or affects of these preprocessing steps.\n"
      ]
    }
  ]
}